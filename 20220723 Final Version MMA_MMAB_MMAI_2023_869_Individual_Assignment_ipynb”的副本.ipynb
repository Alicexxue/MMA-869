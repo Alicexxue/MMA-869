{
  "nbformat": 4,
  "nbformat_minor": 0,
  "metadata": {
    "kernelspec": {
      "name": "python3",
      "display_name": "Python 3"
    },
    "colab": {
      "name": "“MMA//MMAB/MMAI 2023 869 Individual Assignment.ipynb”的副本",
      "provenance": [],
      "collapsed_sections": [],
      "include_colab_link": true
    }
  },
  "cells": [
    {
      "cell_type": "markdown",
      "metadata": {
        "id": "view-in-github",
        "colab_type": "text"
      },
      "source": [
        "<a href=\"https://colab.research.google.com/github/Alicexxue/MMA-869/blob/main/20220723%20Final%20Version%20MMA_MMAB_MMAI_2023_869_Individual_Assignment_ipynb%E2%80%9D%E7%9A%84%E5%89%AF%E6%9C%AC.ipynb\" target=\"_parent\"><img src=\"https://colab.research.google.com/assets/colab-badge.svg\" alt=\"Open In Colab\"/></a>"
      ]
    },
    {
      "cell_type": "markdown",
      "metadata": {
        "id": "HKmorPdno_n_"
      },
      "source": [
        "# MMA/MMAB/MMAI 869 2023: Individual Assignment\n",
        "\n",
        "Version 1: Updated May 16, 2022\n",
        "\n",
        "<font color='red'>\\# TODO: fill in the below</font>\n",
        "\n",
        "- [LIWEI, XUE]\n",
        "- [20317080]\n",
        "- [MMA-B 2023]\n",
        "- [HarryPotter]\n",
        "- [2022/07/23]"
      ]
    },
    {
      "cell_type": "markdown",
      "metadata": {
        "id": "emfFtv4aHBI1"
      },
      "source": [
        "# Assignment Instructions\n",
        "\n",
        "This assignment contains four questions. The questions are fully contained in this Google Colab Notebook. \n",
        "\n",
        "You are to make a copy of this Notebook and edit the copy to provide your answers. You are to complete the assignment entirely within Google Colab. Why?\n",
        "\n",
        "- It gives you practice using cloud-based interactive notebook environments (which is a popular workflow)\n",
        "- It is easier for you to manage the environment (e.g., installing packages, etc.)\n",
        "- Google Colab has nice, beefy machines, so you don't have to worry about running out of memory on your local computer.\n",
        "- It will be easier for the TA to help you debug your code if you need help\n",
        "- It will be easier for the TA to mark/run your code\n",
        "\n",
        "Some parts of this assigment require you to write code. Use Python or R. For Python, you may use standard Python libraries, including `scikit-learn`, `pandas`, `numpy`, and `scipy`. For R, you may use `dplyr`, `caret`, `ggplot2`, `rpart` and other standard libraries.\n",
        "\n",
        "Some parts of this assignment require text responses. In these cases, type your response in the Notebook cell indicated. Use English. Use proper grammar, spelling, and punctuation. Be professional and clear. Be complete, but not overly-verbose. Feel free to use [Markdown syntax](https://www.markdownguide.org/basic-syntax/) to format your answer (i.e., add bold, italics, lists, tables).\n",
        "\n",
        "## What to Submit to the Course Portal\n",
        "\n",
        "- Export your completed Notebook as a PDF file by clicking File->Print->Save as PDF.\n",
        "- Please do not submit the Notebook file (`.ipynb`) to the course portal. \n",
        "- Please submit the PDF export of the Notebook. \n",
        "   - Please name the PDF file `2022_869_FirstnameLastName.pdf`\n",
        "      - E.g., `2022_869_StephenThomas.pdf`\n",
        "   - Please make sure you have run all the cells so we can see the output!\n",
        "   - Best practice: Before exporting to PDF click Runtime->Restart and run all.\n",
        "\n"
      ]
    },
    {
      "cell_type": "markdown",
      "metadata": {
        "id": "oZFTCX4DqmRO"
      },
      "source": [
        "# Preliminaries: Inspect and Set up environment\n",
        "\n",
        "No action is required on your part in this section. These cells print out helpful information about the environment, just in case."
      ]
    },
    {
      "cell_type": "code",
      "metadata": {
        "id": "xj34Jz-Do_oK"
      },
      "source": [
        "import datetime\n",
        "import pandas as pd\n",
        "import numpy as np"
      ],
      "execution_count": 1,
      "outputs": []
    },
    {
      "cell_type": "code",
      "metadata": {
        "id": "mqQ_XOKyXTS6",
        "colab": {
          "base_uri": "https://localhost:8080/",
          "height": 0
        },
        "outputId": "c8840fe0-c19d-468a-e236-1a4977549b40"
      },
      "source": [
        "print(datetime.datetime.now())"
      ],
      "execution_count": 2,
      "outputs": [
        {
          "output_type": "stream",
          "name": "stdout",
          "text": [
            "2022-07-23 07:10:36.699450\n"
          ]
        }
      ]
    },
    {
      "cell_type": "code",
      "metadata": {
        "colab": {
          "base_uri": "https://localhost:8080/",
          "height": 0
        },
        "id": "LfOMt1lErLhZ",
        "outputId": "96f82417-4db4-46de-c96a-c79d61bf73b0"
      },
      "source": [
        "!which python"
      ],
      "execution_count": 3,
      "outputs": [
        {
          "output_type": "stream",
          "name": "stdout",
          "text": [
            "/usr/local/bin/python\n"
          ]
        }
      ]
    },
    {
      "cell_type": "code",
      "metadata": {
        "colab": {
          "base_uri": "https://localhost:8080/",
          "height": 0
        },
        "id": "aub2w1-arM5K",
        "outputId": "ef1850ed-156e-4c29-cb88-23592f496039"
      },
      "source": [
        "!python --version"
      ],
      "execution_count": 4,
      "outputs": [
        {
          "output_type": "stream",
          "name": "stdout",
          "text": [
            "Python 3.7.13\n"
          ]
        }
      ]
    },
    {
      "cell_type": "code",
      "metadata": {
        "colab": {
          "base_uri": "https://localhost:8080/",
          "height": 0
        },
        "id": "E9Y_n_8UrO9i",
        "outputId": "fa136170-8da2-4a40-d740-f025df4d8c31"
      },
      "source": [
        "!echo $PYTHONPATH"
      ],
      "execution_count": 5,
      "outputs": [
        {
          "output_type": "stream",
          "name": "stdout",
          "text": [
            "/env/python\n"
          ]
        }
      ]
    },
    {
      "cell_type": "code",
      "metadata": {
        "id": "-qyD7Jl0Gw1E"
      },
      "source": [
        "# TODO: install any packages you need to here. For example:\n",
        "#pip install unidecode"
      ],
      "execution_count": 6,
      "outputs": []
    },
    {
      "cell_type": "markdown",
      "metadata": {
        "id": "RLlBjIyS2o54"
      },
      "source": [
        "# Question 1: Uncle Steve's Diamonds"
      ]
    },
    {
      "cell_type": "markdown",
      "metadata": {
        "id": "qj1NSQelo_oN"
      },
      "source": [
        "## Instructions\n",
        "\n",
        "You work at a local jewelry store named *Uncle Steve's Diamonds*. You started as a janitor, but you’ve recently been promoted to senior data analyst! Congratulations.\n",
        "\n",
        "Uncle Steve, the store's owner, needs to better understand the store's customers. In particular, he wants to know what kind of customers shop at the store. He wants to know the main types of *customer personas*. Once he knows these, he will contemplate ways to better market to each persona, better satisfy each persona, better cater to each persona, increase the loyalty of each persona, etc. But first, he must know the personas.\n",
        "\n",
        "You want to help Uncle Steve. Using sneaky magic (and the help of Environics), you've collected four useful features for a subset of the customers: age, income, spending score (i.e., a score based on how much they’ve spent at the store in total), and savings (i.e., how much money they have in their personal bank account). \n",
        "\n",
        "**Your tasks**\n",
        "\n",
        "1. Pick a clustering algorithm (the [`sklearn.cluster`](https://scikit-learn.org/stable/modules/classes.html#module-sklearn.cluster) module has many good choices, including [`KMeans`](https://scikit-learn.org/stable/modules/generated/sklearn.cluster.KMeans.html#sklearn.cluster.KMeans), [`DBSCAN`](https://scikit-learn.org/stable/modules/generated/sklearn.cluster.DBSCAN.html#sklearn.cluster.DBSCAN), and [`AgglomerativeClustering`](https://scikit-learn.org/stable/modules/generated/sklearn.cluster.AgglomerativeClustering.html#sklearn.cluster.AgglomerativeClustering) (aka Hierarchical)). (Note that another popular implementation of the hierarchical algorithm can be found in SciPy's [`scipy.cluster.hierarchy.linkage`](https://docs.scipy.org/doc/scipy/reference/generated/scipy.cluster.hierarchy.linkage.html).) Don't spend a lot of time thinking about which algorithm to choose - just pick one. Cluster the customers as best as you can, within reason. That is, try different feature preprocessing steps, hyperparameter values, and/or distance metrics. You don't need to try every posssible combination, but try a few at least. Measure how good each  model configuration is by calculating an internal validation metric (e.g., [`calinski_harabasz_score`](https://scikit-learn.org/stable/modules/generated/sklearn.metrics.calinski_harabasz_score.html) or [`silhouette_score`](https://scikit-learn.org/stable/modules/generated/sklearn.metrics.silhouette_score.html#sklearn.metrics.silhouette_score)).\n",
        "2. You have some doubts - you're not sure if the algorithm you chose in part 1 is the best algorithm for this dataset/problem. Neither is Uncle Steve. So, choose a different algorithm (any!) and do it all again.\n",
        "3. Which clustering algorithm is \"better\" in this case? Think about charateristics of the algorithm like quality of results, ease of use, speed, interpretability, etc. Choose a \"winner\" and justify to Uncle Steve.\n",
        "4. Interpret the clusters of the winning model. That is, describe, in words, a *persona* that accurately depicts each cluster. Use statistics (e.g., cluster means/distributions), examples (e.g., exemplar instances from each cluster), and/or visualizations (e.g., relative importance plots, snakeplots) to get started. Human judgement and creativity will be necessary. This is where it all comes together. Be descriptive and *help Uncle Steve understand his customers better*. Please!\n",
        "\n",
        "**Marking**\n",
        "\n",
        "The coding parts (i.e., 1 and 2) will be marked based on:\n",
        "\n",
        "- *Correctness*. Code clearly and fully performs the task specified.\n",
        "- *Reproducibility*. Code is fully reproducible. I.e., you (and I) are able to run this Notebook again and again, from top to bottom, and get the same results each time.\n",
        "- *Style*. Code is organized. All parts commented with clear reasoning and rationale. No old code laying around. Code easy to follow.\n",
        "\n",
        "\n",
        "Parts 3 and 4 will be marked on:\n",
        "\n",
        "- *Quality*. Response is well-justified and convincing. Responses uses facts and data where possible.\n",
        "- *Style*. Response uses proper grammar, spelling, and punctuation. Response is clear and professional. Response is complete, but not overly-verbose. Response follows length guidelines.\n",
        "\n",
        "\n",
        "**Tips**\n",
        "\n",
        "- Since clustering is an unsupervised ML technique, you don't need to split the data into training/validation/test or anything like that. Phew!\n",
        "- On the flip side, since clustering is unsupervised, you will never know the \"true\" clusters, and so you will never know if a given algorithm is \"correct.\" There really is no notion of \"correctness\" - only \"usefullness.\"\n",
        "- Many online clustering tutorials (including some from Uncle Steve) create flashy visualizations of the clusters by plotting the instances on a 2-D graph and coloring each point by the cluster ID. This is really nice and all, but it can only work if your dataset only has exactly two features - no more, no less. This dataset has more than two features, so you cannot use this technique. (But that's OK - you don't need to use this technique.) \n",
        "- Must you use all four features in the clustering? Not necessarily, no. But \"throwing away\" quality data, for no reason, is unlikely to improve a model.\n",
        "- Some people have success applying a dimensionality reduction technique (like [`sklearn.decomposition.PCA`](https://scikit-learn.org/stable/modules/generated/sklearn.decomposition.PCA.html)) to the features before clustering. You may do this if you wish, although it may not be as helpful in this case because there are only four features to begin with.\n",
        "- If you apply a transformation (e.g., [`MinMaxScaler`](https://scikit-learn.org/stable/modules/generated/sklearn.preprocessing.MinMaxScaler.html) or [`StandardScaler`](https://scikit-learn.org/stable/modules/generated/sklearn.preprocessing.StandardScaler.html#sklearn.preprocessing.StandardScaler)) to the features before clustering, you may have difficulty interpretting the means of the clusters (e.g., what is a mean Age of 0.2234??). There are two options to fix this: first, you can always reverse a transformation with the `inverse_transform` method. Second, you can just use the original dataset (i.e., before any preprocessing) during the interpreation step.\n",
        "- You cannot change the distance metric for K-Means. (This is for theoretical reasons: K-Means only works/makes sense with Euclidean distance.)\n"
      ]
    },
    {
      "cell_type": "markdown",
      "metadata": {
        "id": "Yww0-vtpOw7z"
      },
      "source": [
        "## 1.0: Load data "
      ]
    },
    {
      "cell_type": "code",
      "metadata": {
        "colab": {
          "base_uri": "https://localhost:8080/",
          "height": 0
        },
        "id": "qVWx2c-DhQYo",
        "outputId": "f4c5949e-99d2-45aa-bc3e-8a3ed41b5dfd"
      },
      "source": [
        "# DO NOT MODIFY THIS CELL\n",
        "df1 = pd.read_csv(\"https://drive.google.com/uc?export=download&id=1thHDCwQK3GijytoSSZNekAsItN_FGHtm\")\n",
        "df1.info()\n",
        "col_names = df1.columns"
      ],
      "execution_count": 7,
      "outputs": [
        {
          "output_type": "stream",
          "name": "stdout",
          "text": [
            "<class 'pandas.core.frame.DataFrame'>\n",
            "RangeIndex: 505 entries, 0 to 504\n",
            "Data columns (total 4 columns):\n",
            " #   Column         Non-Null Count  Dtype  \n",
            "---  ------         --------------  -----  \n",
            " 0   Age            505 non-null    int64  \n",
            " 1   Income         505 non-null    int64  \n",
            " 2   SpendingScore  505 non-null    float64\n",
            " 3   Savings        505 non-null    float64\n",
            "dtypes: float64(2), int64(2)\n",
            "memory usage: 15.9 KB\n"
          ]
        }
      ]
    },
    {
      "cell_type": "code",
      "source": [
        "import pandas as pd\n",
        "import numpy as np\n",
        "\n",
        "import matplotlib.pyplot as plt\n",
        "\n",
        "from sklearn.metrics import silhouette_score, silhouette_samples\n",
        "from sklearn.preprocessing import StandardScaler\n",
        "from sklearn.cluster import KMeans, DBSCAN, AgglomerativeClustering\n",
        "from sklearn.mixture import GaussianMixture\n",
        "\n",
        "\n",
        "from IPython.core.interactiveshell import InteractiveShell\n",
        "InteractiveShell.ast_node_interactivity = \"all\""
      ],
      "metadata": {
        "id": "Ti_5akZBock3"
      },
      "execution_count": 8,
      "outputs": []
    },
    {
      "cell_type": "code",
      "source": [
        "list(df1)\n",
        "df1.shape\n",
        "df1.info()\n",
        "df1.describe().transpose()\n",
        "df1.head(n=10)\n",
        "df1.tail()"
      ],
      "metadata": {
        "colab": {
          "base_uri": "https://localhost:8080/",
          "height": 906
        },
        "id": "6_GTZhk4ocse",
        "outputId": "2b847774-dde1-49e9-dfaa-fb4b65984200"
      },
      "execution_count": 9,
      "outputs": [
        {
          "output_type": "execute_result",
          "data": {
            "text/plain": [
              "['Age', 'Income', 'SpendingScore', 'Savings']"
            ]
          },
          "metadata": {},
          "execution_count": 9
        },
        {
          "output_type": "execute_result",
          "data": {
            "text/plain": [
              "(505, 4)"
            ]
          },
          "metadata": {},
          "execution_count": 9
        },
        {
          "output_type": "stream",
          "name": "stdout",
          "text": [
            "<class 'pandas.core.frame.DataFrame'>\n",
            "RangeIndex: 505 entries, 0 to 504\n",
            "Data columns (total 4 columns):\n",
            " #   Column         Non-Null Count  Dtype  \n",
            "---  ------         --------------  -----  \n",
            " 0   Age            505 non-null    int64  \n",
            " 1   Income         505 non-null    int64  \n",
            " 2   SpendingScore  505 non-null    float64\n",
            " 3   Savings        505 non-null    float64\n",
            "dtypes: float64(2), int64(2)\n",
            "memory usage: 15.9 KB\n"
          ]
        },
        {
          "output_type": "execute_result",
          "data": {
            "text/plain": [
              "               count          mean           std      min           25%  \\\n",
              "Age            505.0     59.019802     24.140043     17.0     34.000000   \n",
              "Income         505.0  75513.291089  35992.922184  12000.0  34529.000000   \n",
              "SpendingScore  505.0      0.505083      0.259634      0.0      0.304792   \n",
              "Savings        505.0  11862.455867   4949.229253      0.0   6828.709702   \n",
              "\n",
              "                        50%            75%       max  \n",
              "Age               59.000000      85.000000      97.0  \n",
              "Income         75078.000000  107100.000000  142000.0  \n",
              "SpendingScore      0.368215       0.768279       1.0  \n",
              "Savings        14209.932802   16047.268331   20000.0  "
            ],
            "text/html": [
              "\n",
              "  <div id=\"df-88aa27a3-071e-4d6c-938d-9edd6a00ffd8\">\n",
              "    <div class=\"colab-df-container\">\n",
              "      <div>\n",
              "<style scoped>\n",
              "    .dataframe tbody tr th:only-of-type {\n",
              "        vertical-align: middle;\n",
              "    }\n",
              "\n",
              "    .dataframe tbody tr th {\n",
              "        vertical-align: top;\n",
              "    }\n",
              "\n",
              "    .dataframe thead th {\n",
              "        text-align: right;\n",
              "    }\n",
              "</style>\n",
              "<table border=\"1\" class=\"dataframe\">\n",
              "  <thead>\n",
              "    <tr style=\"text-align: right;\">\n",
              "      <th></th>\n",
              "      <th>count</th>\n",
              "      <th>mean</th>\n",
              "      <th>std</th>\n",
              "      <th>min</th>\n",
              "      <th>25%</th>\n",
              "      <th>50%</th>\n",
              "      <th>75%</th>\n",
              "      <th>max</th>\n",
              "    </tr>\n",
              "  </thead>\n",
              "  <tbody>\n",
              "    <tr>\n",
              "      <th>Age</th>\n",
              "      <td>505.0</td>\n",
              "      <td>59.019802</td>\n",
              "      <td>24.140043</td>\n",
              "      <td>17.0</td>\n",
              "      <td>34.000000</td>\n",
              "      <td>59.000000</td>\n",
              "      <td>85.000000</td>\n",
              "      <td>97.0</td>\n",
              "    </tr>\n",
              "    <tr>\n",
              "      <th>Income</th>\n",
              "      <td>505.0</td>\n",
              "      <td>75513.291089</td>\n",
              "      <td>35992.922184</td>\n",
              "      <td>12000.0</td>\n",
              "      <td>34529.000000</td>\n",
              "      <td>75078.000000</td>\n",
              "      <td>107100.000000</td>\n",
              "      <td>142000.0</td>\n",
              "    </tr>\n",
              "    <tr>\n",
              "      <th>SpendingScore</th>\n",
              "      <td>505.0</td>\n",
              "      <td>0.505083</td>\n",
              "      <td>0.259634</td>\n",
              "      <td>0.0</td>\n",
              "      <td>0.304792</td>\n",
              "      <td>0.368215</td>\n",
              "      <td>0.768279</td>\n",
              "      <td>1.0</td>\n",
              "    </tr>\n",
              "    <tr>\n",
              "      <th>Savings</th>\n",
              "      <td>505.0</td>\n",
              "      <td>11862.455867</td>\n",
              "      <td>4949.229253</td>\n",
              "      <td>0.0</td>\n",
              "      <td>6828.709702</td>\n",
              "      <td>14209.932802</td>\n",
              "      <td>16047.268331</td>\n",
              "      <td>20000.0</td>\n",
              "    </tr>\n",
              "  </tbody>\n",
              "</table>\n",
              "</div>\n",
              "      <button class=\"colab-df-convert\" onclick=\"convertToInteractive('df-88aa27a3-071e-4d6c-938d-9edd6a00ffd8')\"\n",
              "              title=\"Convert this dataframe to an interactive table.\"\n",
              "              style=\"display:none;\">\n",
              "        \n",
              "  <svg xmlns=\"http://www.w3.org/2000/svg\" height=\"24px\"viewBox=\"0 0 24 24\"\n",
              "       width=\"24px\">\n",
              "    <path d=\"M0 0h24v24H0V0z\" fill=\"none\"/>\n",
              "    <path d=\"M18.56 5.44l.94 2.06.94-2.06 2.06-.94-2.06-.94-.94-2.06-.94 2.06-2.06.94zm-11 1L8.5 8.5l.94-2.06 2.06-.94-2.06-.94L8.5 2.5l-.94 2.06-2.06.94zm10 10l.94 2.06.94-2.06 2.06-.94-2.06-.94-.94-2.06-.94 2.06-2.06.94z\"/><path d=\"M17.41 7.96l-1.37-1.37c-.4-.4-.92-.59-1.43-.59-.52 0-1.04.2-1.43.59L10.3 9.45l-7.72 7.72c-.78.78-.78 2.05 0 2.83L4 21.41c.39.39.9.59 1.41.59.51 0 1.02-.2 1.41-.59l7.78-7.78 2.81-2.81c.8-.78.8-2.07 0-2.86zM5.41 20L4 18.59l7.72-7.72 1.47 1.35L5.41 20z\"/>\n",
              "  </svg>\n",
              "      </button>\n",
              "      \n",
              "  <style>\n",
              "    .colab-df-container {\n",
              "      display:flex;\n",
              "      flex-wrap:wrap;\n",
              "      gap: 12px;\n",
              "    }\n",
              "\n",
              "    .colab-df-convert {\n",
              "      background-color: #E8F0FE;\n",
              "      border: none;\n",
              "      border-radius: 50%;\n",
              "      cursor: pointer;\n",
              "      display: none;\n",
              "      fill: #1967D2;\n",
              "      height: 32px;\n",
              "      padding: 0 0 0 0;\n",
              "      width: 32px;\n",
              "    }\n",
              "\n",
              "    .colab-df-convert:hover {\n",
              "      background-color: #E2EBFA;\n",
              "      box-shadow: 0px 1px 2px rgba(60, 64, 67, 0.3), 0px 1px 3px 1px rgba(60, 64, 67, 0.15);\n",
              "      fill: #174EA6;\n",
              "    }\n",
              "\n",
              "    [theme=dark] .colab-df-convert {\n",
              "      background-color: #3B4455;\n",
              "      fill: #D2E3FC;\n",
              "    }\n",
              "\n",
              "    [theme=dark] .colab-df-convert:hover {\n",
              "      background-color: #434B5C;\n",
              "      box-shadow: 0px 1px 3px 1px rgba(0, 0, 0, 0.15);\n",
              "      filter: drop-shadow(0px 1px 2px rgba(0, 0, 0, 0.3));\n",
              "      fill: #FFFFFF;\n",
              "    }\n",
              "  </style>\n",
              "\n",
              "      <script>\n",
              "        const buttonEl =\n",
              "          document.querySelector('#df-88aa27a3-071e-4d6c-938d-9edd6a00ffd8 button.colab-df-convert');\n",
              "        buttonEl.style.display =\n",
              "          google.colab.kernel.accessAllowed ? 'block' : 'none';\n",
              "\n",
              "        async function convertToInteractive(key) {\n",
              "          const element = document.querySelector('#df-88aa27a3-071e-4d6c-938d-9edd6a00ffd8');\n",
              "          const dataTable =\n",
              "            await google.colab.kernel.invokeFunction('convertToInteractive',\n",
              "                                                     [key], {});\n",
              "          if (!dataTable) return;\n",
              "\n",
              "          const docLinkHtml = 'Like what you see? Visit the ' +\n",
              "            '<a target=\"_blank\" href=https://colab.research.google.com/notebooks/data_table.ipynb>data table notebook</a>'\n",
              "            + ' to learn more about interactive tables.';\n",
              "          element.innerHTML = '';\n",
              "          dataTable['output_type'] = 'display_data';\n",
              "          await google.colab.output.renderOutput(dataTable, element);\n",
              "          const docLink = document.createElement('div');\n",
              "          docLink.innerHTML = docLinkHtml;\n",
              "          element.appendChild(docLink);\n",
              "        }\n",
              "      </script>\n",
              "    </div>\n",
              "  </div>\n",
              "  "
            ]
          },
          "metadata": {},
          "execution_count": 9
        },
        {
          "output_type": "execute_result",
          "data": {
            "text/plain": [
              "   Age  Income  SpendingScore       Savings\n",
              "0   58   77769       0.791329   6559.829923\n",
              "1   59   81799       0.791082   5417.661426\n",
              "2   62   74751       0.702657   9258.992965\n",
              "3   59   74373       0.765680   7346.334504\n",
              "4   87   17760       0.348778  16869.507130\n",
              "5   29  131578       0.847034   3535.514352\n",
              "6   54   76500       0.785198   6878.884249\n",
              "7   87   42592       0.355290  18086.287158\n",
              "8   83   34384       0.324719  14783.379086\n",
              "9   84   27693       0.367063  17879.558906"
            ],
            "text/html": [
              "\n",
              "  <div id=\"df-7a9b5c0b-0278-4ebc-918d-23735c2412f7\">\n",
              "    <div class=\"colab-df-container\">\n",
              "      <div>\n",
              "<style scoped>\n",
              "    .dataframe tbody tr th:only-of-type {\n",
              "        vertical-align: middle;\n",
              "    }\n",
              "\n",
              "    .dataframe tbody tr th {\n",
              "        vertical-align: top;\n",
              "    }\n",
              "\n",
              "    .dataframe thead th {\n",
              "        text-align: right;\n",
              "    }\n",
              "</style>\n",
              "<table border=\"1\" class=\"dataframe\">\n",
              "  <thead>\n",
              "    <tr style=\"text-align: right;\">\n",
              "      <th></th>\n",
              "      <th>Age</th>\n",
              "      <th>Income</th>\n",
              "      <th>SpendingScore</th>\n",
              "      <th>Savings</th>\n",
              "    </tr>\n",
              "  </thead>\n",
              "  <tbody>\n",
              "    <tr>\n",
              "      <th>0</th>\n",
              "      <td>58</td>\n",
              "      <td>77769</td>\n",
              "      <td>0.791329</td>\n",
              "      <td>6559.829923</td>\n",
              "    </tr>\n",
              "    <tr>\n",
              "      <th>1</th>\n",
              "      <td>59</td>\n",
              "      <td>81799</td>\n",
              "      <td>0.791082</td>\n",
              "      <td>5417.661426</td>\n",
              "    </tr>\n",
              "    <tr>\n",
              "      <th>2</th>\n",
              "      <td>62</td>\n",
              "      <td>74751</td>\n",
              "      <td>0.702657</td>\n",
              "      <td>9258.992965</td>\n",
              "    </tr>\n",
              "    <tr>\n",
              "      <th>3</th>\n",
              "      <td>59</td>\n",
              "      <td>74373</td>\n",
              "      <td>0.765680</td>\n",
              "      <td>7346.334504</td>\n",
              "    </tr>\n",
              "    <tr>\n",
              "      <th>4</th>\n",
              "      <td>87</td>\n",
              "      <td>17760</td>\n",
              "      <td>0.348778</td>\n",
              "      <td>16869.507130</td>\n",
              "    </tr>\n",
              "    <tr>\n",
              "      <th>5</th>\n",
              "      <td>29</td>\n",
              "      <td>131578</td>\n",
              "      <td>0.847034</td>\n",
              "      <td>3535.514352</td>\n",
              "    </tr>\n",
              "    <tr>\n",
              "      <th>6</th>\n",
              "      <td>54</td>\n",
              "      <td>76500</td>\n",
              "      <td>0.785198</td>\n",
              "      <td>6878.884249</td>\n",
              "    </tr>\n",
              "    <tr>\n",
              "      <th>7</th>\n",
              "      <td>87</td>\n",
              "      <td>42592</td>\n",
              "      <td>0.355290</td>\n",
              "      <td>18086.287158</td>\n",
              "    </tr>\n",
              "    <tr>\n",
              "      <th>8</th>\n",
              "      <td>83</td>\n",
              "      <td>34384</td>\n",
              "      <td>0.324719</td>\n",
              "      <td>14783.379086</td>\n",
              "    </tr>\n",
              "    <tr>\n",
              "      <th>9</th>\n",
              "      <td>84</td>\n",
              "      <td>27693</td>\n",
              "      <td>0.367063</td>\n",
              "      <td>17879.558906</td>\n",
              "    </tr>\n",
              "  </tbody>\n",
              "</table>\n",
              "</div>\n",
              "      <button class=\"colab-df-convert\" onclick=\"convertToInteractive('df-7a9b5c0b-0278-4ebc-918d-23735c2412f7')\"\n",
              "              title=\"Convert this dataframe to an interactive table.\"\n",
              "              style=\"display:none;\">\n",
              "        \n",
              "  <svg xmlns=\"http://www.w3.org/2000/svg\" height=\"24px\"viewBox=\"0 0 24 24\"\n",
              "       width=\"24px\">\n",
              "    <path d=\"M0 0h24v24H0V0z\" fill=\"none\"/>\n",
              "    <path d=\"M18.56 5.44l.94 2.06.94-2.06 2.06-.94-2.06-.94-.94-2.06-.94 2.06-2.06.94zm-11 1L8.5 8.5l.94-2.06 2.06-.94-2.06-.94L8.5 2.5l-.94 2.06-2.06.94zm10 10l.94 2.06.94-2.06 2.06-.94-2.06-.94-.94-2.06-.94 2.06-2.06.94z\"/><path d=\"M17.41 7.96l-1.37-1.37c-.4-.4-.92-.59-1.43-.59-.52 0-1.04.2-1.43.59L10.3 9.45l-7.72 7.72c-.78.78-.78 2.05 0 2.83L4 21.41c.39.39.9.59 1.41.59.51 0 1.02-.2 1.41-.59l7.78-7.78 2.81-2.81c.8-.78.8-2.07 0-2.86zM5.41 20L4 18.59l7.72-7.72 1.47 1.35L5.41 20z\"/>\n",
              "  </svg>\n",
              "      </button>\n",
              "      \n",
              "  <style>\n",
              "    .colab-df-container {\n",
              "      display:flex;\n",
              "      flex-wrap:wrap;\n",
              "      gap: 12px;\n",
              "    }\n",
              "\n",
              "    .colab-df-convert {\n",
              "      background-color: #E8F0FE;\n",
              "      border: none;\n",
              "      border-radius: 50%;\n",
              "      cursor: pointer;\n",
              "      display: none;\n",
              "      fill: #1967D2;\n",
              "      height: 32px;\n",
              "      padding: 0 0 0 0;\n",
              "      width: 32px;\n",
              "    }\n",
              "\n",
              "    .colab-df-convert:hover {\n",
              "      background-color: #E2EBFA;\n",
              "      box-shadow: 0px 1px 2px rgba(60, 64, 67, 0.3), 0px 1px 3px 1px rgba(60, 64, 67, 0.15);\n",
              "      fill: #174EA6;\n",
              "    }\n",
              "\n",
              "    [theme=dark] .colab-df-convert {\n",
              "      background-color: #3B4455;\n",
              "      fill: #D2E3FC;\n",
              "    }\n",
              "\n",
              "    [theme=dark] .colab-df-convert:hover {\n",
              "      background-color: #434B5C;\n",
              "      box-shadow: 0px 1px 3px 1px rgba(0, 0, 0, 0.15);\n",
              "      filter: drop-shadow(0px 1px 2px rgba(0, 0, 0, 0.3));\n",
              "      fill: #FFFFFF;\n",
              "    }\n",
              "  </style>\n",
              "\n",
              "      <script>\n",
              "        const buttonEl =\n",
              "          document.querySelector('#df-7a9b5c0b-0278-4ebc-918d-23735c2412f7 button.colab-df-convert');\n",
              "        buttonEl.style.display =\n",
              "          google.colab.kernel.accessAllowed ? 'block' : 'none';\n",
              "\n",
              "        async function convertToInteractive(key) {\n",
              "          const element = document.querySelector('#df-7a9b5c0b-0278-4ebc-918d-23735c2412f7');\n",
              "          const dataTable =\n",
              "            await google.colab.kernel.invokeFunction('convertToInteractive',\n",
              "                                                     [key], {});\n",
              "          if (!dataTable) return;\n",
              "\n",
              "          const docLinkHtml = 'Like what you see? Visit the ' +\n",
              "            '<a target=\"_blank\" href=https://colab.research.google.com/notebooks/data_table.ipynb>data table notebook</a>'\n",
              "            + ' to learn more about interactive tables.';\n",
              "          element.innerHTML = '';\n",
              "          dataTable['output_type'] = 'display_data';\n",
              "          await google.colab.output.renderOutput(dataTable, element);\n",
              "          const docLink = document.createElement('div');\n",
              "          docLink.innerHTML = docLinkHtml;\n",
              "          element.appendChild(docLink);\n",
              "        }\n",
              "      </script>\n",
              "    </div>\n",
              "  </div>\n",
              "  "
            ]
          },
          "metadata": {},
          "execution_count": 9
        },
        {
          "output_type": "execute_result",
          "data": {
            "text/plain": [
              "     Age  Income  SpendingScore       Savings\n",
              "500   28  101206       0.387441  14936.775389\n",
              "501   93   19934       0.203140  17969.693769\n",
              "502   90   35297       0.355149  16091.401954\n",
              "503   91   20681       0.354679  18401.088445\n",
              "504   89   30267       0.289310  14386.351880"
            ],
            "text/html": [
              "\n",
              "  <div id=\"df-808d4154-2397-45c8-af9d-1291a21edc63\">\n",
              "    <div class=\"colab-df-container\">\n",
              "      <div>\n",
              "<style scoped>\n",
              "    .dataframe tbody tr th:only-of-type {\n",
              "        vertical-align: middle;\n",
              "    }\n",
              "\n",
              "    .dataframe tbody tr th {\n",
              "        vertical-align: top;\n",
              "    }\n",
              "\n",
              "    .dataframe thead th {\n",
              "        text-align: right;\n",
              "    }\n",
              "</style>\n",
              "<table border=\"1\" class=\"dataframe\">\n",
              "  <thead>\n",
              "    <tr style=\"text-align: right;\">\n",
              "      <th></th>\n",
              "      <th>Age</th>\n",
              "      <th>Income</th>\n",
              "      <th>SpendingScore</th>\n",
              "      <th>Savings</th>\n",
              "    </tr>\n",
              "  </thead>\n",
              "  <tbody>\n",
              "    <tr>\n",
              "      <th>500</th>\n",
              "      <td>28</td>\n",
              "      <td>101206</td>\n",
              "      <td>0.387441</td>\n",
              "      <td>14936.775389</td>\n",
              "    </tr>\n",
              "    <tr>\n",
              "      <th>501</th>\n",
              "      <td>93</td>\n",
              "      <td>19934</td>\n",
              "      <td>0.203140</td>\n",
              "      <td>17969.693769</td>\n",
              "    </tr>\n",
              "    <tr>\n",
              "      <th>502</th>\n",
              "      <td>90</td>\n",
              "      <td>35297</td>\n",
              "      <td>0.355149</td>\n",
              "      <td>16091.401954</td>\n",
              "    </tr>\n",
              "    <tr>\n",
              "      <th>503</th>\n",
              "      <td>91</td>\n",
              "      <td>20681</td>\n",
              "      <td>0.354679</td>\n",
              "      <td>18401.088445</td>\n",
              "    </tr>\n",
              "    <tr>\n",
              "      <th>504</th>\n",
              "      <td>89</td>\n",
              "      <td>30267</td>\n",
              "      <td>0.289310</td>\n",
              "      <td>14386.351880</td>\n",
              "    </tr>\n",
              "  </tbody>\n",
              "</table>\n",
              "</div>\n",
              "      <button class=\"colab-df-convert\" onclick=\"convertToInteractive('df-808d4154-2397-45c8-af9d-1291a21edc63')\"\n",
              "              title=\"Convert this dataframe to an interactive table.\"\n",
              "              style=\"display:none;\">\n",
              "        \n",
              "  <svg xmlns=\"http://www.w3.org/2000/svg\" height=\"24px\"viewBox=\"0 0 24 24\"\n",
              "       width=\"24px\">\n",
              "    <path d=\"M0 0h24v24H0V0z\" fill=\"none\"/>\n",
              "    <path d=\"M18.56 5.44l.94 2.06.94-2.06 2.06-.94-2.06-.94-.94-2.06-.94 2.06-2.06.94zm-11 1L8.5 8.5l.94-2.06 2.06-.94-2.06-.94L8.5 2.5l-.94 2.06-2.06.94zm10 10l.94 2.06.94-2.06 2.06-.94-2.06-.94-.94-2.06-.94 2.06-2.06.94z\"/><path d=\"M17.41 7.96l-1.37-1.37c-.4-.4-.92-.59-1.43-.59-.52 0-1.04.2-1.43.59L10.3 9.45l-7.72 7.72c-.78.78-.78 2.05 0 2.83L4 21.41c.39.39.9.59 1.41.59.51 0 1.02-.2 1.41-.59l7.78-7.78 2.81-2.81c.8-.78.8-2.07 0-2.86zM5.41 20L4 18.59l7.72-7.72 1.47 1.35L5.41 20z\"/>\n",
              "  </svg>\n",
              "      </button>\n",
              "      \n",
              "  <style>\n",
              "    .colab-df-container {\n",
              "      display:flex;\n",
              "      flex-wrap:wrap;\n",
              "      gap: 12px;\n",
              "    }\n",
              "\n",
              "    .colab-df-convert {\n",
              "      background-color: #E8F0FE;\n",
              "      border: none;\n",
              "      border-radius: 50%;\n",
              "      cursor: pointer;\n",
              "      display: none;\n",
              "      fill: #1967D2;\n",
              "      height: 32px;\n",
              "      padding: 0 0 0 0;\n",
              "      width: 32px;\n",
              "    }\n",
              "\n",
              "    .colab-df-convert:hover {\n",
              "      background-color: #E2EBFA;\n",
              "      box-shadow: 0px 1px 2px rgba(60, 64, 67, 0.3), 0px 1px 3px 1px rgba(60, 64, 67, 0.15);\n",
              "      fill: #174EA6;\n",
              "    }\n",
              "\n",
              "    [theme=dark] .colab-df-convert {\n",
              "      background-color: #3B4455;\n",
              "      fill: #D2E3FC;\n",
              "    }\n",
              "\n",
              "    [theme=dark] .colab-df-convert:hover {\n",
              "      background-color: #434B5C;\n",
              "      box-shadow: 0px 1px 3px 1px rgba(0, 0, 0, 0.15);\n",
              "      filter: drop-shadow(0px 1px 2px rgba(0, 0, 0, 0.3));\n",
              "      fill: #FFFFFF;\n",
              "    }\n",
              "  </style>\n",
              "\n",
              "      <script>\n",
              "        const buttonEl =\n",
              "          document.querySelector('#df-808d4154-2397-45c8-af9d-1291a21edc63 button.colab-df-convert');\n",
              "        buttonEl.style.display =\n",
              "          google.colab.kernel.accessAllowed ? 'block' : 'none';\n",
              "\n",
              "        async function convertToInteractive(key) {\n",
              "          const element = document.querySelector('#df-808d4154-2397-45c8-af9d-1291a21edc63');\n",
              "          const dataTable =\n",
              "            await google.colab.kernel.invokeFunction('convertToInteractive',\n",
              "                                                     [key], {});\n",
              "          if (!dataTable) return;\n",
              "\n",
              "          const docLinkHtml = 'Like what you see? Visit the ' +\n",
              "            '<a target=\"_blank\" href=https://colab.research.google.com/notebooks/data_table.ipynb>data table notebook</a>'\n",
              "            + ' to learn more about interactive tables.';\n",
              "          element.innerHTML = '';\n",
              "          dataTable['output_type'] = 'display_data';\n",
              "          await google.colab.output.renderOutput(dataTable, element);\n",
              "          const docLink = document.createElement('div');\n",
              "          docLink.innerHTML = docLinkHtml;\n",
              "          element.appendChild(docLink);\n",
              "        }\n",
              "      </script>\n",
              "    </div>\n",
              "  </div>\n",
              "  "
            ]
          },
          "metadata": {},
          "execution_count": 9
        }
      ]
    },
    {
      "cell_type": "code",
      "source": [
        "df1.isnull().sum()"
      ],
      "metadata": {
        "colab": {
          "base_uri": "https://localhost:8080/",
          "height": 0
        },
        "id": "E8SIoGRhocyq",
        "outputId": "e2cac940-f339-4f3a-9f24-8d208ce00a3e"
      },
      "execution_count": 10,
      "outputs": [
        {
          "output_type": "execute_result",
          "data": {
            "text/plain": [
              "Age              0\n",
              "Income           0\n",
              "SpendingScore    0\n",
              "Savings          0\n",
              "dtype: int64"
            ]
          },
          "metadata": {},
          "execution_count": 10
        }
      ]
    },
    {
      "cell_type": "code",
      "source": [
        "# Checking if there is any negative values\n",
        "df1.index[df1['Age'] < 0]\n",
        "df1.index[df1['Income'] < 0]\n",
        "df1.index[df1['SpendingScore'] < 0]\n",
        "df1.index[df1['Savings'] < 0]"
      ],
      "metadata": {
        "colab": {
          "base_uri": "https://localhost:8080/",
          "height": 0
        },
        "id": "xpIADFAXoj4h",
        "outputId": "4b1bf705-f56f-49c0-fe76-a602b7174040"
      },
      "execution_count": 11,
      "outputs": [
        {
          "output_type": "execute_result",
          "data": {
            "text/plain": [
              "Int64Index([], dtype='int64')"
            ]
          },
          "metadata": {},
          "execution_count": 11
        },
        {
          "output_type": "execute_result",
          "data": {
            "text/plain": [
              "Int64Index([], dtype='int64')"
            ]
          },
          "metadata": {},
          "execution_count": 11
        },
        {
          "output_type": "execute_result",
          "data": {
            "text/plain": [
              "Int64Index([], dtype='int64')"
            ]
          },
          "metadata": {},
          "execution_count": 11
        },
        {
          "output_type": "execute_result",
          "data": {
            "text/plain": [
              "Int64Index([], dtype='int64')"
            ]
          },
          "metadata": {},
          "execution_count": 11
        }
      ]
    },
    {
      "cell_type": "code",
      "source": [
        "#Normalize the data\n",
        "X = df1.copy()\n",
        "scaler = StandardScaler()\n",
        "features = ['Age', 'Income','SpendingScore','Savings']\n",
        "X[features] = scaler.fit_transform(X[features])"
      ],
      "metadata": {
        "id": "HvE0w1k7oj_Q"
      },
      "execution_count": 12,
      "outputs": []
    },
    {
      "cell_type": "code",
      "source": [
        "X.shape\n",
        "X.info()\n",
        "X.describe().transpose()\n",
        "X.head(10)\n",
        "X.tail()"
      ],
      "metadata": {
        "colab": {
          "base_uri": "https://localhost:8080/",
          "height": 906
        },
        "id": "byXytnqNokCp",
        "outputId": "60186434-c5b9-4e12-9ce8-edfa00423c19"
      },
      "execution_count": 13,
      "outputs": [
        {
          "output_type": "execute_result",
          "data": {
            "text/plain": [
              "(505, 4)"
            ]
          },
          "metadata": {},
          "execution_count": 13
        },
        {
          "output_type": "stream",
          "name": "stdout",
          "text": [
            "<class 'pandas.core.frame.DataFrame'>\n",
            "RangeIndex: 505 entries, 0 to 504\n",
            "Data columns (total 4 columns):\n",
            " #   Column         Non-Null Count  Dtype  \n",
            "---  ------         --------------  -----  \n",
            " 0   Age            505 non-null    float64\n",
            " 1   Income         505 non-null    float64\n",
            " 2   SpendingScore  505 non-null    float64\n",
            " 3   Savings        505 non-null    float64\n",
            "dtypes: float64(4)\n",
            "memory usage: 15.9 KB\n"
          ]
        },
        {
          "output_type": "execute_result",
          "data": {
            "text/plain": [
              "               count          mean       std       min       25%       50%  \\\n",
              "Age            505.0  6.683323e-17  1.000992 -1.742394 -1.037472 -0.000821   \n",
              "Income         505.0 -2.814031e-17  1.000992 -1.766355 -1.139805 -0.012106   \n",
              "SpendingScore  505.0 -2.814031e-16  1.000992 -1.947295 -0.772201 -0.527678   \n",
              "Savings        505.0 -3.939643e-16  1.000992 -2.399206 -1.018085  0.474782   \n",
              "\n",
              "                    75%       max  \n",
              "Age            1.077295  1.574888  \n",
              "Income         0.878451  1.849048  \n",
              "SpendingScore  1.014725  1.908103  \n",
              "Savings        0.846387  1.645835  "
            ],
            "text/html": [
              "\n",
              "  <div id=\"df-02b17699-5547-4bd8-bc9d-b2caf6c4c44a\">\n",
              "    <div class=\"colab-df-container\">\n",
              "      <div>\n",
              "<style scoped>\n",
              "    .dataframe tbody tr th:only-of-type {\n",
              "        vertical-align: middle;\n",
              "    }\n",
              "\n",
              "    .dataframe tbody tr th {\n",
              "        vertical-align: top;\n",
              "    }\n",
              "\n",
              "    .dataframe thead th {\n",
              "        text-align: right;\n",
              "    }\n",
              "</style>\n",
              "<table border=\"1\" class=\"dataframe\">\n",
              "  <thead>\n",
              "    <tr style=\"text-align: right;\">\n",
              "      <th></th>\n",
              "      <th>count</th>\n",
              "      <th>mean</th>\n",
              "      <th>std</th>\n",
              "      <th>min</th>\n",
              "      <th>25%</th>\n",
              "      <th>50%</th>\n",
              "      <th>75%</th>\n",
              "      <th>max</th>\n",
              "    </tr>\n",
              "  </thead>\n",
              "  <tbody>\n",
              "    <tr>\n",
              "      <th>Age</th>\n",
              "      <td>505.0</td>\n",
              "      <td>6.683323e-17</td>\n",
              "      <td>1.000992</td>\n",
              "      <td>-1.742394</td>\n",
              "      <td>-1.037472</td>\n",
              "      <td>-0.000821</td>\n",
              "      <td>1.077295</td>\n",
              "      <td>1.574888</td>\n",
              "    </tr>\n",
              "    <tr>\n",
              "      <th>Income</th>\n",
              "      <td>505.0</td>\n",
              "      <td>-2.814031e-17</td>\n",
              "      <td>1.000992</td>\n",
              "      <td>-1.766355</td>\n",
              "      <td>-1.139805</td>\n",
              "      <td>-0.012106</td>\n",
              "      <td>0.878451</td>\n",
              "      <td>1.849048</td>\n",
              "    </tr>\n",
              "    <tr>\n",
              "      <th>SpendingScore</th>\n",
              "      <td>505.0</td>\n",
              "      <td>-2.814031e-16</td>\n",
              "      <td>1.000992</td>\n",
              "      <td>-1.947295</td>\n",
              "      <td>-0.772201</td>\n",
              "      <td>-0.527678</td>\n",
              "      <td>1.014725</td>\n",
              "      <td>1.908103</td>\n",
              "    </tr>\n",
              "    <tr>\n",
              "      <th>Savings</th>\n",
              "      <td>505.0</td>\n",
              "      <td>-3.939643e-16</td>\n",
              "      <td>1.000992</td>\n",
              "      <td>-2.399206</td>\n",
              "      <td>-1.018085</td>\n",
              "      <td>0.474782</td>\n",
              "      <td>0.846387</td>\n",
              "      <td>1.645835</td>\n",
              "    </tr>\n",
              "  </tbody>\n",
              "</table>\n",
              "</div>\n",
              "      <button class=\"colab-df-convert\" onclick=\"convertToInteractive('df-02b17699-5547-4bd8-bc9d-b2caf6c4c44a')\"\n",
              "              title=\"Convert this dataframe to an interactive table.\"\n",
              "              style=\"display:none;\">\n",
              "        \n",
              "  <svg xmlns=\"http://www.w3.org/2000/svg\" height=\"24px\"viewBox=\"0 0 24 24\"\n",
              "       width=\"24px\">\n",
              "    <path d=\"M0 0h24v24H0V0z\" fill=\"none\"/>\n",
              "    <path d=\"M18.56 5.44l.94 2.06.94-2.06 2.06-.94-2.06-.94-.94-2.06-.94 2.06-2.06.94zm-11 1L8.5 8.5l.94-2.06 2.06-.94-2.06-.94L8.5 2.5l-.94 2.06-2.06.94zm10 10l.94 2.06.94-2.06 2.06-.94-2.06-.94-.94-2.06-.94 2.06-2.06.94z\"/><path d=\"M17.41 7.96l-1.37-1.37c-.4-.4-.92-.59-1.43-.59-.52 0-1.04.2-1.43.59L10.3 9.45l-7.72 7.72c-.78.78-.78 2.05 0 2.83L4 21.41c.39.39.9.59 1.41.59.51 0 1.02-.2 1.41-.59l7.78-7.78 2.81-2.81c.8-.78.8-2.07 0-2.86zM5.41 20L4 18.59l7.72-7.72 1.47 1.35L5.41 20z\"/>\n",
              "  </svg>\n",
              "      </button>\n",
              "      \n",
              "  <style>\n",
              "    .colab-df-container {\n",
              "      display:flex;\n",
              "      flex-wrap:wrap;\n",
              "      gap: 12px;\n",
              "    }\n",
              "\n",
              "    .colab-df-convert {\n",
              "      background-color: #E8F0FE;\n",
              "      border: none;\n",
              "      border-radius: 50%;\n",
              "      cursor: pointer;\n",
              "      display: none;\n",
              "      fill: #1967D2;\n",
              "      height: 32px;\n",
              "      padding: 0 0 0 0;\n",
              "      width: 32px;\n",
              "    }\n",
              "\n",
              "    .colab-df-convert:hover {\n",
              "      background-color: #E2EBFA;\n",
              "      box-shadow: 0px 1px 2px rgba(60, 64, 67, 0.3), 0px 1px 3px 1px rgba(60, 64, 67, 0.15);\n",
              "      fill: #174EA6;\n",
              "    }\n",
              "\n",
              "    [theme=dark] .colab-df-convert {\n",
              "      background-color: #3B4455;\n",
              "      fill: #D2E3FC;\n",
              "    }\n",
              "\n",
              "    [theme=dark] .colab-df-convert:hover {\n",
              "      background-color: #434B5C;\n",
              "      box-shadow: 0px 1px 3px 1px rgba(0, 0, 0, 0.15);\n",
              "      filter: drop-shadow(0px 1px 2px rgba(0, 0, 0, 0.3));\n",
              "      fill: #FFFFFF;\n",
              "    }\n",
              "  </style>\n",
              "\n",
              "      <script>\n",
              "        const buttonEl =\n",
              "          document.querySelector('#df-02b17699-5547-4bd8-bc9d-b2caf6c4c44a button.colab-df-convert');\n",
              "        buttonEl.style.display =\n",
              "          google.colab.kernel.accessAllowed ? 'block' : 'none';\n",
              "\n",
              "        async function convertToInteractive(key) {\n",
              "          const element = document.querySelector('#df-02b17699-5547-4bd8-bc9d-b2caf6c4c44a');\n",
              "          const dataTable =\n",
              "            await google.colab.kernel.invokeFunction('convertToInteractive',\n",
              "                                                     [key], {});\n",
              "          if (!dataTable) return;\n",
              "\n",
              "          const docLinkHtml = 'Like what you see? Visit the ' +\n",
              "            '<a target=\"_blank\" href=https://colab.research.google.com/notebooks/data_table.ipynb>data table notebook</a>'\n",
              "            + ' to learn more about interactive tables.';\n",
              "          element.innerHTML = '';\n",
              "          dataTable['output_type'] = 'display_data';\n",
              "          await google.colab.output.renderOutput(dataTable, element);\n",
              "          const docLink = document.createElement('div');\n",
              "          docLink.innerHTML = docLinkHtml;\n",
              "          element.appendChild(docLink);\n",
              "        }\n",
              "      </script>\n",
              "    </div>\n",
              "  </div>\n",
              "  "
            ]
          },
          "metadata": {},
          "execution_count": 13
        },
        {
          "output_type": "execute_result",
          "data": {
            "text/plain": [
              "        Age    Income  SpendingScore   Savings\n",
              "0 -0.042287  0.062733       1.103593 -1.072467\n",
              "1 -0.000821  0.174811       1.102641 -1.303473\n",
              "2  0.123577 -0.021200       0.761727 -0.526556\n",
              "3 -0.000821 -0.031712       1.004705 -0.913395\n",
              "4  1.160228 -1.606165      -0.602619  1.012686\n",
              "5 -1.244802  1.559204       1.318359 -1.684141\n",
              "6 -0.208151  0.027441       1.079955 -1.007937\n",
              "7  1.160228 -0.915567      -0.577512  1.258782\n",
              "8  0.994363 -1.143838      -0.695375  0.590763\n",
              "9  1.035829 -1.329920      -0.532121  1.216971"
            ],
            "text/html": [
              "\n",
              "  <div id=\"df-f099188c-40e1-4be6-b674-70aafeb547b5\">\n",
              "    <div class=\"colab-df-container\">\n",
              "      <div>\n",
              "<style scoped>\n",
              "    .dataframe tbody tr th:only-of-type {\n",
              "        vertical-align: middle;\n",
              "    }\n",
              "\n",
              "    .dataframe tbody tr th {\n",
              "        vertical-align: top;\n",
              "    }\n",
              "\n",
              "    .dataframe thead th {\n",
              "        text-align: right;\n",
              "    }\n",
              "</style>\n",
              "<table border=\"1\" class=\"dataframe\">\n",
              "  <thead>\n",
              "    <tr style=\"text-align: right;\">\n",
              "      <th></th>\n",
              "      <th>Age</th>\n",
              "      <th>Income</th>\n",
              "      <th>SpendingScore</th>\n",
              "      <th>Savings</th>\n",
              "    </tr>\n",
              "  </thead>\n",
              "  <tbody>\n",
              "    <tr>\n",
              "      <th>0</th>\n",
              "      <td>-0.042287</td>\n",
              "      <td>0.062733</td>\n",
              "      <td>1.103593</td>\n",
              "      <td>-1.072467</td>\n",
              "    </tr>\n",
              "    <tr>\n",
              "      <th>1</th>\n",
              "      <td>-0.000821</td>\n",
              "      <td>0.174811</td>\n",
              "      <td>1.102641</td>\n",
              "      <td>-1.303473</td>\n",
              "    </tr>\n",
              "    <tr>\n",
              "      <th>2</th>\n",
              "      <td>0.123577</td>\n",
              "      <td>-0.021200</td>\n",
              "      <td>0.761727</td>\n",
              "      <td>-0.526556</td>\n",
              "    </tr>\n",
              "    <tr>\n",
              "      <th>3</th>\n",
              "      <td>-0.000821</td>\n",
              "      <td>-0.031712</td>\n",
              "      <td>1.004705</td>\n",
              "      <td>-0.913395</td>\n",
              "    </tr>\n",
              "    <tr>\n",
              "      <th>4</th>\n",
              "      <td>1.160228</td>\n",
              "      <td>-1.606165</td>\n",
              "      <td>-0.602619</td>\n",
              "      <td>1.012686</td>\n",
              "    </tr>\n",
              "    <tr>\n",
              "      <th>5</th>\n",
              "      <td>-1.244802</td>\n",
              "      <td>1.559204</td>\n",
              "      <td>1.318359</td>\n",
              "      <td>-1.684141</td>\n",
              "    </tr>\n",
              "    <tr>\n",
              "      <th>6</th>\n",
              "      <td>-0.208151</td>\n",
              "      <td>0.027441</td>\n",
              "      <td>1.079955</td>\n",
              "      <td>-1.007937</td>\n",
              "    </tr>\n",
              "    <tr>\n",
              "      <th>7</th>\n",
              "      <td>1.160228</td>\n",
              "      <td>-0.915567</td>\n",
              "      <td>-0.577512</td>\n",
              "      <td>1.258782</td>\n",
              "    </tr>\n",
              "    <tr>\n",
              "      <th>8</th>\n",
              "      <td>0.994363</td>\n",
              "      <td>-1.143838</td>\n",
              "      <td>-0.695375</td>\n",
              "      <td>0.590763</td>\n",
              "    </tr>\n",
              "    <tr>\n",
              "      <th>9</th>\n",
              "      <td>1.035829</td>\n",
              "      <td>-1.329920</td>\n",
              "      <td>-0.532121</td>\n",
              "      <td>1.216971</td>\n",
              "    </tr>\n",
              "  </tbody>\n",
              "</table>\n",
              "</div>\n",
              "      <button class=\"colab-df-convert\" onclick=\"convertToInteractive('df-f099188c-40e1-4be6-b674-70aafeb547b5')\"\n",
              "              title=\"Convert this dataframe to an interactive table.\"\n",
              "              style=\"display:none;\">\n",
              "        \n",
              "  <svg xmlns=\"http://www.w3.org/2000/svg\" height=\"24px\"viewBox=\"0 0 24 24\"\n",
              "       width=\"24px\">\n",
              "    <path d=\"M0 0h24v24H0V0z\" fill=\"none\"/>\n",
              "    <path d=\"M18.56 5.44l.94 2.06.94-2.06 2.06-.94-2.06-.94-.94-2.06-.94 2.06-2.06.94zm-11 1L8.5 8.5l.94-2.06 2.06-.94-2.06-.94L8.5 2.5l-.94 2.06-2.06.94zm10 10l.94 2.06.94-2.06 2.06-.94-2.06-.94-.94-2.06-.94 2.06-2.06.94z\"/><path d=\"M17.41 7.96l-1.37-1.37c-.4-.4-.92-.59-1.43-.59-.52 0-1.04.2-1.43.59L10.3 9.45l-7.72 7.72c-.78.78-.78 2.05 0 2.83L4 21.41c.39.39.9.59 1.41.59.51 0 1.02-.2 1.41-.59l7.78-7.78 2.81-2.81c.8-.78.8-2.07 0-2.86zM5.41 20L4 18.59l7.72-7.72 1.47 1.35L5.41 20z\"/>\n",
              "  </svg>\n",
              "      </button>\n",
              "      \n",
              "  <style>\n",
              "    .colab-df-container {\n",
              "      display:flex;\n",
              "      flex-wrap:wrap;\n",
              "      gap: 12px;\n",
              "    }\n",
              "\n",
              "    .colab-df-convert {\n",
              "      background-color: #E8F0FE;\n",
              "      border: none;\n",
              "      border-radius: 50%;\n",
              "      cursor: pointer;\n",
              "      display: none;\n",
              "      fill: #1967D2;\n",
              "      height: 32px;\n",
              "      padding: 0 0 0 0;\n",
              "      width: 32px;\n",
              "    }\n",
              "\n",
              "    .colab-df-convert:hover {\n",
              "      background-color: #E2EBFA;\n",
              "      box-shadow: 0px 1px 2px rgba(60, 64, 67, 0.3), 0px 1px 3px 1px rgba(60, 64, 67, 0.15);\n",
              "      fill: #174EA6;\n",
              "    }\n",
              "\n",
              "    [theme=dark] .colab-df-convert {\n",
              "      background-color: #3B4455;\n",
              "      fill: #D2E3FC;\n",
              "    }\n",
              "\n",
              "    [theme=dark] .colab-df-convert:hover {\n",
              "      background-color: #434B5C;\n",
              "      box-shadow: 0px 1px 3px 1px rgba(0, 0, 0, 0.15);\n",
              "      filter: drop-shadow(0px 1px 2px rgba(0, 0, 0, 0.3));\n",
              "      fill: #FFFFFF;\n",
              "    }\n",
              "  </style>\n",
              "\n",
              "      <script>\n",
              "        const buttonEl =\n",
              "          document.querySelector('#df-f099188c-40e1-4be6-b674-70aafeb547b5 button.colab-df-convert');\n",
              "        buttonEl.style.display =\n",
              "          google.colab.kernel.accessAllowed ? 'block' : 'none';\n",
              "\n",
              "        async function convertToInteractive(key) {\n",
              "          const element = document.querySelector('#df-f099188c-40e1-4be6-b674-70aafeb547b5');\n",
              "          const dataTable =\n",
              "            await google.colab.kernel.invokeFunction('convertToInteractive',\n",
              "                                                     [key], {});\n",
              "          if (!dataTable) return;\n",
              "\n",
              "          const docLinkHtml = 'Like what you see? Visit the ' +\n",
              "            '<a target=\"_blank\" href=https://colab.research.google.com/notebooks/data_table.ipynb>data table notebook</a>'\n",
              "            + ' to learn more about interactive tables.';\n",
              "          element.innerHTML = '';\n",
              "          dataTable['output_type'] = 'display_data';\n",
              "          await google.colab.output.renderOutput(dataTable, element);\n",
              "          const docLink = document.createElement('div');\n",
              "          docLink.innerHTML = docLinkHtml;\n",
              "          element.appendChild(docLink);\n",
              "        }\n",
              "      </script>\n",
              "    </div>\n",
              "  </div>\n",
              "  "
            ]
          },
          "metadata": {},
          "execution_count": 13
        },
        {
          "output_type": "execute_result",
          "data": {
            "text/plain": [
              "          Age    Income  SpendingScore   Savings\n",
              "500 -1.286268  0.714535      -0.453557  0.621787\n",
              "501  1.409024 -1.545704      -1.164109  1.235201\n",
              "502  1.284626 -1.118447      -0.578054  0.855313\n",
              "503  1.326092 -1.524929      -0.579866  1.322452\n",
              "504  1.243160 -1.258335      -0.831890  0.510463"
            ],
            "text/html": [
              "\n",
              "  <div id=\"df-d635a899-deec-4dd2-940e-2f0c02aa1007\">\n",
              "    <div class=\"colab-df-container\">\n",
              "      <div>\n",
              "<style scoped>\n",
              "    .dataframe tbody tr th:only-of-type {\n",
              "        vertical-align: middle;\n",
              "    }\n",
              "\n",
              "    .dataframe tbody tr th {\n",
              "        vertical-align: top;\n",
              "    }\n",
              "\n",
              "    .dataframe thead th {\n",
              "        text-align: right;\n",
              "    }\n",
              "</style>\n",
              "<table border=\"1\" class=\"dataframe\">\n",
              "  <thead>\n",
              "    <tr style=\"text-align: right;\">\n",
              "      <th></th>\n",
              "      <th>Age</th>\n",
              "      <th>Income</th>\n",
              "      <th>SpendingScore</th>\n",
              "      <th>Savings</th>\n",
              "    </tr>\n",
              "  </thead>\n",
              "  <tbody>\n",
              "    <tr>\n",
              "      <th>500</th>\n",
              "      <td>-1.286268</td>\n",
              "      <td>0.714535</td>\n",
              "      <td>-0.453557</td>\n",
              "      <td>0.621787</td>\n",
              "    </tr>\n",
              "    <tr>\n",
              "      <th>501</th>\n",
              "      <td>1.409024</td>\n",
              "      <td>-1.545704</td>\n",
              "      <td>-1.164109</td>\n",
              "      <td>1.235201</td>\n",
              "    </tr>\n",
              "    <tr>\n",
              "      <th>502</th>\n",
              "      <td>1.284626</td>\n",
              "      <td>-1.118447</td>\n",
              "      <td>-0.578054</td>\n",
              "      <td>0.855313</td>\n",
              "    </tr>\n",
              "    <tr>\n",
              "      <th>503</th>\n",
              "      <td>1.326092</td>\n",
              "      <td>-1.524929</td>\n",
              "      <td>-0.579866</td>\n",
              "      <td>1.322452</td>\n",
              "    </tr>\n",
              "    <tr>\n",
              "      <th>504</th>\n",
              "      <td>1.243160</td>\n",
              "      <td>-1.258335</td>\n",
              "      <td>-0.831890</td>\n",
              "      <td>0.510463</td>\n",
              "    </tr>\n",
              "  </tbody>\n",
              "</table>\n",
              "</div>\n",
              "      <button class=\"colab-df-convert\" onclick=\"convertToInteractive('df-d635a899-deec-4dd2-940e-2f0c02aa1007')\"\n",
              "              title=\"Convert this dataframe to an interactive table.\"\n",
              "              style=\"display:none;\">\n",
              "        \n",
              "  <svg xmlns=\"http://www.w3.org/2000/svg\" height=\"24px\"viewBox=\"0 0 24 24\"\n",
              "       width=\"24px\">\n",
              "    <path d=\"M0 0h24v24H0V0z\" fill=\"none\"/>\n",
              "    <path d=\"M18.56 5.44l.94 2.06.94-2.06 2.06-.94-2.06-.94-.94-2.06-.94 2.06-2.06.94zm-11 1L8.5 8.5l.94-2.06 2.06-.94-2.06-.94L8.5 2.5l-.94 2.06-2.06.94zm10 10l.94 2.06.94-2.06 2.06-.94-2.06-.94-.94-2.06-.94 2.06-2.06.94z\"/><path d=\"M17.41 7.96l-1.37-1.37c-.4-.4-.92-.59-1.43-.59-.52 0-1.04.2-1.43.59L10.3 9.45l-7.72 7.72c-.78.78-.78 2.05 0 2.83L4 21.41c.39.39.9.59 1.41.59.51 0 1.02-.2 1.41-.59l7.78-7.78 2.81-2.81c.8-.78.8-2.07 0-2.86zM5.41 20L4 18.59l7.72-7.72 1.47 1.35L5.41 20z\"/>\n",
              "  </svg>\n",
              "      </button>\n",
              "      \n",
              "  <style>\n",
              "    .colab-df-container {\n",
              "      display:flex;\n",
              "      flex-wrap:wrap;\n",
              "      gap: 12px;\n",
              "    }\n",
              "\n",
              "    .colab-df-convert {\n",
              "      background-color: #E8F0FE;\n",
              "      border: none;\n",
              "      border-radius: 50%;\n",
              "      cursor: pointer;\n",
              "      display: none;\n",
              "      fill: #1967D2;\n",
              "      height: 32px;\n",
              "      padding: 0 0 0 0;\n",
              "      width: 32px;\n",
              "    }\n",
              "\n",
              "    .colab-df-convert:hover {\n",
              "      background-color: #E2EBFA;\n",
              "      box-shadow: 0px 1px 2px rgba(60, 64, 67, 0.3), 0px 1px 3px 1px rgba(60, 64, 67, 0.15);\n",
              "      fill: #174EA6;\n",
              "    }\n",
              "\n",
              "    [theme=dark] .colab-df-convert {\n",
              "      background-color: #3B4455;\n",
              "      fill: #D2E3FC;\n",
              "    }\n",
              "\n",
              "    [theme=dark] .colab-df-convert:hover {\n",
              "      background-color: #434B5C;\n",
              "      box-shadow: 0px 1px 3px 1px rgba(0, 0, 0, 0.15);\n",
              "      filter: drop-shadow(0px 1px 2px rgba(0, 0, 0, 0.3));\n",
              "      fill: #FFFFFF;\n",
              "    }\n",
              "  </style>\n",
              "\n",
              "      <script>\n",
              "        const buttonEl =\n",
              "          document.querySelector('#df-d635a899-deec-4dd2-940e-2f0c02aa1007 button.colab-df-convert');\n",
              "        buttonEl.style.display =\n",
              "          google.colab.kernel.accessAllowed ? 'block' : 'none';\n",
              "\n",
              "        async function convertToInteractive(key) {\n",
              "          const element = document.querySelector('#df-d635a899-deec-4dd2-940e-2f0c02aa1007');\n",
              "          const dataTable =\n",
              "            await google.colab.kernel.invokeFunction('convertToInteractive',\n",
              "                                                     [key], {});\n",
              "          if (!dataTable) return;\n",
              "\n",
              "          const docLinkHtml = 'Like what you see? Visit the ' +\n",
              "            '<a target=\"_blank\" href=https://colab.research.google.com/notebooks/data_table.ipynb>data table notebook</a>'\n",
              "            + ' to learn more about interactive tables.';\n",
              "          element.innerHTML = '';\n",
              "          dataTable['output_type'] = 'display_data';\n",
              "          await google.colab.output.renderOutput(dataTable, element);\n",
              "          const docLink = document.createElement('div');\n",
              "          docLink.innerHTML = docLinkHtml;\n",
              "          element.appendChild(docLink);\n",
              "        }\n",
              "      </script>\n",
              "    </div>\n",
              "  </div>\n",
              "  "
            ]
          },
          "metadata": {},
          "execution_count": 13
        }
      ]
    },
    {
      "cell_type": "code",
      "source": [
        "#plot the raw data\n",
        "plt.figure();\n",
        "plt.scatter(X.iloc[:, 0], X.iloc[:, 1], c=\"black\");\n",
        "plt.title(\"Customer Data\");\n",
        "plt.xlabel('Income');\n",
        "plt.ylabel('Spending Score');\n",
        "plt.xticks();\n",
        "plt.yticks();"
      ],
      "metadata": {
        "colab": {
          "base_uri": "https://localhost:8080/",
          "height": 295
        },
        "id": "Qjb6XbpPosvi",
        "outputId": "09522bef-c7a4-4004-df3d-35f4c09647e2"
      },
      "execution_count": 14,
      "outputs": [
        {
          "output_type": "display_data",
          "data": {
            "text/plain": [
              "<Figure size 432x288 with 1 Axes>"
            ],
            "image/png": "[encoded data removed]"
          },
          "metadata": {
            "needs_background": "light"
          }
        }
      ]
    },
    {
      "cell_type": "code",
      "source": [
        "import seaborn as sns\n",
        "sns.heatmap(X.corr())"
      ],
      "metadata": {
        "colab": {
          "base_uri": "https://localhost:8080/",
          "height": 287
        },
        "id": "hXjOS462os2z",
        "outputId": "00dd38e2-da6e-4caf-e297-f81dd95844f0"
      },
      "execution_count": 15,
      "outputs": [
        {
          "output_type": "execute_result",
          "data": {
            "text/plain": [
              "<matplotlib.axes._subplots.AxesSubplot at 0x7f3d205e31d0>"
            ]
          },
          "metadata": {},
          "execution_count": 15
        },
        {
          "output_type": "display_data",
          "data": {
            "text/plain": [
              "<Figure size 432x288 with 2 Axes>"
            ],
            "image/png": "[encoded data removed]"
          },
          "metadata": {
            "needs_background": "light"
          }
        }
      ]
    },
    {
      "cell_type": "markdown",
      "metadata": {
        "id": "R04NzckZKbG2"
      },
      "source": [
        "## 1.1: Clustering Algorithm #1"
      ]
    },
    {
      "cell_type": "code",
      "metadata": {
        "id": "Qeavkicwo_oN",
        "colab": {
          "base_uri": "https://localhost:8080/",
          "height": 0
        },
        "outputId": "a1f44372-3e5d-46a1-9fbc-3d2adf15fc31"
      },
      "source": [
        "#K-means\n",
        "k_means = KMeans(n_clusters=5, random_state=42)\n",
        "k_means.fit(X)"
      ],
      "execution_count": 16,
      "outputs": [
        {
          "output_type": "execute_result",
          "data": {
            "text/plain": [
              "KMeans(n_clusters=5, random_state=42)"
            ]
          },
          "metadata": {},
          "execution_count": 16
        }
      ]
    },
    {
      "cell_type": "code",
      "source": [
        "k_means.labels_"
      ],
      "metadata": {
        "colab": {
          "base_uri": "https://localhost:8080/",
          "height": 0
        },
        "id": "ZeFKUdSvo2G-",
        "outputId": "3efe2590-d3a2-4c65-804c-2db2c3b8d0e6"
      },
      "execution_count": 17,
      "outputs": [
        {
          "output_type": "execute_result",
          "data": {
            "text/plain": [
              "array([1, 1, 1, 1, 2, 3, 1, 2, 2, 2, 4, 0, 0, 0, 1, 4, 1, 2, 2, 4, 0, 4,\n",
              "       1, 2, 4, 3, 3, 1, 2, 1, 1, 1, 2, 1, 0, 1, 2, 1, 0, 0, 1, 2, 3, 1,\n",
              "       1, 3, 4, 3, 0, 1, 2, 0, 3, 2, 1, 2, 0, 2, 2, 2, 2, 2, 2, 1, 1, 1,\n",
              "       2, 3, 3, 1, 1, 0, 2, 2, 0, 1, 0, 1, 1, 3, 1, 4, 1, 2, 2, 0, 0, 1,\n",
              "       1, 1, 1, 1, 3, 2, 1, 3, 0, 1, 1, 0, 0, 3, 0, 3, 0, 2, 2, 0, 0, 1,\n",
              "       2, 0, 1, 0, 0, 0, 1, 0, 3, 2, 0, 2, 2, 2, 0, 4, 1, 2, 1, 1, 0, 1,\n",
              "       0, 1, 3, 2, 4, 3, 1, 0, 2, 1, 1, 3, 1, 3, 1, 4, 1, 2, 1, 0, 2, 1,\n",
              "       2, 4, 0, 1, 2, 1, 0, 2, 1, 0, 2, 0, 2, 1, 0, 1, 2, 1, 0, 1, 2, 1,\n",
              "       1, 2, 2, 2, 1, 1, 0, 3, 3, 2, 0, 1, 1, 1, 0, 2, 1, 1, 1, 2, 3, 0,\n",
              "       2, 2, 2, 0, 1, 0, 1, 0, 1, 2, 3, 1, 2, 2, 2, 2, 1, 2, 0, 3, 0, 2,\n",
              "       1, 1, 0, 2, 0, 3, 0, 1, 1, 2, 1, 1, 2, 1, 1, 1, 0, 1, 0, 0, 3, 1,\n",
              "       1, 1, 4, 1, 0, 2, 3, 3, 3, 2, 1, 0, 2, 2, 0, 0, 1, 1, 4, 1, 1, 2,\n",
              "       1, 2, 0, 3, 1, 0, 2, 1, 2, 2, 0, 1, 2, 2, 1, 1, 2, 0, 0, 4, 0, 2,\n",
              "       2, 0, 4, 2, 2, 3, 1, 0, 0, 1, 0, 2, 2, 0, 1, 0, 2, 1, 0, 3, 1, 2,\n",
              "       0, 0, 2, 4, 4, 1, 2, 0, 1, 1, 2, 0, 2, 0, 2, 0, 2, 2, 0, 2, 0, 1,\n",
              "       0, 1, 1, 0, 0, 2, 2, 3, 3, 0, 2, 3, 2, 4, 1, 1, 1, 2, 2, 0, 0, 4,\n",
              "       0, 4, 1, 0, 3, 2, 1, 2, 3, 1, 2, 2, 1, 2, 0, 1, 4, 0, 0, 1, 2, 2,\n",
              "       2, 2, 2, 0, 0, 2, 1, 0, 1, 4, 2, 2, 1, 2, 2, 1, 2, 2, 0, 2, 1, 0,\n",
              "       3, 0, 1, 2, 0, 1, 1, 1, 2, 0, 3, 0, 1, 0, 1, 1, 3, 0, 4, 3, 0, 0,\n",
              "       2, 1, 2, 0, 2, 0, 1, 1, 2, 4, 0, 2, 0, 1, 1, 0, 1, 2, 1, 0, 1, 2,\n",
              "       1, 2, 3, 0, 0, 3, 0, 0, 2, 2, 1, 3, 1, 0, 0, 4, 3, 0, 3, 2, 0, 0,\n",
              "       1, 0, 2, 2, 3, 1, 0, 1, 1, 0, 1, 1, 1, 2, 0, 0, 1, 1, 1, 2, 0, 2,\n",
              "       2, 2, 2, 3, 2, 2, 2, 1, 1, 2, 2, 1, 3, 2, 0, 3, 0, 2, 2, 2, 2],\n",
              "      dtype=int32)"
            ]
          },
          "metadata": {},
          "execution_count": 17
        }
      ]
    },
    {
      "cell_type": "code",
      "source": [
        "# Let's look at the centers\n",
        "k_means.cluster_centers_"
      ],
      "metadata": {
        "colab": {
          "base_uri": "https://localhost:8080/",
          "height": 0
        },
        "id": "S9NRabQVo2Kh",
        "outputId": "44d4202c-1252-4e57-bccf-5bcd83e7377a"
      },
      "execution_count": 18,
      "outputs": [
        {
          "output_type": "execute_result",
          "data": {
            "text/plain": [
              "array([[-1.08815238,  0.82744102, -0.75240648,  0.6270464 ],\n",
              "       [ 0.03879611, -0.08524639,  1.02721559, -1.00569483],\n",
              "       [ 1.19238486, -1.32510593, -0.67963841,  0.97016358],\n",
              "       [-1.44466803,  1.46050665,  1.51057952, -1.57249636],\n",
              "       [ 1.11876151,  1.23565419, -1.68367042,  0.59588052]])"
            ]
          },
          "metadata": {},
          "execution_count": 18
        }
      ]
    },
    {
      "cell_type": "code",
      "source": [
        "sample_silhouette_values = silhouette_samples(X, k_means.labels_)\n",
        "sizes = 100*sample_silhouette_values\n",
        "\n",
        "plt.figure();\n",
        "\n",
        "plt.scatter(X.iloc[:, 0], X.iloc[:, 1], s=sizes, c=k_means.labels_)\n",
        "plt.scatter(k_means.cluster_centers_[:, 0], k_means.cluster_centers_[:, 1], marker='x', c=\"black\")\n",
        "\n",
        "plt.title(\"K-Means (Dot Size = Silhouette Distance)\");\n",
        "plt.xlabel('Income ');\n",
        "plt.ylabel('Spending Score');"
      ],
      "metadata": {
        "colab": {
          "base_uri": "https://localhost:8080/",
          "height": 295
        },
        "id": "ac4rrEIAo2OF",
        "outputId": "7fabae66-3233-4d48-a6df-864fb3f8576b"
      },
      "execution_count": 19,
      "outputs": [
        {
          "output_type": "display_data",
          "data": {
            "text/plain": [
              "<Figure size 432x288 with 1 Axes>"
            ],
            "image/png": "[encoded data removed]"
          },
          "metadata": {
            "needs_background": "light"
          }
        }
      ]
    },
    {
      "cell_type": "code",
      "source": [
        "sample_silhouette_values = silhouette_samples(X, k_means.labels_)\n",
        "\n",
        "X_tmp = X.copy()\n",
        "X_tmp['Cluster_ID'] = k_means.labels_\n",
        "\n",
        "X_tmp['Silhouette'] = sample_silhouette_values\n",
        "X_tmp = X_tmp.sort_values(['Silhouette'])\n",
        "X_tmp.head()\n",
        "X_tmp.tail()"
      ],
      "metadata": {
        "colab": {
          "base_uri": "https://localhost:8080/",
          "height": 395
        },
        "id": "11q6uCs5o2RH",
        "outputId": "ad6f5a91-5b71-41d6-c148-0f1abfc2205b"
      },
      "execution_count": 20,
      "outputs": [
        {
          "output_type": "execute_result",
          "data": {
            "text/plain": [
              "          Age    Income  SpendingScore   Savings  Cluster_ID  Silhouette\n",
              "196 -1.286268  1.327012       1.419709 -2.275742           3    0.656586\n",
              "337 -1.742394  1.646975       1.360335 -2.399206           3    0.662592\n",
              "290  1.160228 -0.795480      -0.757667  0.591929           2    0.673153\n",
              "80  -0.000821 -0.026067       1.064913 -0.265897           1    0.674761\n",
              "407 -0.622811  1.088200      -0.755187  0.445998           0    0.674795"
            ],
            "text/html": [
              "\n",
              "  <div id=\"df-063bdf8d-b8b7-4f75-a059-17cf4f4e669f\">\n",
              "    <div class=\"colab-df-container\">\n",
              "      <div>\n",
              "<style scoped>\n",
              "    .dataframe tbody tr th:only-of-type {\n",
              "        vertical-align: middle;\n",
              "    }\n",
              "\n",
              "    .dataframe tbody tr th {\n",
              "        vertical-align: top;\n",
              "    }\n",
              "\n",
              "    .dataframe thead th {\n",
              "        text-align: right;\n",
              "    }\n",
              "</style>\n",
              "<table border=\"1\" class=\"dataframe\">\n",
              "  <thead>\n",
              "    <tr style=\"text-align: right;\">\n",
              "      <th></th>\n",
              "      <th>Age</th>\n",
              "      <th>Income</th>\n",
              "      <th>SpendingScore</th>\n",
              "      <th>Savings</th>\n",
              "      <th>Cluster_ID</th>\n",
              "      <th>Silhouette</th>\n",
              "    </tr>\n",
              "  </thead>\n",
              "  <tbody>\n",
              "    <tr>\n",
              "      <th>196</th>\n",
              "      <td>-1.286268</td>\n",
              "      <td>1.327012</td>\n",
              "      <td>1.419709</td>\n",
              "      <td>-2.275742</td>\n",
              "      <td>3</td>\n",
              "      <td>0.656586</td>\n",
              "    </tr>\n",
              "    <tr>\n",
              "      <th>337</th>\n",
              "      <td>-1.742394</td>\n",
              "      <td>1.646975</td>\n",
              "      <td>1.360335</td>\n",
              "      <td>-2.399206</td>\n",
              "      <td>3</td>\n",
              "      <td>0.662592</td>\n",
              "    </tr>\n",
              "    <tr>\n",
              "      <th>290</th>\n",
              "      <td>1.160228</td>\n",
              "      <td>-0.795480</td>\n",
              "      <td>-0.757667</td>\n",
              "      <td>0.591929</td>\n",
              "      <td>2</td>\n",
              "      <td>0.673153</td>\n",
              "    </tr>\n",
              "    <tr>\n",
              "      <th>80</th>\n",
              "      <td>-0.000821</td>\n",
              "      <td>-0.026067</td>\n",
              "      <td>1.064913</td>\n",
              "      <td>-0.265897</td>\n",
              "      <td>1</td>\n",
              "      <td>0.674761</td>\n",
              "    </tr>\n",
              "    <tr>\n",
              "      <th>407</th>\n",
              "      <td>-0.622811</td>\n",
              "      <td>1.088200</td>\n",
              "      <td>-0.755187</td>\n",
              "      <td>0.445998</td>\n",
              "      <td>0</td>\n",
              "      <td>0.674795</td>\n",
              "    </tr>\n",
              "  </tbody>\n",
              "</table>\n",
              "</div>\n",
              "      <button class=\"colab-df-convert\" onclick=\"convertToInteractive('df-063bdf8d-b8b7-4f75-a059-17cf4f4e669f')\"\n",
              "              title=\"Convert this dataframe to an interactive table.\"\n",
              "              style=\"display:none;\">\n",
              "        \n",
              "  <svg xmlns=\"http://www.w3.org/2000/svg\" height=\"24px\"viewBox=\"0 0 24 24\"\n",
              "       width=\"24px\">\n",
              "    <path d=\"M0 0h24v24H0V0z\" fill=\"none\"/>\n",
              "    <path d=\"M18.56 5.44l.94 2.06.94-2.06 2.06-.94-2.06-.94-.94-2.06-.94 2.06-2.06.94zm-11 1L8.5 8.5l.94-2.06 2.06-.94-2.06-.94L8.5 2.5l-.94 2.06-2.06.94zm10 10l.94 2.06.94-2.06 2.06-.94-2.06-.94-.94-2.06-.94 2.06-2.06.94z\"/><path d=\"M17.41 7.96l-1.37-1.37c-.4-.4-.92-.59-1.43-.59-.52 0-1.04.2-1.43.59L10.3 9.45l-7.72 7.72c-.78.78-.78 2.05 0 2.83L4 21.41c.39.39.9.59 1.41.59.51 0 1.02-.2 1.41-.59l7.78-7.78 2.81-2.81c.8-.78.8-2.07 0-2.86zM5.41 20L4 18.59l7.72-7.72 1.47 1.35L5.41 20z\"/>\n",
              "  </svg>\n",
              "      </button>\n",
              "      \n",
              "  <style>\n",
              "    .colab-df-container {\n",
              "      display:flex;\n",
              "      flex-wrap:wrap;\n",
              "      gap: 12px;\n",
              "    }\n",
              "\n",
              "    .colab-df-convert {\n",
              "      background-color: #E8F0FE;\n",
              "      border: none;\n",
              "      border-radius: 50%;\n",
              "      cursor: pointer;\n",
              "      display: none;\n",
              "      fill: #1967D2;\n",
              "      height: 32px;\n",
              "      padding: 0 0 0 0;\n",
              "      width: 32px;\n",
              "    }\n",
              "\n",
              "    .colab-df-convert:hover {\n",
              "      background-color: #E2EBFA;\n",
              "      box-shadow: 0px 1px 2px rgba(60, 64, 67, 0.3), 0px 1px 3px 1px rgba(60, 64, 67, 0.15);\n",
              "      fill: #174EA6;\n",
              "    }\n",
              "\n",
              "    [theme=dark] .colab-df-convert {\n",
              "      background-color: #3B4455;\n",
              "      fill: #D2E3FC;\n",
              "    }\n",
              "\n",
              "    [theme=dark] .colab-df-convert:hover {\n",
              "      background-color: #434B5C;\n",
              "      box-shadow: 0px 1px 3px 1px rgba(0, 0, 0, 0.15);\n",
              "      filter: drop-shadow(0px 1px 2px rgba(0, 0, 0, 0.3));\n",
              "      fill: #FFFFFF;\n",
              "    }\n",
              "  </style>\n",
              "\n",
              "      <script>\n",
              "        const buttonEl =\n",
              "          document.querySelector('#df-063bdf8d-b8b7-4f75-a059-17cf4f4e669f button.colab-df-convert');\n",
              "        buttonEl.style.display =\n",
              "          google.colab.kernel.accessAllowed ? 'block' : 'none';\n",
              "\n",
              "        async function convertToInteractive(key) {\n",
              "          const element = document.querySelector('#df-063bdf8d-b8b7-4f75-a059-17cf4f4e669f');\n",
              "          const dataTable =\n",
              "            await google.colab.kernel.invokeFunction('convertToInteractive',\n",
              "                                                     [key], {});\n",
              "          if (!dataTable) return;\n",
              "\n",
              "          const docLinkHtml = 'Like what you see? Visit the ' +\n",
              "            '<a target=\"_blank\" href=https://colab.research.google.com/notebooks/data_table.ipynb>data table notebook</a>'\n",
              "            + ' to learn more about interactive tables.';\n",
              "          element.innerHTML = '';\n",
              "          dataTable['output_type'] = 'display_data';\n",
              "          await google.colab.output.renderOutput(dataTable, element);\n",
              "          const docLink = document.createElement('div');\n",
              "          docLink.innerHTML = docLinkHtml;\n",
              "          element.appendChild(docLink);\n",
              "        }\n",
              "      </script>\n",
              "    </div>\n",
              "  </div>\n",
              "  "
            ]
          },
          "metadata": {},
          "execution_count": 20
        },
        {
          "output_type": "execute_result",
          "data": {
            "text/plain": [
              "          Age    Income  SpendingScore   Savings  Cluster_ID  Silhouette\n",
              "372  1.201694 -1.471505      -0.571902  0.986563           2    0.867716\n",
              "464  1.118762 -1.329586      -0.677416  1.065545           2    0.868368\n",
              "121  1.201694 -1.374445      -0.741044  1.060476           2    0.869548\n",
              "379  1.243160 -1.397806      -0.706762  0.945914           2    0.872481\n",
              "335  1.243160 -1.350862      -0.690416  0.949109           2    0.872949"
            ],
            "text/html": [
              "\n",
              "  <div id=\"df-c93d5753-9eb9-409f-a831-1eb0350b8964\">\n",
              "    <div class=\"colab-df-container\">\n",
              "      <div>\n",
              "<style scoped>\n",
              "    .dataframe tbody tr th:only-of-type {\n",
              "        vertical-align: middle;\n",
              "    }\n",
              "\n",
              "    .dataframe tbody tr th {\n",
              "        vertical-align: top;\n",
              "    }\n",
              "\n",
              "    .dataframe thead th {\n",
              "        text-align: right;\n",
              "    }\n",
              "</style>\n",
              "<table border=\"1\" class=\"dataframe\">\n",
              "  <thead>\n",
              "    <tr style=\"text-align: right;\">\n",
              "      <th></th>\n",
              "      <th>Age</th>\n",
              "      <th>Income</th>\n",
              "      <th>SpendingScore</th>\n",
              "      <th>Savings</th>\n",
              "      <th>Cluster_ID</th>\n",
              "      <th>Silhouette</th>\n",
              "    </tr>\n",
              "  </thead>\n",
              "  <tbody>\n",
              "    <tr>\n",
              "      <th>372</th>\n",
              "      <td>1.201694</td>\n",
              "      <td>-1.471505</td>\n",
              "      <td>-0.571902</td>\n",
              "      <td>0.986563</td>\n",
              "      <td>2</td>\n",
              "      <td>0.867716</td>\n",
              "    </tr>\n",
              "    <tr>\n",
              "      <th>464</th>\n",
              "      <td>1.118762</td>\n",
              "      <td>-1.329586</td>\n",
              "      <td>-0.677416</td>\n",
              "      <td>1.065545</td>\n",
              "      <td>2</td>\n",
              "      <td>0.868368</td>\n",
              "    </tr>\n",
              "    <tr>\n",
              "      <th>121</th>\n",
              "      <td>1.201694</td>\n",
              "      <td>-1.374445</td>\n",
              "      <td>-0.741044</td>\n",
              "      <td>1.060476</td>\n",
              "      <td>2</td>\n",
              "      <td>0.869548</td>\n",
              "    </tr>\n",
              "    <tr>\n",
              "      <th>379</th>\n",
              "      <td>1.243160</td>\n",
              "      <td>-1.397806</td>\n",
              "      <td>-0.706762</td>\n",
              "      <td>0.945914</td>\n",
              "      <td>2</td>\n",
              "      <td>0.872481</td>\n",
              "    </tr>\n",
              "    <tr>\n",
              "      <th>335</th>\n",
              "      <td>1.243160</td>\n",
              "      <td>-1.350862</td>\n",
              "      <td>-0.690416</td>\n",
              "      <td>0.949109</td>\n",
              "      <td>2</td>\n",
              "      <td>0.872949</td>\n",
              "    </tr>\n",
              "  </tbody>\n",
              "</table>\n",
              "</div>\n",
              "      <button class=\"colab-df-convert\" onclick=\"convertToInteractive('df-c93d5753-9eb9-409f-a831-1eb0350b8964')\"\n",
              "              title=\"Convert this dataframe to an interactive table.\"\n",
              "              style=\"display:none;\">\n",
              "        \n",
              "  <svg xmlns=\"http://www.w3.org/2000/svg\" height=\"24px\"viewBox=\"0 0 24 24\"\n",
              "       width=\"24px\">\n",
              "    <path d=\"M0 0h24v24H0V0z\" fill=\"none\"/>\n",
              "    <path d=\"M18.56 5.44l.94 2.06.94-2.06 2.06-.94-2.06-.94-.94-2.06-.94 2.06-2.06.94zm-11 1L8.5 8.5l.94-2.06 2.06-.94-2.06-.94L8.5 2.5l-.94 2.06-2.06.94zm10 10l.94 2.06.94-2.06 2.06-.94-2.06-.94-.94-2.06-.94 2.06-2.06.94z\"/><path d=\"M17.41 7.96l-1.37-1.37c-.4-.4-.92-.59-1.43-.59-.52 0-1.04.2-1.43.59L10.3 9.45l-7.72 7.72c-.78.78-.78 2.05 0 2.83L4 21.41c.39.39.9.59 1.41.59.51 0 1.02-.2 1.41-.59l7.78-7.78 2.81-2.81c.8-.78.8-2.07 0-2.86zM5.41 20L4 18.59l7.72-7.72 1.47 1.35L5.41 20z\"/>\n",
              "  </svg>\n",
              "      </button>\n",
              "      \n",
              "  <style>\n",
              "    .colab-df-container {\n",
              "      display:flex;\n",
              "      flex-wrap:wrap;\n",
              "      gap: 12px;\n",
              "    }\n",
              "\n",
              "    .colab-df-convert {\n",
              "      background-color: #E8F0FE;\n",
              "      border: none;\n",
              "      border-radius: 50%;\n",
              "      cursor: pointer;\n",
              "      display: none;\n",
              "      fill: #1967D2;\n",
              "      height: 32px;\n",
              "      padding: 0 0 0 0;\n",
              "      width: 32px;\n",
              "    }\n",
              "\n",
              "    .colab-df-convert:hover {\n",
              "      background-color: #E2EBFA;\n",
              "      box-shadow: 0px 1px 2px rgba(60, 64, 67, 0.3), 0px 1px 3px 1px rgba(60, 64, 67, 0.15);\n",
              "      fill: #174EA6;\n",
              "    }\n",
              "\n",
              "    [theme=dark] .colab-df-convert {\n",
              "      background-color: #3B4455;\n",
              "      fill: #D2E3FC;\n",
              "    }\n",
              "\n",
              "    [theme=dark] .colab-df-convert:hover {\n",
              "      background-color: #434B5C;\n",
              "      box-shadow: 0px 1px 3px 1px rgba(0, 0, 0, 0.15);\n",
              "      filter: drop-shadow(0px 1px 2px rgba(0, 0, 0, 0.3));\n",
              "      fill: #FFFFFF;\n",
              "    }\n",
              "  </style>\n",
              "\n",
              "      <script>\n",
              "        const buttonEl =\n",
              "          document.querySelector('#df-c93d5753-9eb9-409f-a831-1eb0350b8964 button.colab-df-convert');\n",
              "        buttonEl.style.display =\n",
              "          google.colab.kernel.accessAllowed ? 'block' : 'none';\n",
              "\n",
              "        async function convertToInteractive(key) {\n",
              "          const element = document.querySelector('#df-c93d5753-9eb9-409f-a831-1eb0350b8964');\n",
              "          const dataTable =\n",
              "            await google.colab.kernel.invokeFunction('convertToInteractive',\n",
              "                                                     [key], {});\n",
              "          if (!dataTable) return;\n",
              "\n",
              "          const docLinkHtml = 'Like what you see? Visit the ' +\n",
              "            '<a target=\"_blank\" href=https://colab.research.google.com/notebooks/data_table.ipynb>data table notebook</a>'\n",
              "            + ' to learn more about interactive tables.';\n",
              "          element.innerHTML = '';\n",
              "          dataTable['output_type'] = 'display_data';\n",
              "          await google.colab.output.renderOutput(dataTable, element);\n",
              "          const docLink = document.createElement('div');\n",
              "          docLink.innerHTML = docLinkHtml;\n",
              "          element.appendChild(docLink);\n",
              "        }\n",
              "      </script>\n",
              "    </div>\n",
              "  </div>\n",
              "  "
            ]
          },
          "metadata": {},
          "execution_count": 20
        }
      ]
    },
    {
      "cell_type": "code",
      "source": [
        "print('Sillouette Score for K: {}'.format(X))\n",
        "silhouette_score(X, k_means.labels_)"
      ],
      "metadata": {
        "colab": {
          "base_uri": "https://localhost:8080/",
          "height": 0
        },
        "id": "PApFlNdPpCYK",
        "outputId": "2341ca0c-4eda-41a2-a5a8-be9103feb362"
      },
      "execution_count": 21,
      "outputs": [
        {
          "output_type": "stream",
          "name": "stdout",
          "text": [
            "Sillouette Score for K:           Age    Income  SpendingScore   Savings\n",
            "0   -0.042287  0.062733       1.103593 -1.072467\n",
            "1   -0.000821  0.174811       1.102641 -1.303473\n",
            "2    0.123577 -0.021200       0.761727 -0.526556\n",
            "3   -0.000821 -0.031712       1.004705 -0.913395\n",
            "4    1.160228 -1.606165      -0.602619  1.012686\n",
            "..        ...       ...            ...       ...\n",
            "500 -1.286268  0.714535      -0.453557  0.621787\n",
            "501  1.409024 -1.545704      -1.164109  1.235201\n",
            "502  1.284626 -1.118447      -0.578054  0.855313\n",
            "503  1.326092 -1.524929      -0.579866  1.322452\n",
            "504  1.243160 -1.258335      -0.831890  0.510463\n",
            "\n",
            "[505 rows x 4 columns]\n"
          ]
        },
        {
          "output_type": "execute_result",
          "data": {
            "text/plain": [
              "0.8048976287755765"
            ]
          },
          "metadata": {},
          "execution_count": 21
        }
      ]
    },
    {
      "cell_type": "markdown",
      "metadata": {
        "id": "ihVtYBWg1NM6"
      },
      "source": [
        "## 1.2: Clustering Algorithm #2"
      ]
    },
    {
      "cell_type": "code",
      "source": [
        "# Hierarchical (Agglomerative)\n",
        "agg = AgglomerativeClustering(n_clusters=5, affinity='cosine', linkage='complete')\n",
        "agg.fit(X)"
      ],
      "metadata": {
        "colab": {
          "base_uri": "https://localhost:8080/",
          "height": 0
        },
        "id": "Ewt-rn6tpM5k",
        "outputId": "ae6cc9e8-a7b5-4631-98e9-94f7e72eb5e6"
      },
      "execution_count": 22,
      "outputs": [
        {
          "output_type": "execute_result",
          "data": {
            "text/plain": [
              "AgglomerativeClustering(affinity='cosine', linkage='complete', n_clusters=5)"
            ]
          },
          "metadata": {},
          "execution_count": 22
        }
      ]
    },
    {
      "cell_type": "code",
      "source": [
        "agg.labels_"
      ],
      "metadata": {
        "colab": {
          "base_uri": "https://localhost:8080/",
          "height": 0
        },
        "id": "8aDalysNpM9Z",
        "outputId": "c844b043-7139-4a02-c34c-b6634659e2b8"
      },
      "execution_count": 23,
      "outputs": [
        {
          "output_type": "execute_result",
          "data": {
            "text/plain": [
              "array([0, 0, 0, 0, 2, 4, 0, 2, 2, 2, 3, 1, 1, 1, 0, 3, 0, 2, 2, 3, 1, 3,\n",
              "       0, 2, 3, 4, 4, 0, 2, 0, 0, 0, 2, 0, 1, 0, 2, 0, 1, 1, 0, 2, 4, 0,\n",
              "       0, 4, 3, 4, 1, 0, 2, 1, 4, 2, 0, 2, 1, 2, 2, 2, 2, 2, 2, 0, 0, 0,\n",
              "       2, 4, 4, 0, 0, 1, 2, 2, 1, 0, 1, 0, 0, 4, 0, 3, 0, 2, 2, 1, 1, 0,\n",
              "       0, 0, 0, 0, 4, 2, 0, 4, 1, 0, 0, 1, 1, 4, 1, 4, 1, 2, 2, 1, 1, 0,\n",
              "       2, 1, 0, 1, 1, 1, 0, 1, 4, 2, 1, 2, 2, 2, 1, 3, 0, 2, 0, 0, 1, 0,\n",
              "       1, 0, 4, 2, 3, 4, 0, 1, 2, 0, 0, 4, 0, 4, 0, 3, 0, 2, 0, 1, 2, 0,\n",
              "       2, 3, 1, 0, 2, 0, 1, 2, 0, 1, 2, 1, 2, 0, 1, 0, 2, 0, 1, 0, 2, 0,\n",
              "       0, 2, 2, 2, 0, 0, 1, 4, 4, 2, 1, 0, 0, 0, 1, 2, 0, 0, 0, 2, 4, 1,\n",
              "       2, 2, 2, 1, 0, 1, 0, 1, 0, 2, 4, 0, 2, 2, 2, 2, 0, 2, 1, 4, 1, 2,\n",
              "       0, 0, 1, 2, 1, 4, 1, 0, 0, 2, 0, 0, 2, 0, 0, 0, 1, 0, 1, 1, 4, 0,\n",
              "       0, 0, 3, 0, 1, 2, 4, 4, 4, 2, 0, 1, 2, 2, 1, 1, 0, 0, 3, 0, 0, 2,\n",
              "       0, 2, 1, 4, 0, 1, 2, 0, 2, 2, 1, 0, 2, 2, 0, 0, 2, 1, 1, 3, 1, 2,\n",
              "       2, 1, 3, 2, 2, 4, 0, 1, 1, 0, 1, 2, 2, 1, 0, 1, 2, 0, 1, 4, 0, 2,\n",
              "       1, 1, 2, 3, 3, 0, 2, 1, 0, 0, 2, 1, 2, 1, 2, 1, 2, 2, 1, 2, 1, 0,\n",
              "       1, 0, 0, 1, 1, 2, 2, 4, 4, 1, 2, 4, 2, 3, 0, 0, 0, 2, 2, 1, 1, 3,\n",
              "       1, 3, 0, 1, 4, 2, 0, 2, 4, 0, 2, 2, 0, 2, 1, 0, 3, 1, 1, 0, 2, 2,\n",
              "       2, 2, 2, 1, 1, 2, 0, 1, 0, 3, 2, 2, 0, 2, 2, 0, 2, 2, 1, 2, 0, 1,\n",
              "       4, 1, 0, 2, 1, 0, 0, 0, 2, 1, 4, 1, 0, 1, 0, 0, 4, 1, 3, 4, 1, 1,\n",
              "       2, 0, 2, 1, 2, 1, 0, 0, 2, 3, 1, 2, 1, 0, 0, 1, 0, 2, 0, 1, 0, 2,\n",
              "       0, 2, 4, 1, 1, 4, 1, 1, 2, 2, 0, 4, 0, 1, 1, 3, 4, 1, 4, 2, 1, 1,\n",
              "       0, 1, 2, 2, 4, 0, 1, 0, 0, 1, 0, 0, 0, 2, 1, 1, 0, 0, 0, 2, 1, 2,\n",
              "       2, 2, 2, 4, 2, 2, 2, 0, 0, 2, 2, 0, 4, 2, 1, 4, 1, 2, 2, 2, 2])"
            ]
          },
          "metadata": {},
          "execution_count": 23
        }
      ]
    },
    {
      "cell_type": "code",
      "source": [
        "silhouette_score(X, agg.labels_)"
      ],
      "metadata": {
        "colab": {
          "base_uri": "https://localhost:8080/",
          "height": 0
        },
        "id": "8OXoZPbppM_s",
        "outputId": "dc2ecf64-3d15-4936-97a6-da21b348eec5"
      },
      "execution_count": 24,
      "outputs": [
        {
          "output_type": "execute_result",
          "data": {
            "text/plain": [
              "0.8048976287755765"
            ]
          },
          "metadata": {},
          "execution_count": 24
        }
      ]
    },
    {
      "cell_type": "code",
      "source": [
        "# Hierarchical (Agglomerative)\n",
        "agg = AgglomerativeClustering(n_clusters=5, affinity='manhattan', linkage='average')\n",
        "agg.fit(X)"
      ],
      "metadata": {
        "colab": {
          "base_uri": "https://localhost:8080/",
          "height": 0
        },
        "id": "ALsUTiWopNCu",
        "outputId": "4b7b925e-3cf9-4cb8-e4c6-f76cf67e7296"
      },
      "execution_count": 25,
      "outputs": [
        {
          "output_type": "execute_result",
          "data": {
            "text/plain": [
              "AgglomerativeClustering(affinity='manhattan', linkage='average', n_clusters=5)"
            ]
          },
          "metadata": {},
          "execution_count": 25
        }
      ]
    },
    {
      "cell_type": "code",
      "source": [
        "silhouette_score(X, agg.labels_)"
      ],
      "metadata": {
        "colab": {
          "base_uri": "https://localhost:8080/",
          "height": 0
        },
        "id": "5hZcE2HhpzGj",
        "outputId": "e41756a4-1063-4875-e29f-5dc8e32a8a5a"
      },
      "execution_count": 26,
      "outputs": [
        {
          "output_type": "execute_result",
          "data": {
            "text/plain": [
              "0.8048976287755765"
            ]
          },
          "metadata": {},
          "execution_count": 26
        }
      ]
    },
    {
      "cell_type": "code",
      "source": [
        "# Hierarchical (Agglomerative)\n",
        "agg = AgglomerativeClustering(n_clusters=5, affinity='euclidean', linkage='ward')\n",
        "agg.fit(X)"
      ],
      "metadata": {
        "colab": {
          "base_uri": "https://localhost:8080/",
          "height": 0
        },
        "id": "V7aoYlKopwOD",
        "outputId": "7225a25e-4f7f-4420-bbd0-ebac20f85948"
      },
      "execution_count": 27,
      "outputs": [
        {
          "output_type": "execute_result",
          "data": {
            "text/plain": [
              "AgglomerativeClustering(n_clusters=5)"
            ]
          },
          "metadata": {},
          "execution_count": 27
        }
      ]
    },
    {
      "cell_type": "code",
      "source": [
        "silhouette_score(X, agg.labels_)"
      ],
      "metadata": {
        "colab": {
          "base_uri": "https://localhost:8080/",
          "height": 0
        },
        "id": "B4_TSzMNp0Bq",
        "outputId": "633ed62f-79fb-42b9-c83f-44e67e2fecc6"
      },
      "execution_count": 28,
      "outputs": [
        {
          "output_type": "execute_result",
          "data": {
            "text/plain": [
              "0.8048976287755765"
            ]
          },
          "metadata": {},
          "execution_count": 28
        }
      ]
    },
    {
      "cell_type": "code",
      "source": [
        "plt.figure();\n",
        "\n",
        "plt.scatter(X.iloc[:, 0], X.iloc[:, 1], c=agg.labels_);\n",
        "plt.title(\"Agglomerative\");\n",
        "plt.xlabel('Income');\n",
        "plt.ylabel('Spending Score');"
      ],
      "metadata": {
        "colab": {
          "base_uri": "https://localhost:8080/",
          "height": 295
        },
        "id": "lkNr-TkxqCDR",
        "outputId": "74cfe87f-b8ba-4042-9ed4-3452b3aa89ee"
      },
      "execution_count": 29,
      "outputs": [
        {
          "output_type": "display_data",
          "data": {
            "text/plain": [
              "<Figure size 432x288 with 1 Axes>"
            ],
            "image/png": "[encoded data removed]"
          },
          "metadata": {
            "needs_background": "light"
          }
        }
      ]
    },
    {
      "cell_type": "code",
      "source": [
        "import scipy.cluster\n",
        "\n",
        "aggl = scipy.cluster.hierarchy.linkage(X, method='ward', metric='euclidean')\n",
        " "
      ],
      "metadata": {
        "id": "-1hsj5ePqCG5"
      },
      "execution_count": 30,
      "outputs": []
    },
    {
      "cell_type": "code",
      "source": [
        "# Plot the dendogram 0 this time with better labels\n",
        "plt.figure(figsize=(16, 8));\n",
        "plt.grid(False)\n",
        "plt.title(\"Customer Data Dendogram\");  \n",
        "dend = scipy.cluster.hierarchy.dendrogram(aggl); \n",
        "#plt.savefig('Customer Data.png');"
      ],
      "metadata": {
        "colab": {
          "base_uri": "https://localhost:8080/",
          "height": 498
        },
        "id": "oBqKVEgWqCKn",
        "outputId": "b5b691fe-ac0b-46f3-ecf0-c04cd115aebb"
      },
      "execution_count": 31,
      "outputs": [
        {
          "output_type": "display_data",
          "data": {
            "text/plain": [
              "<Figure size 1152x576 with 1 Axes>"
            ],
            "image/png": "[encoded data removed]"
          },
          "metadata": {
            "needs_background": "light"
          }
        }
      ]
    },
    {
      "cell_type": "code",
      "source": [
        "\n",
        "K=5\n",
        "labels = scipy.cluster.hierarchy.fcluster(aggl, K, criterion=\"maxclust\")"
      ],
      "metadata": {
        "id": "30wwLx9XqCNv"
      },
      "execution_count": 32,
      "outputs": []
    },
    {
      "cell_type": "code",
      "source": [
        "X_df1 = pd.DataFrame(X, columns=col_names)\n",
        "X_df1['Cluster'] = labels\n",
        "X_df1.head()\n",
        "\n",
        "X_df1_melt = pd.melt(X_df1,\n",
        "    id_vars=['Cluster'],\n",
        "    value_vars=['Age', 'Income', 'SpendingScore','Savings'],\n",
        "    var_name='Feature',\n",
        "    value_name='Value')\n",
        "\n",
        "plt.title('Snake Plot, Hierarchical, K=5');\n",
        "sns.set(style=\"darkgrid\")\n",
        "sns.set_context(\"talk\")\n",
        "sns.lineplot(x=\"Feature\", y=\"Value\", hue='Cluster', data=X_df1_melt, legend=\"full\");\n",
        "plt.legend(bbox_to_anchor=(1.05, 1), loc=2, borderaxespad=0.);\n",
        "plt.savefig('Customer Data.png', transparent=False);\n"
      ],
      "metadata": {
        "colab": {
          "base_uri": "https://localhost:8080/",
          "height": 295
        },
        "id": "qwIlOxmCqCQX",
        "outputId": "2843980c-230b-482a-d5b9-fa5a1556e110"
      },
      "execution_count": 33,
      "outputs": [
        {
          "output_type": "display_data",
          "data": {
            "text/plain": [
              "<Figure size 432x288 with 1 Axes>"
            ],
            "image/png": "[encoded data removed]"
          },
          "metadata": {
            "needs_background": "light"
          }
        }
      ]
    },
    {
      "cell_type": "markdown",
      "metadata": {
        "id": "6ySJIgNr1Sfy"
      },
      "source": [
        "## 1.3 Model Comparison"
      ]
    },
    {
      "cell_type": "markdown",
      "metadata": {
        "id": "gwQembOT1L6U"
      },
      "source": [
        "Due to the good quality of our dataset, the K-mean and hierarchical algorithms got similar results. K-mean has the advantage of being easy to use (especially when I run it, it takes no time at all), easy to interpret, and suitable and efficient for large datasets, since our dataset does not have a label, so it's a good reason to use it. As K-mean is highly sensitive to scale, I don't use any normalization or standardization to change the dataset's scale I clustered the data using K=5, and I manually tuned it by another number and found that K=5 gave the best results. For the second algorithm, I used a hierarchical algorithm and manually tuned linkage complete or average, cosine to manhattan, and it resulted in the same score. The dendrogram can help us visualize data in a clear manner, which is practical and easy to understand. However, the hierarchical algorithm does not work well for large datasets due to its high time and space complexity (I found it to be slower than K-mean when I ran it). Therefore, when we have more data in our dataset, the hierarchical algorithm would not be the best choice. In summary, I would recommend using K-mean algorthim (K=5) to make the prediction"
      ]
    },
    {
      "cell_type": "markdown",
      "metadata": {
        "id": "MP2EAnCJ1Xta"
      },
      "source": [
        "## 1.4 Personas"
      ]
    },
    {
      "cell_type": "markdown",
      "metadata": {
        "id": "dVewu2TZ1XhK"
      },
      "source": [
        "Based on Snake Plot, we have 5 different clusters.\n",
        "\n",
        "Cluster 1 appears to have the youngest people, but they have the highest income and spending scores. This makes sense since young people tend to enjoy life and they may spend a lot on jewelry, probably because of their high spending, but they also have the lowest savings. Uncle Steve should send them more promotion mail.\n",
        "\n",
        "In cluster 2, the average age is medium. They aren't very rich, but their spending score is in the second, probably because of their high expenditures and their savings in the penultimate level, so I suggest Uncle Steve give them a greater discount. Because they like our product, but they don't have enough money to afford it.\n",
        "\n",
        "There are a lot of retired and old people in Cluster 3, so their income is the lowest compared to the other four clusters due to their high age. Rather than spending a lot on enjoying material goods, they save a lot. I suggest Uncle Steve give them more discounts to draw them to our store.\n",
        "\n",
        "People in Cluster 4 are also old, but they worked hard or invested when they were young, so they are wealthy compared to the other 4 clusters. Yet they are very smart and not very materialistic, so their spending score is the lowest, and they also have good savings.\n",
        "\n",
        "In cluster 5, the population is relatively young, they earn an average income, and they probably have a saving goal plan, so they don't spend as much as other groups, but they save the most. Since this group does not seem to be attracted by promotions, Uncle Steve should not be paying attention to them."
      ]
    },
    {
      "cell_type": "markdown",
      "metadata": {
        "id": "DYwuYIgczYSv"
      },
      "source": [
        "# Question 2: Uncle Steve's Fine Foods"
      ]
    },
    {
      "cell_type": "markdown",
      "metadata": {
        "id": "4oCr-mTfNG-H"
      },
      "source": [
        "## Instructions\n",
        "\n",
        "Uncle Steve runs a small, local grocery store in Ontario. The store sells all the normal food staples (e.g., bread, milk, cheese, eggs, more cheese, fruits, vegatables, meat, fish, waffles, ice cream, pasta, cereals, drinks), personal care products (e.g., toothpaste, shampoo, hair goo), medicine, and cakes. There's even a little section with flowers and greeting cards! Normal people shop here, and buy normal things in the normal way.\n",
        "\n",
        "Business is OK but Uncle Steve wants more. He's thus on the hunt for customer insights. Given your success at the jewelry store, he has asked you to help him out. \n",
        "\n",
        "He has given you a few years' worth of customer transactions, i.e., sets of items that customers have purchased. You have applied an association rules learning algorithm (like Apriori) to the data, and the algorithm has generated a large set of association rules of the form `{X} -> {Y}`, where `{X}` and `{Y}` are item-sets.\n",
        "\n",
        "Now comes a thought experiment. For each of the following scenarios, state what one of the discovered association rules might be that would meet the stated condition. (Just make up the rule, using your human experience and intuition.) Also, describe whether and why each rule would be considered interesting or uninteresting for Uncle Steve (i.e., is this insight new to him? Would he be able to use it somehow?).\n",
        "\n",
        "Keep each answer to 600 characters or less (including spaces).\n",
        "\n",
        "To get those brain juices going, an example condition and answer is provided below:\n",
        "\n",
        "> Condition: A rule that has high support.\n",
        "\n",
        "> Answer: The rule `{milk} -> {bread}` would have high support, since milk and bread are household staples and a high percentage of transactions would include both `{milk}` and `{bread}`. Uncle Steve would likely not find this rule interesting, because these items are so common, he would have surely already noticed that so many transactions contain them.\n",
        "\n",
        "**Marking**\n",
        "\n",
        "Your responses will be marked as follows:\n",
        "\n",
        "- *Correctness*. Rule meets the specificed condition, and seems plausible in an Ontario grocery store.\n",
        "- *Justification of interestness*. Response clearly describes whether and why the rule would be considered interesting to Uncle Steve.\n",
        "\n",
        "**Tips**\n",
        "\n",
        "- There is no actual data for this question. This question is just a thought exercise. You need to use your intuition, creatitivty, and understanding of the real world. I assume you are familiar with what happens inside of normal grocery stores. We are not using actual data and you do not need to create/generate/find any data. I repeat: there is no data for this question.\n",
        "- The reason this question is having you do a thought experiment, rather than writing and running code to find actual association rules on an actual dataset, is because writing code to find association rules is actually pretty easy. But using your brain to come up with rules that meet certain criteria, on the other hand, is a true test of whether you understand how the algorithm works, what support and confidence mean, and the applicability of rules. The question uses the grocery store context because most, if not all, students should be familiar from personal experience.\n",
        "\n"
      ]
    },
    {
      "cell_type": "markdown",
      "metadata": {
        "id": "3YQsOb6CzYVq"
      },
      "source": [
        "## 2.1: A rule that might have high support and high confidence. "
      ]
    },
    {
      "cell_type": "markdown",
      "metadata": {
        "id": "DzXu1IvK-MEg"
      },
      "source": [
        "Suppose X = Soap Y = Lotion {Soap} → {Lotion} Support = 3/5 = 0.6% Confidence = 3/4 = 0.75%\n",
        "\n",
        "Because soap and lotion are used by every household, Uncle Steve is interested in this rule, since he can package soap with lotion for sale"
      ]
    },
    {
      "cell_type": "markdown",
      "metadata": {
        "id": "VNIrAgJk-L4l"
      },
      "source": [
        "## 2.2: A rule that might have reasonably high support but low confidence."
      ]
    },
    {
      "cell_type": "markdown",
      "metadata": {
        "id": "svdzYW3S-LvF"
      },
      "source": [
        "Suppose X = Sprit Y = Almond milk {Soap} → {Lotion} Support = 3/5 = 0.6% Confidence = 1/4 = 0.25%\n",
        "\n",
        "Sprit and Almond milk appear to have a strong relationship because they have high support, however, they are two different types of drinks; one is a soft drink and the other is a healthy drink, so their confidence is low and they represent two different lifestyles. Uncle Steve is not interested in this rule, he will keep Sprit from Almond milk and never think about binding the price of them."
      ]
    },
    {
      "cell_type": "markdown",
      "metadata": {
        "id": "loe--LMz-Ll8"
      },
      "source": [
        "## 2.3: A rule that might have low support and low confidence."
      ]
    },
    {
      "cell_type": "markdown",
      "metadata": {
        "id": "HdyOB5fe-Zgy"
      },
      "source": [
        "Suppose the support of {men's underwar}=>{contact lens solutions}=0.15 and the confidence{men's underwear}=>{contact lens solutions}=0.12, it indicate\n",
        "\n",
        "Suppose X = contact lens solutions Y = men's underweaer {contact lens solutions} → {men's underwear} Support = 3/10= 0.3 Confidence = 1/8 = 0.125\n",
        "\n",
        "Uncle Steve is not interested in this rule, since if the customer buy a contact lens solutions, he is unlikley to buy men's underwaer, due to the low conifidence, contact lens solutions and men's underwear are hard to appear in one transaction at the same time. I do not advice Uncle Steve package the price of them for sale."
      ]
    },
    {
      "cell_type": "markdown",
      "metadata": {
        "id": "St2eI3We-ZYs"
      },
      "source": [
        "## 2.4: A rule that might have low support and high confidence."
      ]
    },
    {
      "cell_type": "markdown",
      "metadata": {
        "id": "LcdZc-B1-fE7"
      },
      "source": [
        "Suppose X = bread Y = diapers {bread} → {diapers} Support = 1.5/5 = 0.3 Confidence = 3/4 = 0.75\n",
        "\n",
        "Uncle Steve is interested in this rule,\n",
        "\n",
        "Suppose X = cereal Y = diapers {cereal} → {diapers} Support = 1.5/5=0.3 Confidence = 3/4=0.75\n",
        "\n",
        "As a result of high confidence, Uncle Steve is very interested in this rule since, if a customer buys cereal, he is more likely to buy diapers as well. It is easy for cereal and diapers to appear at the same time in a customer transaction. Uncle Steve should increase the price of cereal and lower the price of diapers in order to attract more customers and maximize profits."
      ]
    },
    {
      "cell_type": "markdown",
      "metadata": {
        "id": "B_IHoz7f2yIV"
      },
      "source": [
        "# Question 3: Uncle Steve's Credit Union"
      ]
    },
    {
      "cell_type": "markdown",
      "metadata": {
        "id": "WhERdkp_zYBY"
      },
      "source": [
        "## Instructions\n",
        "\n",
        "Uncle Steve has recently opened a new credit union in Kingston, named *Uncle Steve's Credit Union*. He plans to disrupt the local market by instaneously providing credit to customers.\n",
        "\n",
        "The first step in Uncle Steve's master plan is to create a model to predict whether an application has *good risk* or *bad risk*. He has outsourced the creation of this model to you.\n",
        "\n",
        "You are to create a classification model to predict whether a loan applicant has good risk or bad risk. You will use data  that Uncle Steve bought from another credit union (somewhere in Europe, he thinks?) that has around 6000 instances and a number of demographics features (e.g., `Sex`, `DateOfBirth`, `Married`), loan details (e.g., `Amount`, `Purpose`), credit history (e.g., number of loans), as well as an indicator (called `BadCredit` in the dataset) as to whether that person was a bad risk.\n",
        "\n",
        "\n",
        "**Your tasks**\n",
        "\n",
        "To examine the effects of the various ML stages, you are to create the model several times, each time adding more sophistication, and measuring how much the model improved (or not). In particular, you will:\n",
        "\n",
        "0. Split the data in training and testing. Don't touch the testing data again, for any reason, until step 5. We are pretending that the testing data is \"future, unseen data that our model won't see until production.\" I'm serious, don't touch it. I'm watching you!\n",
        "1. Build a baseline model - no feature engineering, no feature selection, no hyperparameter tuning (just use the default settings), nothing fancy. (You may need to do some basic feature transformations, e.g., encoding of categorical features, or dropping of features you do not think will help or do not want to deal with yet.) Measure the performance using K-fold cross validation (recommended: [`sklearn.model_selection.cross_val_score`](https://scikit-learn.org/stable/modules/generated/sklearn.model_selection.cross_val_score.html#sklearn.model_selection.cross_val_score)) on the training data. Use at least 5 folds, but more are better. Choose a [`scoring` parameter](https://scikit-learn.org/stable/modules/model_evaluation.html#scoring-parameter) (i.e., classification metric) that you feel is appropriate for this task. Don't use accuracy. Print the mean score of your model.\n",
        "2. Add a bit of feature engineering. The [`sklearn.preprocessing`](https://scikit-learn.org/stable/modules/classes.html#module-sklearn.preprocessing) module contains many useful transformations. Engineer at least three new features. They don't need to be especially ground-breaking or complicated. Dimensionality reduction techniques like [`sklearn.decomposition.PCA`](https://scikit-learn.org/stable/modules/generated/sklearn.decomposition.PCA.html) are fair game but not required. (If you do use dimensionality reduction techniques, it would only count as \"one\" new feature for the purposes of this assignment, even though I realize that PCA creates many new \"features\" (i.e., principal componentns).) Re-train your baseline model. Measure performance. Compare to step 1.\n",
        "3. Add feature selection. The [`sklearn.feature_selection`](https://scikit-learn.org/stable/modules/classes.html#module-sklearn.feature_selection) has some algorithms for you to choose from. After selecting features, re-train your model, measure performance, and compare to step 2.\n",
        "4. Add hyperparameter tuning. Make reasonable choices and try to find the best (or at least, better) hyperparameters for your estimator and/or transformers. It's probably a good idea to stop using `cross_val_score` at this point and start using [`sklearn.model_selection.GridSearchCV`](https://scikit-learn.org/stable/modules/generated/sklearn.model_selection.GridSearchCV.html#sklearn.model_selection.GridSearchCV) as it is specifically built for this purpose and is more convienient to use. Measure performance and compare to step 3.\n",
        "5. Finally, estimate how well your model will work in production. Use the testing data (our \"future, unseen data\") from step 0. Transform the data as appropriate (easy if you've built a pipeline, a little more difficult if not), use the model from step 4 to get predictions, and measure the performance. How well did we do? \n",
        "\n",
        "\n",
        "**Marking**\n",
        "\n",
        "Each part will be marked for:\n",
        "- *Correctness*. Code clearly and fully performs the task specified.\n",
        "- *Reproducibility*. Code is fully reproducible. I.e., you (and I) should be able to run this Notebook again and again, from top to bottom, and get the same results each and every time.\n",
        "- *Style*. Code is organized. All parts commented with clear reasoning and rationale. No old code laying around. Code easy to follow. \n",
        "\n",
        "\n",
        "**Tips**\n",
        "- The origins of the dataset are a bit of a mystery. Assume the data set is recent (circa 2021) and up-to-date. Assume that column names are correct and accurate.\n",
        "- You don't need to experiment with more than one algorithm/estimator. Just choose one (e.g., [`sklearn.tree.DecisionTreeClassifier`](https://scikit-learn.org/stable/modules/generated/sklearn.tree.DecisionTreeClassifier.html#sklearn.tree.DecisionTreeClassifier), [`sklearn.ensemble.RandomForestClassifier`](https://scikit-learn.org/stable/modules/generated/sklearn.ensemble.RandomForestClassifier.html#sklearn.ensemble.RandomForestClassifier), [`sklearn.linear_model.LogisticRegression`](https://scikit-learn.org/stable/modules/generated/sklearn.linear_model.LogisticRegression.html#sklearn.linear_model.LogisticRegression), [`sklearn.svm.LinearSVC`](https://scikit-learn.org/stable/modules/generated/sklearn.svm.LinearSVC.html#sklearn.svm.LinearSVC), whatever) and stick with it for this question. \n",
        "- There is no minimum accuracy/precision/recall for this question. I.e., your mark will not be based on how good your model is. Rather, you mark will be based on good your process is.\n",
        "- Watch out for data leakage and overfitting. In particular, be sure to `fit()` any estimators and transformers (collectively, *objects*) only to the training data, and then use the objects' `transform()` methods on both the training and testing data. [Data School](https://www.youtube.com/c/dataschool/featured) has a [helpful video](https://www.youtube.com/watch?v=g2XsZdwbCCs) about this. [Pipelines](https://www.youtube.com/watch?v=1Y6O9nCo0-I) are very helpful here and make your code shorter and more robust (at the expense of making it harder to understand), and I recommend using them, but they are not required for this assignment.\n",
        "- Create as many code cells as you need. In general, each cell should do one \"thing.\"\n",
        "-\tDon't print large volumes of output. E.g., don't do: `df.head(100)`\n",
        "\n",
        "\n"
      ]
    },
    {
      "cell_type": "markdown",
      "metadata": {
        "id": "jqm_REd4oouz"
      },
      "source": [
        "## 3.0: Load data and split"
      ]
    },
    {
      "cell_type": "code",
      "metadata": {
        "id": "X6b_BM0Nz9sF",
        "colab": {
          "base_uri": "https://localhost:8080/",
          "height": 0
        },
        "outputId": "d4bf7c2d-3366-407c-8f28-d1aaa702e815"
      },
      "source": [
        "# DO NOT MODIFY THIS CELL\n",
        "\n",
        "# First, we'll read the provided labeled training data\n",
        "df3 = pd.read_csv(\"https://drive.google.com/uc?export=download&id=1wOhyCnvGeY4jplxI8lZ-bbYN3zLtickf\")\n",
        "df3.info()\n",
        "\n",
        "from sklearn.model_selection import train_test_split\n",
        "\n",
        "X = df3.drop('BadCredit', axis=1) #.select_dtypes(['number'])\n",
        "y = df3['BadCredit']\n",
        "\n",
        "X_train, X_test, y_train, y_test = train_test_split(X, y, test_size=0.2, random_state=42)"
      ],
      "execution_count": 34,
      "outputs": [
        {
          "output_type": "stream",
          "name": "stdout",
          "text": [
            "<class 'pandas.core.frame.DataFrame'>\n",
            "RangeIndex: 6000 entries, 0 to 5999\n",
            "Data columns (total 17 columns):\n",
            " #   Column             Non-Null Count  Dtype \n",
            "---  ------             --------------  ----- \n",
            " 0   UserID             6000 non-null   object\n",
            " 1   Sex                6000 non-null   object\n",
            " 2   PreviousDefault    6000 non-null   int64 \n",
            " 3   FirstName          6000 non-null   object\n",
            " 4   LastName           6000 non-null   object\n",
            " 5   NumberPets         6000 non-null   int64 \n",
            " 6   PreviousAccounts   6000 non-null   int64 \n",
            " 7   ResidenceDuration  6000 non-null   int64 \n",
            " 8   Street             6000 non-null   object\n",
            " 9   LicensePlate       6000 non-null   object\n",
            " 10  BadCredit          6000 non-null   int64 \n",
            " 11  Amount             6000 non-null   int64 \n",
            " 12  Married            6000 non-null   int64 \n",
            " 13  Duration           6000 non-null   int64 \n",
            " 14  City               6000 non-null   object\n",
            " 15  Purpose            6000 non-null   object\n",
            " 16  DateOfBirth        6000 non-null   object\n",
            "dtypes: int64(8), object(9)\n",
            "memory usage: 797.0+ KB\n"
          ]
        }
      ]
    },
    {
      "cell_type": "markdown",
      "metadata": {
        "id": "sdiKKblCo53S"
      },
      "source": [
        "## 3.1: Baseline model"
      ]
    },
    {
      "cell_type": "code",
      "metadata": {
        "id": "mSumAZUAo9O6",
        "colab": {
          "base_uri": "https://localhost:8080/",
          "height": 444
        },
        "outputId": "2db28cf4-00f5-497b-970c-8503f37df367"
      },
      "source": [
        "\n",
        "X_train.head(5)"
      ],
      "execution_count": 35,
      "outputs": [
        {
          "output_type": "execute_result",
          "data": {
            "text/plain": [
              "           UserID Sex  PreviousDefault FirstName LastName  NumberPets  \\\n",
              "3897  236-22-6766   M                0     Jerry    Black           2   \n",
              "5628  766-20-5986   F                0     Julia    Jones           0   \n",
              "1756  744-25-5747   F                0   Abigail  Estrada           2   \n",
              "2346  463-78-3098   F                0   Jessica    Jones           2   \n",
              "2996  414-44-6527   M                0   William  Shaffer           0   \n",
              "\n",
              "      PreviousAccounts  ResidenceDuration                Street LicensePlate  \\\n",
              "3897                 0                  2       0466 Brown Wall      3-U8282   \n",
              "5628                 2                  2  6095 Larson Causeway      LWO 912   \n",
              "1756                 0                  3    293 Michael Divide      715 OQT   \n",
              "2346                 1                  2  02759 Williams Roads      869 SYK   \n",
              "2996                 1                  3      19797 Turner Rue      48-A601   \n",
              "\n",
              "      Amount  Married  Duration              City    Purpose DateOfBirth  \n",
              "3897    3329        0        12    New Roberttown  Household  1970-04-22  \n",
              "5628    2996        0        36         Ericmouth  Household  1964-06-19  \n",
              "1756    2470        0        24         East Jill     NewCar  1975-02-17  \n",
              "2346    3745        0        30        Lake Debra    UsedCar  1977-02-16  \n",
              "2996    3549        0        36  North Judithbury   Vacation  1976-07-27  "
            ],
            "text/html": [
              "\n",
              "  <div id=\"df-547369aa-a555-4ac3-820c-cbf02e0d0167\">\n",
              "    <div class=\"colab-df-container\">\n",
              "      <div>\n",
              "<style scoped>\n",
              "    .dataframe tbody tr th:only-of-type {\n",
              "        vertical-align: middle;\n",
              "    }\n",
              "\n",
              "    .dataframe tbody tr th {\n",
              "        vertical-align: top;\n",
              "    }\n",
              "\n",
              "    .dataframe thead th {\n",
              "        text-align: right;\n",
              "    }\n",
              "</style>\n",
              "<table border=\"1\" class=\"dataframe\">\n",
              "  <thead>\n",
              "    <tr style=\"text-align: right;\">\n",
              "      <th></th>\n",
              "      <th>UserID</th>\n",
              "      <th>Sex</th>\n",
              "      <th>PreviousDefault</th>\n",
              "      <th>FirstName</th>\n",
              "      <th>LastName</th>\n",
              "      <th>NumberPets</th>\n",
              "      <th>PreviousAccounts</th>\n",
              "      <th>ResidenceDuration</th>\n",
              "      <th>Street</th>\n",
              "      <th>LicensePlate</th>\n",
              "      <th>Amount</th>\n",
              "      <th>Married</th>\n",
              "      <th>Duration</th>\n",
              "      <th>City</th>\n",
              "      <th>Purpose</th>\n",
              "      <th>DateOfBirth</th>\n",
              "    </tr>\n",
              "  </thead>\n",
              "  <tbody>\n",
              "    <tr>\n",
              "      <th>3897</th>\n",
              "      <td>236-22-6766</td>\n",
              "      <td>M</td>\n",
              "      <td>0</td>\n",
              "      <td>Jerry</td>\n",
              "      <td>Black</td>\n",
              "      <td>2</td>\n",
              "      <td>0</td>\n",
              "      <td>2</td>\n",
              "      <td>0466 Brown Wall</td>\n",
              "      <td>3-U8282</td>\n",
              "      <td>3329</td>\n",
              "      <td>0</td>\n",
              "      <td>12</td>\n",
              "      <td>New Roberttown</td>\n",
              "      <td>Household</td>\n",
              "      <td>1970-04-22</td>\n",
              "    </tr>\n",
              "    <tr>\n",
              "      <th>5628</th>\n",
              "      <td>766-20-5986</td>\n",
              "      <td>F</td>\n",
              "      <td>0</td>\n",
              "      <td>Julia</td>\n",
              "      <td>Jones</td>\n",
              "      <td>0</td>\n",
              "      <td>2</td>\n",
              "      <td>2</td>\n",
              "      <td>6095 Larson Causeway</td>\n",
              "      <td>LWO 912</td>\n",
              "      <td>2996</td>\n",
              "      <td>0</td>\n",
              "      <td>36</td>\n",
              "      <td>Ericmouth</td>\n",
              "      <td>Household</td>\n",
              "      <td>1964-06-19</td>\n",
              "    </tr>\n",
              "    <tr>\n",
              "      <th>1756</th>\n",
              "      <td>744-25-5747</td>\n",
              "      <td>F</td>\n",
              "      <td>0</td>\n",
              "      <td>Abigail</td>\n",
              "      <td>Estrada</td>\n",
              "      <td>2</td>\n",
              "      <td>0</td>\n",
              "      <td>3</td>\n",
              "      <td>293 Michael Divide</td>\n",
              "      <td>715 OQT</td>\n",
              "      <td>2470</td>\n",
              "      <td>0</td>\n",
              "      <td>24</td>\n",
              "      <td>East Jill</td>\n",
              "      <td>NewCar</td>\n",
              "      <td>1975-02-17</td>\n",
              "    </tr>\n",
              "    <tr>\n",
              "      <th>2346</th>\n",
              "      <td>463-78-3098</td>\n",
              "      <td>F</td>\n",
              "      <td>0</td>\n",
              "      <td>Jessica</td>\n",
              "      <td>Jones</td>\n",
              "      <td>2</td>\n",
              "      <td>1</td>\n",
              "      <td>2</td>\n",
              "      <td>02759 Williams Roads</td>\n",
              "      <td>869 SYK</td>\n",
              "      <td>3745</td>\n",
              "      <td>0</td>\n",
              "      <td>30</td>\n",
              "      <td>Lake Debra</td>\n",
              "      <td>UsedCar</td>\n",
              "      <td>1977-02-16</td>\n",
              "    </tr>\n",
              "    <tr>\n",
              "      <th>2996</th>\n",
              "      <td>414-44-6527</td>\n",
              "      <td>M</td>\n",
              "      <td>0</td>\n",
              "      <td>William</td>\n",
              "      <td>Shaffer</td>\n",
              "      <td>0</td>\n",
              "      <td>1</td>\n",
              "      <td>3</td>\n",
              "      <td>19797 Turner Rue</td>\n",
              "      <td>48-A601</td>\n",
              "      <td>3549</td>\n",
              "      <td>0</td>\n",
              "      <td>36</td>\n",
              "      <td>North Judithbury</td>\n",
              "      <td>Vacation</td>\n",
              "      <td>1976-07-27</td>\n",
              "    </tr>\n",
              "  </tbody>\n",
              "</table>\n",
              "</div>\n",
              "      <button class=\"colab-df-convert\" onclick=\"convertToInteractive('df-547369aa-a555-4ac3-820c-cbf02e0d0167')\"\n",
              "              title=\"Convert this dataframe to an interactive table.\"\n",
              "              style=\"display:none;\">\n",
              "        \n",
              "  <svg xmlns=\"http://www.w3.org/2000/svg\" height=\"24px\"viewBox=\"0 0 24 24\"\n",
              "       width=\"24px\">\n",
              "    <path d=\"M0 0h24v24H0V0z\" fill=\"none\"/>\n",
              "    <path d=\"M18.56 5.44l.94 2.06.94-2.06 2.06-.94-2.06-.94-.94-2.06-.94 2.06-2.06.94zm-11 1L8.5 8.5l.94-2.06 2.06-.94-2.06-.94L8.5 2.5l-.94 2.06-2.06.94zm10 10l.94 2.06.94-2.06 2.06-.94-2.06-.94-.94-2.06-.94 2.06-2.06.94z\"/><path d=\"M17.41 7.96l-1.37-1.37c-.4-.4-.92-.59-1.43-.59-.52 0-1.04.2-1.43.59L10.3 9.45l-7.72 7.72c-.78.78-.78 2.05 0 2.83L4 21.41c.39.39.9.59 1.41.59.51 0 1.02-.2 1.41-.59l7.78-7.78 2.81-2.81c.8-.78.8-2.07 0-2.86zM5.41 20L4 18.59l7.72-7.72 1.47 1.35L5.41 20z\"/>\n",
              "  </svg>\n",
              "      </button>\n",
              "      \n",
              "  <style>\n",
              "    .colab-df-container {\n",
              "      display:flex;\n",
              "      flex-wrap:wrap;\n",
              "      gap: 12px;\n",
              "    }\n",
              "\n",
              "    .colab-df-convert {\n",
              "      background-color: #E8F0FE;\n",
              "      border: none;\n",
              "      border-radius: 50%;\n",
              "      cursor: pointer;\n",
              "      display: none;\n",
              "      fill: #1967D2;\n",
              "      height: 32px;\n",
              "      padding: 0 0 0 0;\n",
              "      width: 32px;\n",
              "    }\n",
              "\n",
              "    .colab-df-convert:hover {\n",
              "      background-color: #E2EBFA;\n",
              "      box-shadow: 0px 1px 2px rgba(60, 64, 67, 0.3), 0px 1px 3px 1px rgba(60, 64, 67, 0.15);\n",
              "      fill: #174EA6;\n",
              "    }\n",
              "\n",
              "    [theme=dark] .colab-df-convert {\n",
              "      background-color: #3B4455;\n",
              "      fill: #D2E3FC;\n",
              "    }\n",
              "\n",
              "    [theme=dark] .colab-df-convert:hover {\n",
              "      background-color: #434B5C;\n",
              "      box-shadow: 0px 1px 3px 1px rgba(0, 0, 0, 0.15);\n",
              "      filter: drop-shadow(0px 1px 2px rgba(0, 0, 0, 0.3));\n",
              "      fill: #FFFFFF;\n",
              "    }\n",
              "  </style>\n",
              "\n",
              "      <script>\n",
              "        const buttonEl =\n",
              "          document.querySelector('#df-547369aa-a555-4ac3-820c-cbf02e0d0167 button.colab-df-convert');\n",
              "        buttonEl.style.display =\n",
              "          google.colab.kernel.accessAllowed ? 'block' : 'none';\n",
              "\n",
              "        async function convertToInteractive(key) {\n",
              "          const element = document.querySelector('#df-547369aa-a555-4ac3-820c-cbf02e0d0167');\n",
              "          const dataTable =\n",
              "            await google.colab.kernel.invokeFunction('convertToInteractive',\n",
              "                                                     [key], {});\n",
              "          if (!dataTable) return;\n",
              "\n",
              "          const docLinkHtml = 'Like what you see? Visit the ' +\n",
              "            '<a target=\"_blank\" href=https://colab.research.google.com/notebooks/data_table.ipynb>data table notebook</a>'\n",
              "            + ' to learn more about interactive tables.';\n",
              "          element.innerHTML = '';\n",
              "          dataTable['output_type'] = 'display_data';\n",
              "          await google.colab.output.renderOutput(dataTable, element);\n",
              "          const docLink = document.createElement('div');\n",
              "          docLink.innerHTML = docLinkHtml;\n",
              "          element.appendChild(docLink);\n",
              "        }\n",
              "      </script>\n",
              "    </div>\n",
              "  </div>\n",
              "  "
            ]
          },
          "metadata": {},
          "execution_count": 35
        }
      ]
    },
    {
      "cell_type": "code",
      "source": [
        "X_train.shape"
      ],
      "metadata": {
        "colab": {
          "base_uri": "https://localhost:8080/",
          "height": 0
        },
        "id": "2skMeC3ZpV0h",
        "outputId": "317b2829-c41b-46be-a85f-e6daa52561ff"
      },
      "execution_count": 36,
      "outputs": [
        {
          "output_type": "execute_result",
          "data": {
            "text/plain": [
              "(4800, 16)"
            ]
          },
          "metadata": {},
          "execution_count": 36
        }
      ]
    },
    {
      "cell_type": "code",
      "source": [
        "X_train1=X_train.drop(labels=['UserID','FirstName','LastName','LicensePlate','Street','DateOfBirth'],axis=1)\n",
        "X_train1.head(5)"
      ],
      "metadata": {
        "colab": {
          "base_uri": "https://localhost:8080/",
          "height": 206
        },
        "id": "cp3qMoWwZ5nd",
        "outputId": "4c15ec07-566c-480f-b96c-4f75cc0fedcb"
      },
      "execution_count": 37,
      "outputs": [
        {
          "output_type": "execute_result",
          "data": {
            "text/plain": [
              "     Sex  PreviousDefault  NumberPets  PreviousAccounts  ResidenceDuration  \\\n",
              "3897   M                0           2                 0                  2   \n",
              "5628   F                0           0                 2                  2   \n",
              "1756   F                0           2                 0                  3   \n",
              "2346   F                0           2                 1                  2   \n",
              "2996   M                0           0                 1                  3   \n",
              "\n",
              "      Amount  Married  Duration              City    Purpose  \n",
              "3897    3329        0        12    New Roberttown  Household  \n",
              "5628    2996        0        36         Ericmouth  Household  \n",
              "1756    2470        0        24         East Jill     NewCar  \n",
              "2346    3745        0        30        Lake Debra    UsedCar  \n",
              "2996    3549        0        36  North Judithbury   Vacation  "
            ],
            "text/html": [
              "\n",
              "  <div id=\"df-8064a3fe-5c3f-47a9-a853-523acefaab96\">\n",
              "    <div class=\"colab-df-container\">\n",
              "      <div>\n",
              "<style scoped>\n",
              "    .dataframe tbody tr th:only-of-type {\n",
              "        vertical-align: middle;\n",
              "    }\n",
              "\n",
              "    .dataframe tbody tr th {\n",
              "        vertical-align: top;\n",
              "    }\n",
              "\n",
              "    .dataframe thead th {\n",
              "        text-align: right;\n",
              "    }\n",
              "</style>\n",
              "<table border=\"1\" class=\"dataframe\">\n",
              "  <thead>\n",
              "    <tr style=\"text-align: right;\">\n",
              "      <th></th>\n",
              "      <th>Sex</th>\n",
              "      <th>PreviousDefault</th>\n",
              "      <th>NumberPets</th>\n",
              "      <th>PreviousAccounts</th>\n",
              "      <th>ResidenceDuration</th>\n",
              "      <th>Amount</th>\n",
              "      <th>Married</th>\n",
              "      <th>Duration</th>\n",
              "      <th>City</th>\n",
              "      <th>Purpose</th>\n",
              "    </tr>\n",
              "  </thead>\n",
              "  <tbody>\n",
              "    <tr>\n",
              "      <th>3897</th>\n",
              "      <td>M</td>\n",
              "      <td>0</td>\n",
              "      <td>2</td>\n",
              "      <td>0</td>\n",
              "      <td>2</td>\n",
              "      <td>3329</td>\n",
              "      <td>0</td>\n",
              "      <td>12</td>\n",
              "      <td>New Roberttown</td>\n",
              "      <td>Household</td>\n",
              "    </tr>\n",
              "    <tr>\n",
              "      <th>5628</th>\n",
              "      <td>F</td>\n",
              "      <td>0</td>\n",
              "      <td>0</td>\n",
              "      <td>2</td>\n",
              "      <td>2</td>\n",
              "      <td>2996</td>\n",
              "      <td>0</td>\n",
              "      <td>36</td>\n",
              "      <td>Ericmouth</td>\n",
              "      <td>Household</td>\n",
              "    </tr>\n",
              "    <tr>\n",
              "      <th>1756</th>\n",
              "      <td>F</td>\n",
              "      <td>0</td>\n",
              "      <td>2</td>\n",
              "      <td>0</td>\n",
              "      <td>3</td>\n",
              "      <td>2470</td>\n",
              "      <td>0</td>\n",
              "      <td>24</td>\n",
              "      <td>East Jill</td>\n",
              "      <td>NewCar</td>\n",
              "    </tr>\n",
              "    <tr>\n",
              "      <th>2346</th>\n",
              "      <td>F</td>\n",
              "      <td>0</td>\n",
              "      <td>2</td>\n",
              "      <td>1</td>\n",
              "      <td>2</td>\n",
              "      <td>3745</td>\n",
              "      <td>0</td>\n",
              "      <td>30</td>\n",
              "      <td>Lake Debra</td>\n",
              "      <td>UsedCar</td>\n",
              "    </tr>\n",
              "    <tr>\n",
              "      <th>2996</th>\n",
              "      <td>M</td>\n",
              "      <td>0</td>\n",
              "      <td>0</td>\n",
              "      <td>1</td>\n",
              "      <td>3</td>\n",
              "      <td>3549</td>\n",
              "      <td>0</td>\n",
              "      <td>36</td>\n",
              "      <td>North Judithbury</td>\n",
              "      <td>Vacation</td>\n",
              "    </tr>\n",
              "  </tbody>\n",
              "</table>\n",
              "</div>\n",
              "      <button class=\"colab-df-convert\" onclick=\"convertToInteractive('df-8064a3fe-5c3f-47a9-a853-523acefaab96')\"\n",
              "              title=\"Convert this dataframe to an interactive table.\"\n",
              "              style=\"display:none;\">\n",
              "        \n",
              "  <svg xmlns=\"http://www.w3.org/2000/svg\" height=\"24px\"viewBox=\"0 0 24 24\"\n",
              "       width=\"24px\">\n",
              "    <path d=\"M0 0h24v24H0V0z\" fill=\"none\"/>\n",
              "    <path d=\"M18.56 5.44l.94 2.06.94-2.06 2.06-.94-2.06-.94-.94-2.06-.94 2.06-2.06.94zm-11 1L8.5 8.5l.94-2.06 2.06-.94-2.06-.94L8.5 2.5l-.94 2.06-2.06.94zm10 10l.94 2.06.94-2.06 2.06-.94-2.06-.94-.94-2.06-.94 2.06-2.06.94z\"/><path d=\"M17.41 7.96l-1.37-1.37c-.4-.4-.92-.59-1.43-.59-.52 0-1.04.2-1.43.59L10.3 9.45l-7.72 7.72c-.78.78-.78 2.05 0 2.83L4 21.41c.39.39.9.59 1.41.59.51 0 1.02-.2 1.41-.59l7.78-7.78 2.81-2.81c.8-.78.8-2.07 0-2.86zM5.41 20L4 18.59l7.72-7.72 1.47 1.35L5.41 20z\"/>\n",
              "  </svg>\n",
              "      </button>\n",
              "      \n",
              "  <style>\n",
              "    .colab-df-container {\n",
              "      display:flex;\n",
              "      flex-wrap:wrap;\n",
              "      gap: 12px;\n",
              "    }\n",
              "\n",
              "    .colab-df-convert {\n",
              "      background-color: #E8F0FE;\n",
              "      border: none;\n",
              "      border-radius: 50%;\n",
              "      cursor: pointer;\n",
              "      display: none;\n",
              "      fill: #1967D2;\n",
              "      height: 32px;\n",
              "      padding: 0 0 0 0;\n",
              "      width: 32px;\n",
              "    }\n",
              "\n",
              "    .colab-df-convert:hover {\n",
              "      background-color: #E2EBFA;\n",
              "      box-shadow: 0px 1px 2px rgba(60, 64, 67, 0.3), 0px 1px 3px 1px rgba(60, 64, 67, 0.15);\n",
              "      fill: #174EA6;\n",
              "    }\n",
              "\n",
              "    [theme=dark] .colab-df-convert {\n",
              "      background-color: #3B4455;\n",
              "      fill: #D2E3FC;\n",
              "    }\n",
              "\n",
              "    [theme=dark] .colab-df-convert:hover {\n",
              "      background-color: #434B5C;\n",
              "      box-shadow: 0px 1px 3px 1px rgba(0, 0, 0, 0.15);\n",
              "      filter: drop-shadow(0px 1px 2px rgba(0, 0, 0, 0.3));\n",
              "      fill: #FFFFFF;\n",
              "    }\n",
              "  </style>\n",
              "\n",
              "      <script>\n",
              "        const buttonEl =\n",
              "          document.querySelector('#df-8064a3fe-5c3f-47a9-a853-523acefaab96 button.colab-df-convert');\n",
              "        buttonEl.style.display =\n",
              "          google.colab.kernel.accessAllowed ? 'block' : 'none';\n",
              "\n",
              "        async function convertToInteractive(key) {\n",
              "          const element = document.querySelector('#df-8064a3fe-5c3f-47a9-a853-523acefaab96');\n",
              "          const dataTable =\n",
              "            await google.colab.kernel.invokeFunction('convertToInteractive',\n",
              "                                                     [key], {});\n",
              "          if (!dataTable) return;\n",
              "\n",
              "          const docLinkHtml = 'Like what you see? Visit the ' +\n",
              "            '<a target=\"_blank\" href=https://colab.research.google.com/notebooks/data_table.ipynb>data table notebook</a>'\n",
              "            + ' to learn more about interactive tables.';\n",
              "          element.innerHTML = '';\n",
              "          dataTable['output_type'] = 'display_data';\n",
              "          await google.colab.output.renderOutput(dataTable, element);\n",
              "          const docLink = document.createElement('div');\n",
              "          docLink.innerHTML = docLinkHtml;\n",
              "          element.appendChild(docLink);\n",
              "        }\n",
              "      </script>\n",
              "    </div>\n",
              "  </div>\n",
              "  "
            ]
          },
          "metadata": {},
          "execution_count": 37
        }
      ]
    },
    {
      "cell_type": "code",
      "source": [
        "\n",
        "X_train1['Married']= X_train1['Married'].astype(\"object\")"
      ],
      "metadata": {
        "id": "v7k_qwwzZ5sd"
      },
      "execution_count": 38,
      "outputs": []
    },
    {
      "cell_type": "code",
      "source": [
        "\n",
        "categorical_values = X_train1.select_dtypes(include=['object'])\n",
        "print(\"Categorical Variables\")\n",
        "categorical_values.columns"
      ],
      "metadata": {
        "colab": {
          "base_uri": "https://localhost:8080/",
          "height": 0
        },
        "id": "EY_OKf3LZ5vs",
        "outputId": "4572ee3d-0125-4af5-d9e3-122fc9a7055f"
      },
      "execution_count": 39,
      "outputs": [
        {
          "output_type": "stream",
          "name": "stdout",
          "text": [
            "Categorical Variables\n"
          ]
        },
        {
          "output_type": "execute_result",
          "data": {
            "text/plain": [
              "Index(['Sex', 'Married', 'City', 'Purpose'], dtype='object')"
            ]
          },
          "metadata": {},
          "execution_count": 39
        }
      ]
    },
    {
      "cell_type": "code",
      "source": [
        "\n",
        "numeric_values = X_train1.select_dtypes(include=['int64'])\n",
        "print(\"Numeric Variables\")\n",
        "numeric_values.columns"
      ],
      "metadata": {
        "colab": {
          "base_uri": "https://localhost:8080/",
          "height": 0
        },
        "id": "cGpoCyzHZ5y-",
        "outputId": "96c920cd-c52a-4e37-e579-06d89082221f"
      },
      "execution_count": 40,
      "outputs": [
        {
          "output_type": "stream",
          "name": "stdout",
          "text": [
            "Numeric Variables\n"
          ]
        },
        {
          "output_type": "execute_result",
          "data": {
            "text/plain": [
              "Index(['PreviousDefault', 'NumberPets', 'PreviousAccounts',\n",
              "       'ResidenceDuration', 'Amount', 'Duration'],\n",
              "      dtype='object')"
            ]
          },
          "metadata": {},
          "execution_count": 40
        }
      ]
    },
    {
      "cell_type": "code",
      "source": [
        "categorical_encoded = pd.get_dummies(categorical_values, drop_first=True)\n",
        "categorical_encoded.dtypes"
      ],
      "metadata": {
        "colab": {
          "base_uri": "https://localhost:8080/",
          "height": 0
        },
        "id": "6EXWc-coZ52O",
        "outputId": "4d8af393-cdab-4a60-8da9-2956dd045b25"
      },
      "execution_count": 41,
      "outputs": [
        {
          "output_type": "execute_result",
          "data": {
            "text/plain": [
              "Sex_M                    uint8\n",
              "Married_1                uint8\n",
              "City_East Jessetown      uint8\n",
              "City_East Jill           uint8\n",
              "City_Ericmouth           uint8\n",
              "City_Herrerafurt         uint8\n",
              "City_Jacquelineland      uint8\n",
              "City_Lake Chad           uint8\n",
              "City_Lake Debra          uint8\n",
              "City_Lake Roberto        uint8\n",
              "City_Lisatown            uint8\n",
              "City_New Jessica         uint8\n",
              "City_New Kellystad       uint8\n",
              "City_New Roberttown      uint8\n",
              "City_North Judithbury    uint8\n",
              "City_North Noahstad      uint8\n",
              "City_Port Jesseville     uint8\n",
              "City_Port Keith          uint8\n",
              "City_Ramirezstad         uint8\n",
              "City_Robinsonshire       uint8\n",
              "City_West Michael        uint8\n",
              "Purpose_Education        uint8\n",
              "Purpose_Household        uint8\n",
              "Purpose_NewCar           uint8\n",
              "Purpose_Other            uint8\n",
              "Purpose_Repair           uint8\n",
              "Purpose_UsedCar          uint8\n",
              "Purpose_Vacation         uint8\n",
              "dtype: object"
            ]
          },
          "metadata": {},
          "execution_count": 41
        }
      ]
    },
    {
      "cell_type": "code",
      "source": [
        "X_train1=pd.concat([numeric_values, categorical_encoded], axis=1)"
      ],
      "metadata": {
        "id": "onSFzpfzZ55O"
      },
      "execution_count": 42,
      "outputs": []
    },
    {
      "cell_type": "code",
      "source": [
        "X_train1.isnull().sum()"
      ],
      "metadata": {
        "colab": {
          "base_uri": "https://localhost:8080/",
          "height": 0
        },
        "id": "usHdWzvcZ58t",
        "outputId": "4665c51b-9d30-4c8b-a9d6-811f3ddd3b3b"
      },
      "execution_count": 43,
      "outputs": [
        {
          "output_type": "execute_result",
          "data": {
            "text/plain": [
              "PreviousDefault          0\n",
              "NumberPets               0\n",
              "PreviousAccounts         0\n",
              "ResidenceDuration        0\n",
              "Amount                   0\n",
              "Duration                 0\n",
              "Sex_M                    0\n",
              "Married_1                0\n",
              "City_East Jessetown      0\n",
              "City_East Jill           0\n",
              "City_Ericmouth           0\n",
              "City_Herrerafurt         0\n",
              "City_Jacquelineland      0\n",
              "City_Lake Chad           0\n",
              "City_Lake Debra          0\n",
              "City_Lake Roberto        0\n",
              "City_Lisatown            0\n",
              "City_New Jessica         0\n",
              "City_New Kellystad       0\n",
              "City_New Roberttown      0\n",
              "City_North Judithbury    0\n",
              "City_North Noahstad      0\n",
              "City_Port Jesseville     0\n",
              "City_Port Keith          0\n",
              "City_Ramirezstad         0\n",
              "City_Robinsonshire       0\n",
              "City_West Michael        0\n",
              "Purpose_Education        0\n",
              "Purpose_Household        0\n",
              "Purpose_NewCar           0\n",
              "Purpose_Other            0\n",
              "Purpose_Repair           0\n",
              "Purpose_UsedCar          0\n",
              "Purpose_Vacation         0\n",
              "dtype: int64"
            ]
          },
          "metadata": {},
          "execution_count": 43
        }
      ]
    },
    {
      "cell_type": "code",
      "source": [
        "X_train1.shape"
      ],
      "metadata": {
        "colab": {
          "base_uri": "https://localhost:8080/",
          "height": 0
        },
        "id": "V7qSqzrbZ6Ct",
        "outputId": "b71f6d2c-7c4f-4da6-da36-d903c20cb39c"
      },
      "execution_count": 44,
      "outputs": [
        {
          "output_type": "execute_result",
          "data": {
            "text/plain": [
              "(4800, 34)"
            ]
          },
          "metadata": {},
          "execution_count": 44
        }
      ]
    },
    {
      "cell_type": "code",
      "source": [
        "X_train1=pd.concat([numeric_values, categorical_encoded], axis=1)\n"
      ],
      "metadata": {
        "id": "y_CogVgNbU7a"
      },
      "execution_count": 45,
      "outputs": []
    },
    {
      "cell_type": "code",
      "source": [
        "\n",
        "from sklearn.tree import DecisionTreeClassifier\n",
        "from sklearn.model_selection import cross_val_score\n",
        "clf = DecisionTreeClassifier(random_state=0)\n",
        "scores=cross_val_score(clf, X_train1, y_train, cv=5,scoring= 'f1_micro')\n",
        "print(\"Mean Accuracy: {:.4f}\".format(np.mean(scores)))"
      ],
      "metadata": {
        "colab": {
          "base_uri": "https://localhost:8080/",
          "height": 0
        },
        "outputId": "b9e9900d-48a3-4553-d72c-4eaae9a53e00",
        "id": "HA3Pds8KfOWt"
      },
      "execution_count": 46,
      "outputs": [
        {
          "output_type": "stream",
          "name": "stdout",
          "text": [
            "Mean Accuracy: 0.7721\n"
          ]
        }
      ]
    },
    {
      "cell_type": "code",
      "source": [
        "X_train1.shape"
      ],
      "metadata": {
        "colab": {
          "base_uri": "https://localhost:8080/",
          "height": 0
        },
        "id": "mxNh2SYZfS8g",
        "outputId": "9a30b4cb-3a4b-4c6b-e12a-6ee3d3bbc499"
      },
      "execution_count": 47,
      "outputs": [
        {
          "output_type": "execute_result",
          "data": {
            "text/plain": [
              "(4800, 34)"
            ]
          },
          "metadata": {},
          "execution_count": 47
        }
      ]
    },
    {
      "cell_type": "markdown",
      "metadata": {
        "id": "ugyTS51Ko5vz"
      },
      "source": [
        "## 3.2: Feature engineering"
      ]
    },
    {
      "cell_type": "code",
      "source": [
        "import matplotlib.pyplot as plt\n"
      ],
      "metadata": {
        "id": "8uLdNqGjaXrr"
      },
      "execution_count": 48,
      "outputs": []
    },
    {
      "cell_type": "code",
      "source": [
        "def plot_hist(feature, title):\n",
        "    plt.figure(figsize=(8, 5));\n",
        "    plt.hist(feature, bins=20, edgecolor='black', linewidth=1.2);\n",
        "    plt.title(title, fontsize=20);\n",
        "    #ax.tick_params(axis='both', which='major', labelsize=18);\n",
        "    plt.grid(True);"
      ],
      "metadata": {
        "id": "d61g9RRwaYAc"
      },
      "execution_count": 49,
      "outputs": []
    },
    {
      "cell_type": "code",
      "source": [
        "plot_hist(X_train1['PreviousAccounts'], \"Raw\");"
      ],
      "metadata": {
        "colab": {
          "base_uri": "https://localhost:8080/",
          "height": 354
        },
        "id": "EDhefP_da-Vd",
        "outputId": "8abdaa16-7ba8-46b0-c7ec-9cf68f057c99"
      },
      "execution_count": 50,
      "outputs": [
        {
          "output_type": "display_data",
          "data": {
            "text/plain": [
              "<Figure size 576x360 with 1 Axes>"
            ],
            "image/png": "[encoded data removed]"
          },
          "metadata": {}
        }
      ]
    },
    {
      "cell_type": "code",
      "source": [
        "from sklearn.preprocessing import StandardScaler\n",
        "\n",
        "scaler = StandardScaler()\n",
        "scaler.fit(X_train1[['ResidenceDuration']])\n",
        "\n",
        "X_train1['ResidenceDuration_new'] = scaler.transform(X_train1[['ResidenceDuration']])  "
      ],
      "metadata": {
        "colab": {
          "base_uri": "https://localhost:8080/",
          "height": 0
        },
        "id": "KB8silTtbCec",
        "outputId": "2177974a-a377-482d-e9f3-ac1d2e09171c"
      },
      "execution_count": 51,
      "outputs": [
        {
          "output_type": "execute_result",
          "data": {
            "text/plain": [
              "StandardScaler()"
            ]
          },
          "metadata": {},
          "execution_count": 51
        }
      ]
    },
    {
      "cell_type": "code",
      "source": [
        "plot_hist(X_train1['ResidenceDuration_new'], \"Raw\");"
      ],
      "metadata": {
        "colab": {
          "base_uri": "https://localhost:8080/",
          "height": 354
        },
        "id": "j3CsiUDM2Xyn",
        "outputId": "699d538d-ee0b-45c9-923c-f2bb72dd17fa"
      },
      "execution_count": 52,
      "outputs": [
        {
          "output_type": "display_data",
          "data": {
            "text/plain": [
              "<Figure size 576x360 with 1 Axes>"
            ],
            "image/png": "[encoded data removed]"
          },
          "metadata": {}
        }
      ]
    },
    {
      "cell_type": "code",
      "source": [
        "from sklearn.preprocessing import MinMaxScaler\n",
        "\n",
        "scaler = MinMaxScaler()\n",
        "scaler.fit(X_train1[['Duration']])\n",
        "\n",
        "X_train1['Duration_new'] = scaler.transform(X_train1[['Duration']])   \n"
      ],
      "metadata": {
        "colab": {
          "base_uri": "https://localhost:8080/",
          "height": 0
        },
        "id": "J6nNMaP2bCtN",
        "outputId": "482345e4-4bb3-49d8-ee63-e3884e48d0d6"
      },
      "execution_count": 53,
      "outputs": [
        {
          "output_type": "execute_result",
          "data": {
            "text/plain": [
              "MinMaxScaler()"
            ]
          },
          "metadata": {},
          "execution_count": 53
        }
      ]
    },
    {
      "cell_type": "code",
      "source": [
        "plot_hist(X_train1['Duration_new'], \"Raw\");"
      ],
      "metadata": {
        "colab": {
          "base_uri": "https://localhost:8080/",
          "height": 354
        },
        "id": "jZeBdFBA2muW",
        "outputId": "1d978dfb-bc82-4354-d948-bd61a90a5f4d"
      },
      "execution_count": 54,
      "outputs": [
        {
          "output_type": "display_data",
          "data": {
            "text/plain": [
              "<Figure size 576x360 with 1 Axes>"
            ],
            "image/png": "[encoded data removed]"
          },
          "metadata": {}
        }
      ]
    },
    {
      "cell_type": "code",
      "source": [
        "from sklearn.preprocessing import PowerTransformer\n",
        "\n",
        "scaler = PowerTransformer(method='box-cox')\n",
        "scaler.fit(X_train1[['Amount']])\n",
        "X_train1['Amount_new'] = scaler.transform(X_train1[['Amount']])  \n",
        "\n"
      ],
      "metadata": {
        "colab": {
          "base_uri": "https://localhost:8080/",
          "height": 0
        },
        "id": "7D2QsaSMbC21",
        "outputId": "e041c8f9-139c-4117-9931-b9aaa21790c6"
      },
      "execution_count": 55,
      "outputs": [
        {
          "output_type": "execute_result",
          "data": {
            "text/plain": [
              "PowerTransformer(method='box-cox')"
            ]
          },
          "metadata": {},
          "execution_count": 55
        }
      ]
    },
    {
      "cell_type": "code",
      "source": [
        "plot_hist(X_train1['Amount_new'], \"Raw\");"
      ],
      "metadata": {
        "colab": {
          "base_uri": "https://localhost:8080/",
          "height": 354
        },
        "id": "cU3KCoQD2txA",
        "outputId": "79b0a965-3fd1-4f38-fc59-c2e4e7a34a9c"
      },
      "execution_count": 56,
      "outputs": [
        {
          "output_type": "display_data",
          "data": {
            "text/plain": [
              "<Figure size 576x360 with 1 Axes>"
            ],
            "image/png": "[encoded data removed]"
          },
          "metadata": {}
        }
      ]
    },
    {
      "cell_type": "code",
      "source": [
        "from sklearn.preprocessing import PowerTransformer\n",
        "\n",
        "scaler = PowerTransformer(method='yeo-johnson')\n",
        "scaler.fit(X_train1[['PreviousAccounts']])\n",
        "X_train1['PreviousAccounts_new'] = scaler.transform(X_train1[['PreviousAccounts']])  "
      ],
      "metadata": {
        "colab": {
          "base_uri": "https://localhost:8080/",
          "height": 0
        },
        "id": "V4Zbcfdse_0H",
        "outputId": "a84cf5c1-ebd7-4b4f-ca5b-3566c2353d6a"
      },
      "execution_count": 57,
      "outputs": [
        {
          "output_type": "execute_result",
          "data": {
            "text/plain": [
              "PowerTransformer()"
            ]
          },
          "metadata": {},
          "execution_count": 57
        }
      ]
    },
    {
      "cell_type": "code",
      "source": [
        "\n",
        "from sklearn.tree import DecisionTreeClassifier\n",
        "from sklearn.model_selection import cross_val_score\n",
        "clf = DecisionTreeClassifier(random_state=0)\n",
        "scores=cross_val_score(clf, X_train1, y_train, cv=5,scoring= 'f1_micro')\n",
        "print(\"Mean Accuracy: {:.4f}\".format(np.mean(scores)))"
      ],
      "metadata": {
        "colab": {
          "base_uri": "https://localhost:8080/",
          "height": 0
        },
        "id": "h4PQWz8RbDF5",
        "outputId": "6e5c3c08-cc62-4ecc-c890-acc66ab11179"
      },
      "execution_count": 58,
      "outputs": [
        {
          "output_type": "stream",
          "name": "stdout",
          "text": [
            "Mean Accuracy: 0.7765\n"
          ]
        }
      ]
    },
    {
      "cell_type": "code",
      "source": [
        "X_train1.shape"
      ],
      "metadata": {
        "colab": {
          "base_uri": "https://localhost:8080/",
          "height": 0
        },
        "id": "Tiwbvwa1bvLL",
        "outputId": "06c51f28-0a15-469e-85c1-97d6e909bb3b"
      },
      "execution_count": 59,
      "outputs": [
        {
          "output_type": "execute_result",
          "data": {
            "text/plain": [
              "(4800, 38)"
            ]
          },
          "metadata": {},
          "execution_count": 59
        }
      ]
    },
    {
      "cell_type": "code",
      "source": [
        "X_train1.info()"
      ],
      "metadata": {
        "colab": {
          "base_uri": "https://localhost:8080/",
          "height": 0
        },
        "id": "bmYqHWZ3fdbM",
        "outputId": "9004de3e-0cbc-42bf-aa87-d9e4e66b3e1f"
      },
      "execution_count": 60,
      "outputs": [
        {
          "output_type": "stream",
          "name": "stdout",
          "text": [
            "<class 'pandas.core.frame.DataFrame'>\n",
            "Int64Index: 4800 entries, 3897 to 860\n",
            "Data columns (total 38 columns):\n",
            " #   Column                 Non-Null Count  Dtype  \n",
            "---  ------                 --------------  -----  \n",
            " 0   PreviousDefault        4800 non-null   int64  \n",
            " 1   NumberPets             4800 non-null   int64  \n",
            " 2   PreviousAccounts       4800 non-null   int64  \n",
            " 3   ResidenceDuration      4800 non-null   int64  \n",
            " 4   Amount                 4800 non-null   int64  \n",
            " 5   Duration               4800 non-null   int64  \n",
            " 6   Sex_M                  4800 non-null   uint8  \n",
            " 7   Married_1              4800 non-null   uint8  \n",
            " 8   City_East Jessetown    4800 non-null   uint8  \n",
            " 9   City_East Jill         4800 non-null   uint8  \n",
            " 10  City_Ericmouth         4800 non-null   uint8  \n",
            " 11  City_Herrerafurt       4800 non-null   uint8  \n",
            " 12  City_Jacquelineland    4800 non-null   uint8  \n",
            " 13  City_Lake Chad         4800 non-null   uint8  \n",
            " 14  City_Lake Debra        4800 non-null   uint8  \n",
            " 15  City_Lake Roberto      4800 non-null   uint8  \n",
            " 16  City_Lisatown          4800 non-null   uint8  \n",
            " 17  City_New Jessica       4800 non-null   uint8  \n",
            " 18  City_New Kellystad     4800 non-null   uint8  \n",
            " 19  City_New Roberttown    4800 non-null   uint8  \n",
            " 20  City_North Judithbury  4800 non-null   uint8  \n",
            " 21  City_North Noahstad    4800 non-null   uint8  \n",
            " 22  City_Port Jesseville   4800 non-null   uint8  \n",
            " 23  City_Port Keith        4800 non-null   uint8  \n",
            " 24  City_Ramirezstad       4800 non-null   uint8  \n",
            " 25  City_Robinsonshire     4800 non-null   uint8  \n",
            " 26  City_West Michael      4800 non-null   uint8  \n",
            " 27  Purpose_Education      4800 non-null   uint8  \n",
            " 28  Purpose_Household      4800 non-null   uint8  \n",
            " 29  Purpose_NewCar         4800 non-null   uint8  \n",
            " 30  Purpose_Other          4800 non-null   uint8  \n",
            " 31  Purpose_Repair         4800 non-null   uint8  \n",
            " 32  Purpose_UsedCar        4800 non-null   uint8  \n",
            " 33  Purpose_Vacation       4800 non-null   uint8  \n",
            " 34  ResidenceDuration_new  4800 non-null   float64\n",
            " 35  Duration_new           4800 non-null   float64\n",
            " 36  Amount_new             4800 non-null   float64\n",
            " 37  PreviousAccounts_new   4800 non-null   float64\n",
            "dtypes: float64(4), int64(6), uint8(28)\n",
            "memory usage: 543.8 KB\n"
          ]
        }
      ]
    },
    {
      "cell_type": "markdown",
      "metadata": {
        "id": "PsdD0clko5pz"
      },
      "source": [
        "## 3.3: Feature selection"
      ]
    },
    {
      "cell_type": "code",
      "metadata": {
        "id": "rxX2ERqzpqxi",
        "colab": {
          "base_uri": "https://localhost:8080/",
          "height": 0
        },
        "outputId": "73311f77-eb56-48d8-c222-c6366a0365f4"
      },
      "source": [
        "from sklearn.feature_selection import VarianceThreshold\n",
        "sel = VarianceThreshold(threshold=(0.1));\n",
        "sel = sel.fit(X_train1);\n",
        "\n",
        "X_train1 = sel.transform(X_train1)\n",
        "\n",
        "\n",
        "clf = DecisionTreeClassifier(random_state=0)\n",
        "clf = clf.fit(X_train1, y_train)\n",
        "\n",
        "scores=cross_val_score(clf, X_train1, y_train, cv=5,scoring= 'f1_micro')\n",
        "print(\"Mean Accuracy: {:.4f}\".format(np.mean(scores)))"
      ],
      "execution_count": 61,
      "outputs": [
        {
          "output_type": "stream",
          "name": "stdout",
          "text": [
            "Mean Accuracy: 0.7650\n"
          ]
        }
      ]
    },
    {
      "cell_type": "code",
      "source": [
        "from sklearn.datasets import make_friedman1\n",
        "from sklearn.feature_selection import RFE\n",
        "from sklearn.svm import SVR\n",
        "estimator = SVR(kernel=\"linear\")\n",
        "selector = RFE(estimator, n_features_to_select=5, step=1)\n",
        "selector = selector.fit(X_train1, y_train)\n",
        "selector.support_\n",
        "selector.ranking_"
      ],
      "metadata": {
        "colab": {
          "base_uri": "https://localhost:8080/",
          "height": 0
        },
        "id": "pWra40wFuOzi",
        "outputId": "06181914-901f-489b-8960-84c206bfb400"
      },
      "execution_count": 62,
      "outputs": [
        {
          "output_type": "execute_result",
          "data": {
            "text/plain": [
              "array([False, False,  True, False, False, False, False,  True, False,\n",
              "        True,  True,  True, False, False, False])"
            ]
          },
          "metadata": {},
          "execution_count": 62
        },
        {
          "output_type": "execute_result",
          "data": {
            "text/plain": [
              "array([10,  5,  1, 11,  8,  4,  3,  1,  7,  1,  1,  1,  6,  2,  9])"
            ]
          },
          "metadata": {},
          "execution_count": 62
        }
      ]
    },
    {
      "cell_type": "code",
      "source": [
        "X_train1_new = selector.transform(X_train1)\n"
      ],
      "metadata": {
        "id": "jZxSoNUob7qu"
      },
      "execution_count": 63,
      "outputs": []
    },
    {
      "cell_type": "code",
      "source": [
        "X_train1_new.shape"
      ],
      "metadata": {
        "colab": {
          "base_uri": "https://localhost:8080/",
          "height": 0
        },
        "id": "U9AXWLeBezeS",
        "outputId": "7f7d846f-52aa-4ade-bd57-7eefa84374c5"
      },
      "execution_count": 64,
      "outputs": [
        {
          "output_type": "execute_result",
          "data": {
            "text/plain": [
              "(4800, 5)"
            ]
          },
          "metadata": {},
          "execution_count": 64
        }
      ]
    },
    {
      "cell_type": "markdown",
      "metadata": {
        "id": "Ff4l2aNKo5fr"
      },
      "source": [
        "## 3.4: Hyperparameter tuning"
      ]
    },
    {
      "cell_type": "code",
      "metadata": {
        "id": "7XaxtTWMpIpP",
        "colab": {
          "base_uri": "https://localhost:8080/",
          "height": 0
        },
        "outputId": "8356bf97-4d71-4e78-b93e-679de2446e71"
      },
      "source": [
        "from sklearn.model_selection import RandomizedSearchCV\n",
        "from scipy.stats import randint, uniform\n",
        "\n",
        "clf = DecisionTreeClassifier(random_state=42)\n",
        "\n",
        "params = {\"criterion\": [\"gini\", \"entropy\"],\n",
        "          \"splitter\": [\"best\", \"random\"],\n",
        "          \"class_weight\": ['balanced', None], \n",
        "          \"max_depth\": randint(2, 21),\n",
        "          \"min_samples_leaf\": randint(1, 11),\n",
        "          \"max_features\": uniform(0.0, 1.0)}\n",
        "\n",
        "search = RandomizedSearchCV(clf, param_distributions=params, n_iter=1000, scoring='f1_macro', cv=10, verbose=1)\n",
        "search = search.fit(X_train1 , y_train)"
      ],
      "execution_count": 65,
      "outputs": [
        {
          "output_type": "stream",
          "name": "stdout",
          "text": [
            "Fitting 10 folds for each of 1000 candidates, totalling 10000 fits\n"
          ]
        }
      ]
    },
    {
      "cell_type": "code",
      "source": [
        "Params = search.best_params_"
      ],
      "metadata": {
        "id": "iMGN6EDDcDlw"
      },
      "execution_count": 66,
      "outputs": []
    },
    {
      "cell_type": "code",
      "source": [
        "Params "
      ],
      "metadata": {
        "colab": {
          "base_uri": "https://localhost:8080/",
          "height": 0
        },
        "id": "CjV-xtObcFxR",
        "outputId": "7dcba069-65a8-4afe-ac4b-7faabdd81a04"
      },
      "execution_count": 67,
      "outputs": [
        {
          "output_type": "execute_result",
          "data": {
            "text/plain": [
              "{'class_weight': None,\n",
              " 'criterion': 'entropy',\n",
              " 'max_depth': 3,\n",
              " 'max_features': 0.9585018983832518,\n",
              " 'min_samples_leaf': 4,\n",
              " 'splitter': 'best'}"
            ]
          },
          "metadata": {},
          "execution_count": 67
        }
      ]
    },
    {
      "cell_type": "code",
      "source": [
        "clf = DecisionTreeClassifier(**Params, random_state=0)\n",
        "scores=cross_val_score(clf, X_train1_new, y_train, cv=5,scoring= 'f1_micro')\n",
        "print(\"Mean Accuracy: {:.4f}\".format(np.mean(scores)))"
      ],
      "metadata": {
        "colab": {
          "base_uri": "https://localhost:8080/",
          "height": 0
        },
        "id": "xwYNXsOBcKXM",
        "outputId": "d6027337-e96e-4ea0-85c1-f3917f87f4cd"
      },
      "execution_count": 68,
      "outputs": [
        {
          "output_type": "stream",
          "name": "stdout",
          "text": [
            "Mean Accuracy: 0.8283\n"
          ]
        }
      ]
    },
    {
      "cell_type": "markdown",
      "metadata": {
        "id": "Te9gGGLEpXRG"
      },
      "source": [
        "## 3.5: Performance estimation"
      ]
    },
    {
      "cell_type": "code",
      "metadata": {
        "id": "YV_35bEupbfs"
      },
      "source": [
        "X_test=X_test.drop(labels=['UserID','FirstName','LastName','LicensePlate','Street','DateOfBirth'],axis=1)"
      ],
      "execution_count": 69,
      "outputs": []
    },
    {
      "cell_type": "code",
      "source": [
        "X_test.info()"
      ],
      "metadata": {
        "colab": {
          "base_uri": "https://localhost:8080/",
          "height": 0
        },
        "id": "L7srCgd-cWMX",
        "outputId": "5c29bcea-4869-4291-e484-18d2a0fff252"
      },
      "execution_count": 70,
      "outputs": [
        {
          "output_type": "stream",
          "name": "stdout",
          "text": [
            "<class 'pandas.core.frame.DataFrame'>\n",
            "Int64Index: 1200 entries, 1782 to 1765\n",
            "Data columns (total 10 columns):\n",
            " #   Column             Non-Null Count  Dtype \n",
            "---  ------             --------------  ----- \n",
            " 0   Sex                1200 non-null   object\n",
            " 1   PreviousDefault    1200 non-null   int64 \n",
            " 2   NumberPets         1200 non-null   int64 \n",
            " 3   PreviousAccounts   1200 non-null   int64 \n",
            " 4   ResidenceDuration  1200 non-null   int64 \n",
            " 5   Amount             1200 non-null   int64 \n",
            " 6   Married            1200 non-null   int64 \n",
            " 7   Duration           1200 non-null   int64 \n",
            " 8   City               1200 non-null   object\n",
            " 9   Purpose            1200 non-null   object\n",
            "dtypes: int64(7), object(3)\n",
            "memory usage: 103.1+ KB\n"
          ]
        }
      ]
    },
    {
      "cell_type": "code",
      "source": [
        "X_test['Married']= X_test['Married'].astype(\"object\")"
      ],
      "metadata": {
        "id": "jAwhxwRXcYiz"
      },
      "execution_count": 71,
      "outputs": []
    },
    {
      "cell_type": "code",
      "source": [
        "categorical_values_t = X_test.select_dtypes(include=['object'])\n",
        "print(\"Categorical Variables\")\n",
        "categorical_values.columns"
      ],
      "metadata": {
        "colab": {
          "base_uri": "https://localhost:8080/",
          "height": 0
        },
        "id": "n3ciPsLNcZNP",
        "outputId": "8569e2e5-05cb-4249-88e5-aa4e4a3f3df3"
      },
      "execution_count": 72,
      "outputs": [
        {
          "output_type": "stream",
          "name": "stdout",
          "text": [
            "Categorical Variables\n"
          ]
        },
        {
          "output_type": "execute_result",
          "data": {
            "text/plain": [
              "Index(['Sex', 'Married', 'City', 'Purpose'], dtype='object')"
            ]
          },
          "metadata": {},
          "execution_count": 72
        }
      ]
    },
    {
      "cell_type": "code",
      "source": [
        "numeric_values_t = X_test.select_dtypes(include=['int64'])\n",
        "print(\"Numeric Variables\")\n",
        "numeric_values.columns"
      ],
      "metadata": {
        "colab": {
          "base_uri": "https://localhost:8080/",
          "height": 0
        },
        "id": "c46ynuuKcbhC",
        "outputId": "c970d6d3-afa7-42df-8c6f-582010a2d12c"
      },
      "execution_count": 73,
      "outputs": [
        {
          "output_type": "stream",
          "name": "stdout",
          "text": [
            "Numeric Variables\n"
          ]
        },
        {
          "output_type": "execute_result",
          "data": {
            "text/plain": [
              "Index(['PreviousDefault', 'NumberPets', 'PreviousAccounts',\n",
              "       'ResidenceDuration', 'Amount', 'Duration'],\n",
              "      dtype='object')"
            ]
          },
          "metadata": {},
          "execution_count": 73
        }
      ]
    },
    {
      "cell_type": "code",
      "source": [
        "categorical_encoded_t = pd.get_dummies(categorical_values_t, drop_first=True)\n",
        "categorical_encoded_t.dtypes"
      ],
      "metadata": {
        "colab": {
          "base_uri": "https://localhost:8080/",
          "height": 0
        },
        "id": "SiZUNwuscbqh",
        "outputId": "d57385d9-e636-4a62-8ac8-30048aa3a194"
      },
      "execution_count": 74,
      "outputs": [
        {
          "output_type": "execute_result",
          "data": {
            "text/plain": [
              "Sex_M                    uint8\n",
              "Married_1                uint8\n",
              "City_East Jessetown      uint8\n",
              "City_East Jill           uint8\n",
              "City_Ericmouth           uint8\n",
              "City_Herrerafurt         uint8\n",
              "City_Jacquelineland      uint8\n",
              "City_Lake Chad           uint8\n",
              "City_Lake Debra          uint8\n",
              "City_Lake Roberto        uint8\n",
              "City_Lisatown            uint8\n",
              "City_New Jessica         uint8\n",
              "City_New Kellystad       uint8\n",
              "City_New Roberttown      uint8\n",
              "City_North Judithbury    uint8\n",
              "City_North Noahstad      uint8\n",
              "City_Port Jesseville     uint8\n",
              "City_Port Keith          uint8\n",
              "City_Ramirezstad         uint8\n",
              "City_Robinsonshire       uint8\n",
              "City_West Michael        uint8\n",
              "Purpose_Education        uint8\n",
              "Purpose_Household        uint8\n",
              "Purpose_NewCar           uint8\n",
              "Purpose_Other            uint8\n",
              "Purpose_Repair           uint8\n",
              "Purpose_UsedCar          uint8\n",
              "Purpose_Vacation         uint8\n",
              "dtype: object"
            ]
          },
          "metadata": {},
          "execution_count": 74
        }
      ]
    },
    {
      "cell_type": "code",
      "source": [
        "X_test=pd.concat([numeric_values_t, categorical_encoded_t], axis=1)\n"
      ],
      "metadata": {
        "id": "Vi74haDQckc-"
      },
      "execution_count": 75,
      "outputs": []
    },
    {
      "cell_type": "code",
      "source": [
        "X_test.info()"
      ],
      "metadata": {
        "colab": {
          "base_uri": "https://localhost:8080/",
          "height": 0
        },
        "id": "aZ7DRoTxclJC",
        "outputId": "fc0cc86a-993e-4ede-fe7d-1d93f650c059"
      },
      "execution_count": 76,
      "outputs": [
        {
          "output_type": "stream",
          "name": "stdout",
          "text": [
            "<class 'pandas.core.frame.DataFrame'>\n",
            "Int64Index: 1200 entries, 1782 to 1765\n",
            "Data columns (total 34 columns):\n",
            " #   Column                 Non-Null Count  Dtype\n",
            "---  ------                 --------------  -----\n",
            " 0   PreviousDefault        1200 non-null   int64\n",
            " 1   NumberPets             1200 non-null   int64\n",
            " 2   PreviousAccounts       1200 non-null   int64\n",
            " 3   ResidenceDuration      1200 non-null   int64\n",
            " 4   Amount                 1200 non-null   int64\n",
            " 5   Duration               1200 non-null   int64\n",
            " 6   Sex_M                  1200 non-null   uint8\n",
            " 7   Married_1              1200 non-null   uint8\n",
            " 8   City_East Jessetown    1200 non-null   uint8\n",
            " 9   City_East Jill         1200 non-null   uint8\n",
            " 10  City_Ericmouth         1200 non-null   uint8\n",
            " 11  City_Herrerafurt       1200 non-null   uint8\n",
            " 12  City_Jacquelineland    1200 non-null   uint8\n",
            " 13  City_Lake Chad         1200 non-null   uint8\n",
            " 14  City_Lake Debra        1200 non-null   uint8\n",
            " 15  City_Lake Roberto      1200 non-null   uint8\n",
            " 16  City_Lisatown          1200 non-null   uint8\n",
            " 17  City_New Jessica       1200 non-null   uint8\n",
            " 18  City_New Kellystad     1200 non-null   uint8\n",
            " 19  City_New Roberttown    1200 non-null   uint8\n",
            " 20  City_North Judithbury  1200 non-null   uint8\n",
            " 21  City_North Noahstad    1200 non-null   uint8\n",
            " 22  City_Port Jesseville   1200 non-null   uint8\n",
            " 23  City_Port Keith        1200 non-null   uint8\n",
            " 24  City_Ramirezstad       1200 non-null   uint8\n",
            " 25  City_Robinsonshire     1200 non-null   uint8\n",
            " 26  City_West Michael      1200 non-null   uint8\n",
            " 27  Purpose_Education      1200 non-null   uint8\n",
            " 28  Purpose_Household      1200 non-null   uint8\n",
            " 29  Purpose_NewCar         1200 non-null   uint8\n",
            " 30  Purpose_Other          1200 non-null   uint8\n",
            " 31  Purpose_Repair         1200 non-null   uint8\n",
            " 32  Purpose_UsedCar        1200 non-null   uint8\n",
            " 33  Purpose_Vacation       1200 non-null   uint8\n",
            "dtypes: int64(6), uint8(28)\n",
            "memory usage: 98.4 KB\n"
          ]
        }
      ]
    },
    {
      "cell_type": "code",
      "source": [
        "from sklearn.preprocessing import StandardScaler\n",
        "\n",
        "scaler = StandardScaler()\n",
        "scaler.fit(X_test[['ResidenceDuration']])\n",
        "\n",
        "X_test['ResidenceDuration_new'] = scaler.transform(X_test[['ResidenceDuration']])  "
      ],
      "metadata": {
        "colab": {
          "base_uri": "https://localhost:8080/",
          "height": 0
        },
        "id": "mE1mdeUbclQz",
        "outputId": "1ad6d8cc-be84-4cf2-c21a-c71695b517fb"
      },
      "execution_count": 77,
      "outputs": [
        {
          "output_type": "execute_result",
          "data": {
            "text/plain": [
              "StandardScaler()"
            ]
          },
          "metadata": {},
          "execution_count": 77
        }
      ]
    },
    {
      "cell_type": "code",
      "source": [
        "from sklearn.preprocessing import MinMaxScaler\n",
        "\n",
        "scaler = MinMaxScaler()\n",
        "scaler.fit(X_test[['Duration']])\n",
        "\n",
        "X_test['Duration_new'] = scaler.transform(X_test[['Duration']])   \n"
      ],
      "metadata": {
        "colab": {
          "base_uri": "https://localhost:8080/",
          "height": 0
        },
        "id": "8XYrhfslcrI3",
        "outputId": "20bd8ab2-977a-457d-8c33-5846a5437c80"
      },
      "execution_count": 78,
      "outputs": [
        {
          "output_type": "execute_result",
          "data": {
            "text/plain": [
              "MinMaxScaler()"
            ]
          },
          "metadata": {},
          "execution_count": 78
        }
      ]
    },
    {
      "cell_type": "code",
      "source": [
        "from sklearn.preprocessing import PowerTransformer\n",
        "\n",
        "scaler = PowerTransformer(method='box-cox')\n",
        "scaler.fit(X_test[['Amount']])\n",
        "X_test['Amount_new'] = scaler.transform(X_test[['Amount']])  "
      ],
      "metadata": {
        "colab": {
          "base_uri": "https://localhost:8080/",
          "height": 0
        },
        "id": "Bh_y9hIEcrSO",
        "outputId": "ac1898a4-36aa-49e9-825d-10e2076edba4"
      },
      "execution_count": 79,
      "outputs": [
        {
          "output_type": "execute_result",
          "data": {
            "text/plain": [
              "PowerTransformer(method='box-cox')"
            ]
          },
          "metadata": {},
          "execution_count": 79
        }
      ]
    },
    {
      "cell_type": "code",
      "source": [
        "from sklearn.preprocessing import PowerTransformer\n",
        "\n",
        "scaler = PowerTransformer(method='yeo-johnson')\n",
        "scaler.fit(X_test[['PreviousAccounts']])\n",
        "X_test['PreviousAccounts_new'] = scaler.transform(X_test[['PreviousAccounts']]) "
      ],
      "metadata": {
        "colab": {
          "base_uri": "https://localhost:8080/",
          "height": 0
        },
        "id": "oNDGCXUxfQfN",
        "outputId": "5ecc65e8-afb5-4047-dd94-bcfd68013366"
      },
      "execution_count": 80,
      "outputs": [
        {
          "output_type": "execute_result",
          "data": {
            "text/plain": [
              "PowerTransformer()"
            ]
          },
          "metadata": {},
          "execution_count": 80
        }
      ]
    },
    {
      "cell_type": "code",
      "source": [
        "X_test.info()"
      ],
      "metadata": {
        "colab": {
          "base_uri": "https://localhost:8080/",
          "height": 0
        },
        "id": "qkxgoMHomnw5",
        "outputId": "e91500a0-5677-4c8e-d823-e455661b4f56"
      },
      "execution_count": 81,
      "outputs": [
        {
          "output_type": "stream",
          "name": "stdout",
          "text": [
            "<class 'pandas.core.frame.DataFrame'>\n",
            "Int64Index: 1200 entries, 1782 to 1765\n",
            "Data columns (total 38 columns):\n",
            " #   Column                 Non-Null Count  Dtype  \n",
            "---  ------                 --------------  -----  \n",
            " 0   PreviousDefault        1200 non-null   int64  \n",
            " 1   NumberPets             1200 non-null   int64  \n",
            " 2   PreviousAccounts       1200 non-null   int64  \n",
            " 3   ResidenceDuration      1200 non-null   int64  \n",
            " 4   Amount                 1200 non-null   int64  \n",
            " 5   Duration               1200 non-null   int64  \n",
            " 6   Sex_M                  1200 non-null   uint8  \n",
            " 7   Married_1              1200 non-null   uint8  \n",
            " 8   City_East Jessetown    1200 non-null   uint8  \n",
            " 9   City_East Jill         1200 non-null   uint8  \n",
            " 10  City_Ericmouth         1200 non-null   uint8  \n",
            " 11  City_Herrerafurt       1200 non-null   uint8  \n",
            " 12  City_Jacquelineland    1200 non-null   uint8  \n",
            " 13  City_Lake Chad         1200 non-null   uint8  \n",
            " 14  City_Lake Debra        1200 non-null   uint8  \n",
            " 15  City_Lake Roberto      1200 non-null   uint8  \n",
            " 16  City_Lisatown          1200 non-null   uint8  \n",
            " 17  City_New Jessica       1200 non-null   uint8  \n",
            " 18  City_New Kellystad     1200 non-null   uint8  \n",
            " 19  City_New Roberttown    1200 non-null   uint8  \n",
            " 20  City_North Judithbury  1200 non-null   uint8  \n",
            " 21  City_North Noahstad    1200 non-null   uint8  \n",
            " 22  City_Port Jesseville   1200 non-null   uint8  \n",
            " 23  City_Port Keith        1200 non-null   uint8  \n",
            " 24  City_Ramirezstad       1200 non-null   uint8  \n",
            " 25  City_Robinsonshire     1200 non-null   uint8  \n",
            " 26  City_West Michael      1200 non-null   uint8  \n",
            " 27  Purpose_Education      1200 non-null   uint8  \n",
            " 28  Purpose_Household      1200 non-null   uint8  \n",
            " 29  Purpose_NewCar         1200 non-null   uint8  \n",
            " 30  Purpose_Other          1200 non-null   uint8  \n",
            " 31  Purpose_Repair         1200 non-null   uint8  \n",
            " 32  Purpose_UsedCar        1200 non-null   uint8  \n",
            " 33  Purpose_Vacation       1200 non-null   uint8  \n",
            " 34  ResidenceDuration_new  1200 non-null   float64\n",
            " 35  Duration_new           1200 non-null   float64\n",
            " 36  Amount_new             1200 non-null   float64\n",
            " 37  PreviousAccounts_new   1200 non-null   float64\n",
            "dtypes: float64(4), int64(6), uint8(28)\n",
            "memory usage: 135.9 KB\n"
          ]
        }
      ]
    },
    {
      "cell_type": "code",
      "source": [
        "from sklearn.feature_selection import VarianceThreshold\n",
        "sel = VarianceThreshold(threshold=(0.1));\n",
        "sel = sel.fit(X_test);\n",
        "\n",
        "X_test1 = sel.transform(X_test)\n",
        "\n",
        "\n",
        "clf = DecisionTreeClassifier(random_state=0)\n",
        "clf = clf.fit(X_test1, y_test)\n",
        "\n",
        "scores=cross_val_score(clf, X_test1, y_test, cv=5,scoring= 'f1_micro')\n",
        "print(\"Mean Accuracy: {:.4f}\".format(np.mean(scores)))"
      ],
      "metadata": {
        "colab": {
          "base_uri": "https://localhost:8080/",
          "height": 0
        },
        "id": "-4byXLS5wsSI",
        "outputId": "36ea3d8e-3687-4800-aec3-0a6742fa2fbf"
      },
      "execution_count": 82,
      "outputs": [
        {
          "output_type": "stream",
          "name": "stdout",
          "text": [
            "Mean Accuracy: 0.7700\n"
          ]
        }
      ]
    },
    {
      "cell_type": "code",
      "source": [
        "from sklearn.datasets import make_friedman1\n",
        "from sklearn.feature_selection import RFE\n",
        "from sklearn.svm import SVR\n",
        "estimator = SVR(kernel=\"linear\")\n",
        "selector = RFE(estimator, n_features_to_select=5, step=1)\n",
        "selector = selector.fit(X_test1, y_test)\n",
        "selector.support_\n",
        "selector.ranking_"
      ],
      "metadata": {
        "colab": {
          "base_uri": "https://localhost:8080/",
          "height": 0
        },
        "id": "tYU1Kzubw9Sd",
        "outputId": "8c2a726a-2bd5-4fe1-cfb6-1655c65f7cc4"
      },
      "execution_count": 83,
      "outputs": [
        {
          "output_type": "execute_result",
          "data": {
            "text/plain": [
              "array([False,  True,  True, False, False, False,  True, False, False,\n",
              "       False, False, False, False, False,  True,  True])"
            ]
          },
          "metadata": {},
          "execution_count": 83
        },
        {
          "output_type": "execute_result",
          "data": {
            "text/plain": [
              "array([10,  1,  1, 12,  9,  7,  1,  8,  4,  5,  2,  3,  6, 11,  1,  1])"
            ]
          },
          "metadata": {},
          "execution_count": 83
        }
      ]
    },
    {
      "cell_type": "code",
      "source": [
        "X_test1_new = selector.transform(X_test1)"
      ],
      "metadata": {
        "id": "uc17QrS3vp7S"
      },
      "execution_count": 84,
      "outputs": []
    },
    {
      "cell_type": "code",
      "source": [
        "X_test1_new.shape"
      ],
      "metadata": {
        "colab": {
          "base_uri": "https://localhost:8080/",
          "height": 0
        },
        "id": "ASNNF-cXxPAY",
        "outputId": "de3ccaca-5851-441b-84f9-88263eb7ff2d"
      },
      "execution_count": 85,
      "outputs": [
        {
          "output_type": "execute_result",
          "data": {
            "text/plain": [
              "(1200, 5)"
            ]
          },
          "metadata": {},
          "execution_count": 85
        }
      ]
    },
    {
      "cell_type": "code",
      "source": [
        "from sklearn.metrics import f1_score\n",
        "clf = DecisionTreeClassifier(class_weight='balanced',\n",
        " criterion='gini',\n",
        " max_depth=2,\n",
        " max_features=0.8557335335899457,\n",
        " min_samples_leaf=10,\n",
        " splitter='random')\n",
        "clf.fit(X_train1_new, y_train)\n",
        "\n",
        "y_pred = clf.predict(X_test1_new)"
      ],
      "metadata": {
        "colab": {
          "base_uri": "https://localhost:8080/",
          "height": 0
        },
        "id": "ac2V9Kbri23I",
        "outputId": "50f115f7-c3c5-42f9-9f25-7ed097286d75"
      },
      "execution_count": 86,
      "outputs": [
        {
          "output_type": "execute_result",
          "data": {
            "text/plain": [
              "DecisionTreeClassifier(class_weight='balanced', max_depth=2,\n",
              "                       max_features=0.8557335335899457, min_samples_leaf=10,\n",
              "                       splitter='random')"
            ]
          },
          "metadata": {},
          "execution_count": 86
        }
      ]
    },
    {
      "cell_type": "code",
      "source": [
        "from sklearn.metrics import f1_score\n",
        "clf = DecisionTreeClassifier(class_weight=None,\n",
        " criterion='entropy',\n",
        " max_depth=3,\n",
        " max_features=0.9585018983832518,\n",
        " min_samples_leaf= 4,\n",
        " splitter='best')\n",
        "clf.fit(X_train1_new, y_train)\n",
        "\n",
        "y_pred = clf.predict(X_test1_new)"
      ],
      "metadata": {
        "colab": {
          "base_uri": "https://localhost:8080/",
          "height": 0
        },
        "id": "3UzhI8Pn6hbh",
        "outputId": "072522c2-681c-41a0-b3ac-b3227c8635b1"
      },
      "execution_count": 88,
      "outputs": [
        {
          "output_type": "execute_result",
          "data": {
            "text/plain": [
              "DecisionTreeClassifier(criterion='entropy', max_depth=3,\n",
              "                       max_features=0.9585018983832518, min_samples_leaf=4)"
            ]
          },
          "metadata": {},
          "execution_count": 88
        }
      ]
    },
    {
      "cell_type": "code",
      "source": [
        "clf = DecisionTreeClassifier(random_state=0)\n",
        "scores=cross_val_score(clf, X_test1_new, y_test, cv=5,scoring= 'f1_micro')\n",
        "print(\"Mean Accuracy: {:.4f}\".format(np.mean(scores)))"
      ],
      "metadata": {
        "colab": {
          "base_uri": "https://localhost:8080/",
          "height": 0
        },
        "id": "JLKvKFVWdEZV",
        "outputId": "a361413d-bda1-4130-c14e-48833badcc6c"
      },
      "execution_count": 89,
      "outputs": [
        {
          "output_type": "stream",
          "name": "stdout",
          "text": [
            "Mean Accuracy: 0.7733\n"
          ]
        }
      ]
    },
    {
      "cell_type": "markdown",
      "metadata": {
        "id": "bPiErnUaTQSk"
      },
      "source": [
        "# Question 4: Uncle Steve's Wind Farm"
      ]
    },
    {
      "cell_type": "markdown",
      "metadata": {
        "id": "NzLLQCmKTk9E"
      },
      "source": [
        "## Instructions\n",
        "\n",
        "\n",
        "Uncle Steve has invested in wind. He's built a BIG wind farm with a total of  700 turbines. He's been running the farm for a couple of years now and things are going well. He sells the power generated by the farm to the Kingston government and makes a tidy profit. And, of course, he has been gathering data about the turbines' operations.\n",
        "\n",
        "One area of concern, however, is the cost of maintenece. While the turbines are fairly robust, it seems like one breaks/fails every couple of days. When a turbine fails, it usually costs around \\$20,000 to repair it. Yikes!\n",
        "\n",
        "Currently, Uncle Steve is not doing any preventative maintenance. He just waits until a turbine fails, and then he fixes it. But Uncle Steve has recently learned that if he services a turbine *before* it fails, it will only cost around $2,000. \n",
        "\n",
        "Obviously, there is a potential to save a lot of money here. But first, Uncle Steve would need to figure out *which* turbines are about to fail. Uncle Steve being Uncle Steve, he wants to use ML to build a predictive maintenance model. The model will alert Uncle Steve to potential turbine failures before they happen, giving Uncle Steve a chance to perform an inspection on the turbine and then fix the turbine before it fails. Uncle Steve plans to run the model every morning. For all the turbines that the model predicts will fail, Uncle Steve will order an inspection (which cost a flat \\$500, no matter if the turbine was in good health or not; the \\$500 would not be part of the $2,000 service cost). For the rest of the turbines, Uncle Steve will do nothing.\n",
        "\n",
        "Uncle Steve has used the last few year's worth of operation data to build and assess a model to predict which turbines will fail on any given day. (The data includes useful features like sensor readings, power output, weather, and many more, but those are not important for now.) In fact, he didn't stop there: he built and assessed two models. One model uses using deep learning (in this case, RNNs), and the other uses random forests.\n",
        "\n",
        "He's tuned the bejeebers out of each model and is comfortable that he has found the best-performing version of each. Both models seem really good: both have accuracy scores > 99%. The RNN has better recall, but Uncle Steve is convinced that the random forest model will be better for him since it has better precision. Just to be sure, he has hired you to double check his calculations. \n",
        "\n",
        "**Your task**\n",
        "\n",
        " Which model will save Uncle Steve more money? Justify.\n",
        "\n",
        "\n",
        "In addition to the details above, here is the assessment of each model:\n",
        "\n",
        "- Confusion matrix for the random forest:\n",
        "\n",
        "|         | Predicted Fail           | Predicted No Fail  |\n",
        "| ------------- |------------| -----:|\n",
        "| **Actual Fail**      | 201 | 55 |\n",
        "| **Actual No Fail**   | 50 | 255195 |\n",
        "\n",
        "- Confusion matrix for the RNN:\n",
        "\n",
        "|         | Predicted Fail           | Predicted No Fail  |\n",
        "| ------------- |------------| -----:|\n",
        "| **Actual Fail**      | 226 | 30 |\n",
        "| **Actual No Fail**   | 1200 | 254045 |\n",
        "\n",
        "\n",
        "**Marking**\n",
        "\n",
        "- *Quality*. Response is well-justified and convincing. \n",
        "- *Style*. Response uses proper grammar, spelling, and punctuation. Response is clear and professional. Response is complete, but not overly-verbose. Response follows length guidelines.\n",
        "\n",
        "\n",
        "\n",
        "**Tips**\n",
        "\n",
        "- Figure out how much Uncle Steve is currently (i.e., without any predictive maintinance models) paying in maintenance costs.\n",
        "- Use the information provided above to create a cost matrix.\n",
        "- Use the cost matrix and the confusion matrices to determine the costs of each model.\n",
        "- The cost of an inspection is the same, no matter if the turbine is in good condition or is about to fail.\n",
        "- If the inspection determines that a turbine is about to fail, then it will be fixed right then and there for the additional fee.\n",
        "- For simplicity, assume the inspections are perfect: i.e., that inspecting a turbine will definitely catch any problems that might exist, and won't accidentally flag an otherwise-healthy turbine.\n",
        "\n"
      ]
    },
    {
      "cell_type": "markdown",
      "metadata": {
        "id": "nAf1SIeKTkfl"
      },
      "source": [
        "Solutions:\n",
        "\n",
        "\n",
        "\n",
        "Cost Matrix:\n",
        "\n",
        "|         | Predicted Fail Cost          | Predicted No Fail Cost  |\n",
        "| ------------- |------------| -----:|\n",
        "| **Actual Fail Cost**      | 2500 | 20000 |\n",
        "| **Actual No Fail Cost**   | 500 | 0 |\n",
        "\n",
        "----------------------------------------------\n",
        "\n",
        "- Confusion matrix for the random forest:\n",
        "\n",
        "|         | Predicted Fail           | Predicted No Fail  |\n",
        "| ------------- |------------| -----:|\n",
        "| **Actual Fail**      | 201 | 55 |\n",
        "| **Actual No Fail**   | 50 | 255195 |\n",
        "\n",
        "\n",
        "Accuracy: 201 + 255195 / 201 + 55 + 500 + 255195 = 255396/255501=0.9996\n",
        "\n",
        "Cost:201 X 2500 + 55 X 20000 + 50 X 500 + 0 = 1627500\n",
        "\n",
        "-----------------------------------------------\n",
        "\n",
        "\n",
        "\n",
        "\n",
        "- Confusion matrix for the RNN:\n",
        "\n",
        "|         | Predicted Fail           | Predicted No Fail  |\n",
        "| ------------- |------------| -----:|\n",
        "| **Actual Fail**      | 226 | 30 |\n",
        "| **Actual No Fail**   | 1200 | 254045 |\n",
        "\n",
        "\n",
        "Accuracy: 226 + 254045 / 226 + 30 + 1200 + 254045 = 254271/255501=0.9952\n",
        "\n",
        "Cost: 226 X 2500 + 30 X 20000 + 1200 X 500 + 0 = 1765000\n",
        "\n",
        "\n",
        "Conclusion:\n",
        "\n",
        "Based on our calculations, randome forest will save cost 1765000-1627500=137500 and also come with high accuracy, its a huge money,Uncle Steve should go for the Random Forest prediction\n"
      ]
    }
  ]
}